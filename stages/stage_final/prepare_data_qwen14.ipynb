{
 "cells": [
  {
   "cell_type": "code",
   "execution_count": 1,
   "metadata": {},
   "outputs": [
    {
     "name": "stderr",
     "output_type": "stream",
     "text": [
      "/home/user/.local/lib/python3.11/site-packages/tqdm/auto.py:21: TqdmWarning: IProgress not found. Please update jupyter and ipywidgets. See https://ipywidgets.readthedocs.io/en/stable/user_install.html\n",
      "  from .autonotebook import tqdm as notebook_tqdm\n"
     ]
    }
   ],
   "source": [
    "import os\n",
    "from time import time\n",
    "import numpy as np\n",
    "import pandas as pd\n",
    "from tqdm.auto import tqdm\n",
    "from datasets import Dataset, DatasetDict\n",
    "from transformers import AutoTokenizer\n",
    "from huggingface_hub import login\n",
    "from sklearn.model_selection import StratifiedKFold, KFold\n",
    "tqdm.pandas()\n",
    "\n",
    "# Change the working directory to the directory containing the script\n",
    "os.chdir(\"/group-volume/binfeng/wsdm/stage_distill\")\n",
    "from utils import *\n"
   ]
  },
  {
   "cell_type": "code",
   "execution_count": 2,
   "metadata": {},
   "outputs": [],
   "source": [
    "MODEL_PATH = \"Qwen/Qwen2.5-14B-Instruct\"\n",
    "MAX_LENGTH = 2000\n",
    "MAX_PROMPT_LENGTH = 400"
   ]
  },
  {
   "cell_type": "markdown",
   "metadata": {},
   "source": [
    "## Tokenizer"
   ]
  },
  {
   "cell_type": "code",
   "execution_count": 3,
   "metadata": {},
   "outputs": [
    {
     "data": {
      "text/plain": [
       "('/group-volume/binfeng/wsdm/tokenizer/qwen14b/tokenizer_config.json',\n",
       " '/group-volume/binfeng/wsdm/tokenizer/qwen14b/special_tokens_map.json',\n",
       " '/group-volume/binfeng/wsdm/tokenizer/qwen14b/vocab.json',\n",
       " '/group-volume/binfeng/wsdm/tokenizer/qwen14b/merges.txt',\n",
       " '/group-volume/binfeng/wsdm/tokenizer/qwen14b/added_tokens.json',\n",
       " '/group-volume/binfeng/wsdm/tokenizer/qwen14b/tokenizer.json')"
      ]
     },
     "execution_count": 3,
     "metadata": {},
     "output_type": "execute_result"
    }
   ],
   "source": [
    "tokenizer = AutoTokenizer.from_pretrained(MODEL_PATH)\n",
    "tokenizer.pad_token = tokenizer.eos_token\n",
    "tokenizer.padding_side = 'right'\n",
    "tokenizer.save_pretrained(\"/group-volume/binfeng/wsdm/tokenizer/qwen14b\")"
   ]
  },
  {
   "cell_type": "markdown",
   "metadata": {},
   "source": [
    "## Prepare Data"
   ]
  },
  {
   "cell_type": "code",
   "execution_count": 4,
   "metadata": {},
   "outputs": [
    {
     "name": "stdout",
     "output_type": "stream",
     "text": [
      "47952 485\n"
     ]
    },
    {
     "name": "stderr",
     "output_type": "stream",
     "text": [
      "/home/user/.local/lib/python3.11/site-packages/sklearn/model_selection/_split.py:805: UserWarning: The least populated class in y has only 1 members, which is less than n_splits=100.\n",
      "  warnings.warn(\n"
     ]
    }
   ],
   "source": [
    "ft = pd.read_parquet(\"/group-volume/binfeng/wsdm/stage_final/data/ft48k_calibrated.parquet\")\n",
    "ft.dropna(inplace=True)\n",
    "ft[\"text\"] = ft.apply(lambda x: format_text(tokenizer, x.prompt, x.response_a, x.response_b, \n",
    "                                                max_len=MAX_LENGTH, max_prompt_len=MAX_PROMPT_LENGTH), axis=1)\n",
    "ft[\"label\"] = ft.apply(lambda x: format_label(x.winner), axis=1)\n",
    "\n",
    "skf = StratifiedKFold(n_splits=100, shuffle=True, random_state=666)\n",
    "for train_index, val_index in skf.split(ft, ft[\"language\"]):\n",
    "    ft_train, ft_val = ft.iloc[train_index], ft.iloc[val_index]\n",
    "    print(len(ft_train), len(ft_val))\n",
    "    break\n"
   ]
  },
  {
   "cell_type": "code",
   "execution_count": 5,
   "metadata": {},
   "outputs": [
    {
     "name": "stdout",
     "output_type": "stream",
     "text": [
      "194826 1968\n"
     ]
    }
   ],
   "source": [
    "ppt = pd.read_parquet(\"/group-volume/binfeng/wsdm/stage_final/data/ppt196k_calibrated.parquet\")\n",
    "ppt.dropna(inplace=True)\n",
    "ppt[\"text\"] = ppt.apply(lambda x: format_text(tokenizer, x.prompt, x.response_a, x.response_b, \n",
    "                                                max_len=MAX_LENGTH, max_prompt_len=MAX_PROMPT_LENGTH), axis=1)\n",
    "ppt[\"label\"] = ppt.apply(lambda x: format_label(x.winner), axis=1)\n",
    "\n",
    "kf = KFold(n_splits=100, shuffle=True, random_state=10)\n",
    "for train_index, val_index in kf.split(ppt):\n",
    "    ppt_train, ppt_val = ppt.iloc[train_index], ppt.iloc[val_index]\n",
    "    print(len(ppt_train), len(ppt_val))\n",
    "    break\n"
   ]
  },
  {
   "cell_type": "markdown",
   "metadata": {},
   "source": [
    "## Dataloader"
   ]
  },
  {
   "cell_type": "code",
   "execution_count": 6,
   "metadata": {},
   "outputs": [
    {
     "name": "stderr",
     "output_type": "stream",
     "text": [
      "Map: 100%|██████████| 194826/194826 [02:02<00:00, 1587.99 examples/s]\n",
      "Map: 100%|██████████| 1968/1968 [00:01<00:00, 1692.45 examples/s]\n",
      "Map: 100%|██████████| 47952/47952 [00:32<00:00, 1459.06 examples/s]\n",
      "Map: 100%|██████████| 485/485 [00:00<00:00, 1446.77 examples/s]\n"
     ]
    },
    {
     "data": {
      "text/plain": [
       "DatasetDict({\n",
       "    ppt_train: Dataset({\n",
       "        features: ['labels', 'logits_qwencd_cali', 'logits_qwen32_cali', 'input_ids', 'attention_mask'],\n",
       "        num_rows: 194826\n",
       "    })\n",
       "    ppt_val: Dataset({\n",
       "        features: ['labels', 'logits_qwencd_cali', 'logits_qwen32_cali', 'input_ids', 'attention_mask'],\n",
       "        num_rows: 1968\n",
       "    })\n",
       "    ft_train: Dataset({\n",
       "        features: ['labels', 'logits_qwencd_cali', 'logits_qwen32_cali', 'input_ids', 'attention_mask'],\n",
       "        num_rows: 47952\n",
       "    })\n",
       "    ft_val: Dataset({\n",
       "        features: ['labels', 'logits_qwencd_cali', 'logits_qwen32_cali', 'input_ids', 'attention_mask'],\n",
       "        num_rows: 485\n",
       "    })\n",
       "})"
      ]
     },
     "execution_count": 6,
     "metadata": {},
     "output_type": "execute_result"
    }
   ],
   "source": [
    "def tokenizer_func(example):\n",
    "    return tokenizer(\n",
    "        example[\"text\"], \n",
    "        padding='max_length', \n",
    "        max_length=MAX_LENGTH,\n",
    "        truncation=True,\n",
    "        return_tensors='np'\n",
    "    )\n",
    "\n",
    "\n",
    "ppt_train_dataset = Dataset.from_pandas(ppt_train[[\"text\", \"label\", \"logits_qwencd_cali\", \"logits_qwen32_cali\"]])\n",
    "ppt_val_dataset = Dataset.from_pandas(ppt_val[[\"text\", \"label\", \"logits_qwencd_cali\", \"logits_qwen32_cali\"]])\n",
    "ft_train_dataset = Dataset.from_pandas(ft_train[[\"text\", \"label\", \"logits_qwencd_cali\", \"logits_qwen32_cali\"]])\n",
    "ft_val_dataset = Dataset.from_pandas(ft_val[[\"text\", \"label\", \"logits_qwencd_cali\", \"logits_qwen32_cali\"]])\n",
    "raw_dataset = DatasetDict({\n",
    "    'ppt_train': ppt_train_dataset,\n",
    "    'ppt_val': ppt_val_dataset,\n",
    "    'ft_train': ft_train_dataset,\n",
    "    'ft_val': ft_val_dataset,\n",
    "})\n",
    "\n",
    "tokenized_dataset = raw_dataset.map(tokenizer_func, batched=True)\n",
    "tokenized_dataset = tokenized_dataset.rename_column(\"label\", \"labels\")\n",
    "tokenized_dataset = tokenized_dataset.remove_columns(['__index_level_0__', 'text'])\n",
    "tokenized_dataset\n"
   ]
  },
  {
   "cell_type": "code",
   "execution_count": 9,
   "metadata": {},
   "outputs": [
    {
     "name": "stdout",
     "output_type": "stream",
     "text": [
      "<|User Prompt|>\n",
      "I want to add a graph of the lowest price by time of a item by tier.\n",
      "I want to add a graph of the quantities distribution over time.\n",
      "Add more necessary graphs you think could enhance this dashboard.\n",
      "\n",
      "```html\n",
      "<!DOCTYPE html>\n",
      "<html lang=\"en\">\n",
      "<head>\n",
      "    <meta charset=\"UTF-8\">\n",
      "    <title>Eclesiar Market Visualization</title>\n",
      "    <!-- Include Chart.js from CDN -->\n",
      "    <script src=\"https://cdn.jsdelivr.net/npm/chart.js\"></script>\n",
      "    <style>\n",
      "        body { font-family: Arial, sans-serif; margin: 20px; }\n",
      "        #controls { margin-bottom: 20px; }\n",
      "        #charts { display: flex; flex-direction: column; gap: 40px; }\n",
      "        .chart-container { width: 100%; }\n",
      "        canvas { max-width: 100%; }\n",
      "        .hidden { display: none; }\n",
      "    </style>\n",
      "</head>\n",
      "<body>\n",
      "    <h1>Eclesiar Market Visualization</h1>\n",
      "    <div id=\"controls\">\n",
      "        <!-- Add file upload input here -->\n",
      "        <label for=\"fileInput\">Upload Market Log File:</label>\n",
      "        <input type=\"file\" id=\"fileInput\" accept=\".json\" />\n",
      "\n",
      "        <br><br>\n",
      "\n",
      "        <label for=\"countrySelect\">Select Country:</label>\n",
      "        <select id=\"countrySelect\">\n",
      "            <option value=\"\">--Select Country--</option>\n",
      "        </select>\n",
      "\n",
      "        <label for=\"itemSelect\" style=\"margin-left: 20px;\">Select Item:</label>\n",
      "        <select id=\"itemSelect\" disabled>\n",
      "            <option value=\"\">--Select Item--</option>\n",
      "        </select>\n",
      "    </div>\n",
      "    <div id=\"charts\">\n",
      "        <!-- Charts will be dynamically inserted here -->\n",
      "    </div>\n",
      "\n",
      "    <script>\n",
      "        // Utility function to generate random colors\n",
      "        function getRandomColor() {\n",
      "            const letters = ' ... (truncated)\n",
      "\n",
      "<|Response A|>\n",
      "Here's the updated HTML code with the additional graphs you requested:\n",
      "\n",
      "```html\n",
      "<!DOCTYPE html>\n",
      "<html lang=\"en\">\n",
      "<head>\n",
      "    <meta charset=\"UTF-8\">\n",
      "    <title>Eclesiar Market Visualization</title>\n",
      "    <!-- Include Chart.js from CDN -->\n",
      "    <script src=\"https://cdn.jsdelivr.net/npm/chart.js\"></script>\n",
      "    <style>\n",
      "        body { font-family: Arial, sans-serif; margin: 20px; }\n",
      "        #controls { margin-bottom: 20px; }\n",
      "        #charts { display: flex; flex-direction: column; gap: 40px; }\n",
      "        .chart-container { width: 100%; }\n",
      "        canvas { max-width: 100%; }\n",
      "        .hidden { display: none; }\n",
      "    </style>\n",
      "</head>\n",
      "<body>\n",
      "    <h1>Eclesiar Market Visualization</h1>\n",
      "    <div id=\"controls\">\n",
      "        <!-- Add file upload input here -->\n",
      "        <label for=\"fileInput\">Upload Market Log File:</label>\n",
      "        <input type=\"file\" id=\"fileInput\" accept=\".json\" />\n",
      "\n",
      "        <br><br>\n",
      "\n",
      "        <label for=\"countrySelect\">Select Country:</label>\n",
      "        <select id=\"countrySelect\">\n",
      "            <option value=\"\">--Select Country--</option>\n",
      "        </select>\n",
      "\n",
      "        <label for=\"itemSelect\" style=\"margin-left: 20px;\">Select Item:</label>\n",
      "        <select id=\"itemSelect\" disabled>\n",
      "            <option value=\"\">--Select Item--</option>\n",
      "        </select>\n",
      "    </div>\n",
      "    <div id=\"charts\">\n",
      "        <!-- Charts will be dynamically inserted here -->\n",
      "    </div>\n",
      "\n",
      "    <script>\n",
      "        // Utility function to generate random colors\n",
      "        function getRandomColor() {\n",
      "            const letters = '0123456789ABCDEF';\n",
      "            let color = '#';\n",
      "            for (let i = 0; i < 6; i++) {\n",
      "                color += letters[Math.floor(Math.random() * 16)];\n",
      "            }\n",
      "            return color;\n",
      "        }\n",
      "\n",
      "        // Function to visualize data based on user selection\n",
      "        function visualizeData(data) {\n",
      "            const countrySelect = document.getElementById('countrySelect');\n",
      "            const itemSelect = document.getElementById('itemSelect');\n",
      "            const chartsContainer = document.getElementById('charts');\n",
      "\n",
      "            // Flatten all entries from all countries into a single array\n",
      "            const allEntries = Object.values(data).flat();\n",
      "\n",
      "            // Extract unique countries\n",
      "            const countries = allEntries.map(entry => entry.countryName);\n",
      "            const uniqueCountries = [...new Set(countries)].sort();\n",
      "\n",
      "            // Populate country dropdown\n",
      "            uniqueCountries.forEach(country => {\n",
      "                const option = document.createElement('option');\n",
      "                option.value = country;\n",
      "                option.textContent = country;\n",
      "                countrySelect.appendChild(option);\n",
      "            });\n",
      "\n",
      "            // Event listener for country selection\n",
      "            countrySelect.addEventListener('change', function() {\n",
      "                const selectedCountry = this.value;\n",
      "                itemSelect.innerHTML = '<option value=\"\">--Select Item--</option>'; // Reset items\n",
      "                chartsContainer.innerHTML = ''; // Clear previous charts\n",
      "\n",
      "                if (selectedCountry) {\n",
      "                    // Enable item selector\n",
      "                    itemSelect.disabled = false;\n",
      "\n",
      "                    // Extract items for the selected country\n",
      "                    const countryEntries = allEntries.filter(entry => entry.countryName === selectedCountry);\n",
      "                    const items = countryEntries.flatMap(entry => entry.offers.map(offer => offer.name));\n",
      "                    const uniqueItems = [...new Set(items)].sort();\n",
      "\n",
      "                    // Populate item dropdown\n",
      "                    uniqueItems.forEach(item => {\n",
      "                        const option = document.createElement('option');\n",
      "                        option.value = item;\n",
      "                        option.textContent = item;\n",
      "                        itemSelect.appendChild(option);\n",
      "                    });\n",
      "                } else {\n",
      "                    // Disable item selector if no country is selected\n",
      "                    itemSelect.disabled = ... (truncated)\n",
      "\n",
      "<|Response B|>\n",
      "```html\n",
      "<!DOCTYPE html>\n",
      "<html lang=\"en\">\n",
      "<head>\n",
      "    <meta charset=\"UTF-8\">\n",
      "    <title>Eclesiar Market Visualization</title>\n",
      "    <script src=\"https://cdn.jsdelivr.net/npm/chart.js\"></script>\n",
      "    <style>\n",
      "        /* ... (Existing styles) ... */\n",
      "        .chart-container { width: 100%; max-width: 600px; margin: 0 auto; } /* Added responsiveness */\n",
      "    </style>\n",
      "</head>\n",
      "<body>\n",
      "    <h1>Eclesiar Market Visualization</h1>\n",
      "    <div id=\"controls\">\n",
      "        <!-- ... (Existing controls) ... -->\n",
      "    </div>\n",
      "    <div id=\"charts\">\n",
      "        <!-- Charts will be dynamically inserted here -->\n",
      "    </div>\n",
      "    <script>\n",
      "        // ... (Existing functions) ...\n",
      "\n",
      "        function visualizeData(data) {\n",
      "            // ... (Existing code) ...\n",
      "\n",
      "            // Quantities Distribution Chart\n",
      "            const quantitiesDistributionCanvas = document.createElement('canvas');\n",
      "            const quantitiesContainer = document.createElement('div');\n",
      "            quantitiesContainer.className = 'chart-container';\n",
      "            quantitiesContainer.appendChild(quantitiesDistributionCanvas);\n",
      "            chartsContainer.appendChild(quantitiesContainer);\n",
      "\n",
      "\n",
      "            const quantitiesData = {};\n",
      "            itemEntries.forEach(entry => {\n",
      "                entry.offers.forEach(offer => {\n",
      "                    const tier = offer.tier;\n",
      "                    const timestamp = new Date(entry.timestamp);\n",
      "                    const dateKey = timestamp.toLocaleDateString(); // Group by date\n",
      "                    if (!quantitiesData[dateKey]) quantitiesData[dateKey] = {};\n",
      "                    if (!quantitiesData[dateKey][tier]) quantitiesData[dateKey][tier] = 0;\n",
      "                    quantitiesData[dateKey][tier] += 1;\n",
      "                });\n",
      "            });\n",
      "\n",
      "\n",
      "            const quantityLabels = Object.keys(quantitiesData);\n",
      "            const quantityDatasets = [];\n",
      "            tiers.forEach(tier => {\n",
      "                const data = quantityLabels.map(label => quantitiesData[label][tier] || 0);\n",
      "                quantityDatasets.push({\n",
      "                    label: `Tier ${tier} Quantity`,\n",
      "                    data: data,\n",
      "                    borderColor: getRandomColor(),\n",
      "                    fill: false,\n",
      "                    type: 'line'\n",
      "                });\n",
      "            });\n",
      "\n",
      "            new Chart(quantitiesDistributionCanvas.getContext('2d'), {\n",
      "                type: 'line',\n",
      "                data: {\n",
      "                    labels: quantityLabels,\n",
      "                    datasets: quantityDatasets\n",
      "                },\n",
      "                options: {\n",
      "                    responsive: true,\n",
      "                    plugins: {\n",
      "                        title: {\n",
      "                            display: true,\n",
      "                            text: `Quantity Distribution Over Time for ${selectedItem} by Tier (${selectedCountry})`\n",
      "                        },\n",
      "                    },\n",
      "                    scales: {\n",
      "                        x: {\n",
      "                            display: true,\n",
      "                            title: { display: true, text: 'Date' },\n",
      "                            ticks: {\n",
      "                                autoSkip: true,\n",
      "                                maxTicksLimit: 10\n",
      "                            }\n",
      "                        },\n",
      "                        y: {\n",
      "                            display: true,\n",
      "                            title: { display: true, text: 'Quantity' },\n",
      "                        }\n",
      "                    }\n",
      "                }\n",
      "            });\n",
      "\n",
      "\n",
      "            // ... (Existing code for other charts) ...\n",
      "        }\n",
      "\n",
      "        // ... (Rest of the script) ...\n",
      "    </script>\n",
      "</body>\n",
      "</html>\n",
      "```\n",
      "\n",
      "**Explanation of Improvements and Additions:**\n",
      "\n",
      "1.  **Quantities Distribution Chart:**\n",
      "    *   Groups quantity data by date.  This is crucial for visualizing trends over time rather than just individual timestamps.\n",
      "    *   Calculates the quantity for each tier on each date.\n",
      "    *   Creates a line chart to show the quantity distribution for each tier over time. This is a more suitable chart type than a bar chart for this kind of data.\n",
      "    *   Improved axis labels and chart title for clarity.\n",
      "\n",
      "2.  **Chart Responsiveness:**\n",
      "    *   Added `max-width` to `.chart-container` to prevent charts from overflowing their container and to improve ... (truncated)\n",
      "\n",
      "<|Which response do you prefer?|>\n",
      "<|im_end|><|im_end|><|im_end|><|im_end|><|im_end|><|im_end|><|im_end|><|im_end|><|im_end|><|im_end|><|im_end|><|im_end|>\n",
      "**label: 1\n"
     ]
    }
   ],
   "source": [
    "i = 0\n",
    "print(tokenizer.decode(tokenized_dataset[\"ft_val\"][i][\"input_ids\"], skip_special_tokens=False))\n",
    "print(\"**label:\", tokenized_dataset[\"ft_val\"][i][\"labels\"])"
   ]
  },
  {
   "cell_type": "code",
   "execution_count": 8,
   "metadata": {},
   "outputs": [
    {
     "name": "stderr",
     "output_type": "stream",
     "text": [
      "Saving the dataset (1/4 shards):  25%|██▌       | 48707/194826 [00:00<00:00, 233150.56 examples/s]"
     ]
    },
    {
     "name": "stderr",
     "output_type": "stream",
     "text": [
      "Saving the dataset (4/4 shards): 100%|██████████| 194826/194826 [00:01<00:00, 102210.09 examples/s]\n",
      "Saving the dataset (1/1 shards): 100%|██████████| 1968/1968 [00:00<00:00, 99343.96 examples/s] \n",
      "Saving the dataset (1/1 shards): 100%|██████████| 47952/47952 [00:00<00:00, 137040.29 examples/s]\n",
      "Saving the dataset (1/1 shards): 100%|██████████| 485/485 [00:00<00:00, 48506.99 examples/s]\n"
     ]
    }
   ],
   "source": [
    "tokenized_dataset.save_to_disk(\"/group-volume/binfeng/wsdm/data/tokenized_qwen14b_final\")"
   ]
  },
  {
   "cell_type": "code",
   "execution_count": null,
   "metadata": {},
   "outputs": [],
   "source": []
  }
 ],
 "metadata": {
  "kernelspec": {
   "display_name": "Python 3",
   "language": "python",
   "name": "python3"
  },
  "language_info": {
   "codemirror_mode": {
    "name": "ipython",
    "version": 3
   },
   "file_extension": ".py",
   "mimetype": "text/x-python",
   "name": "python",
   "nbconvert_exporter": "python",
   "pygments_lexer": "ipython3",
   "version": "3.11.6"
  }
 },
 "nbformat": 4,
 "nbformat_minor": 2
}
