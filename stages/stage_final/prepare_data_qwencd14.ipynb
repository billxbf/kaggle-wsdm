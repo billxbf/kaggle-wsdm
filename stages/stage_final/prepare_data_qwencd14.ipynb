{
 "cells": [
  {
   "cell_type": "code",
   "execution_count": 1,
   "metadata": {},
   "outputs": [
    {
     "name": "stderr",
     "output_type": "stream",
     "text": [
      "/home/user/.local/lib/python3.11/site-packages/tqdm/auto.py:21: TqdmWarning: IProgress not found. Please update jupyter and ipywidgets. See https://ipywidgets.readthedocs.io/en/stable/user_install.html\n",
      "  from .autonotebook import tqdm as notebook_tqdm\n"
     ]
    }
   ],
   "source": [
    "import os\n",
    "from time import time\n",
    "import numpy as np\n",
    "import pandas as pd\n",
    "from tqdm.auto import tqdm\n",
    "from datasets import Dataset, DatasetDict\n",
    "from transformers import AutoTokenizer\n",
    "from huggingface_hub import login\n",
    "from sklearn.model_selection import StratifiedKFold, KFold\n",
    "tqdm.pandas()\n",
    "\n",
    "# Change the working directory to the directory containing the script\n",
    "os.chdir(\"/group-volume/binfeng/wsdm/stage_distill\")\n",
    "from utils import *\n"
   ]
  },
  {
   "cell_type": "code",
   "execution_count": 2,
   "metadata": {},
   "outputs": [],
   "source": [
    "MODEL_PATH = \"Qwen/Qwen2.5-Coder-14B-Instruct\"\n",
    "MAX_LENGTH = 2000\n",
    "MAX_PROMPT_LENGTH = 400"
   ]
  },
  {
   "cell_type": "markdown",
   "metadata": {},
   "source": [
    "## Tokenizer"
   ]
  },
  {
   "cell_type": "code",
   "execution_count": 3,
   "metadata": {},
   "outputs": [
    {
     "data": {
      "text/plain": [
       "('/group-volume/binfeng/wsdm/tokenizer/qwencd14b/tokenizer_config.json',\n",
       " '/group-volume/binfeng/wsdm/tokenizer/qwencd14b/special_tokens_map.json',\n",
       " '/group-volume/binfeng/wsdm/tokenizer/qwencd14b/vocab.json',\n",
       " '/group-volume/binfeng/wsdm/tokenizer/qwencd14b/merges.txt',\n",
       " '/group-volume/binfeng/wsdm/tokenizer/qwencd14b/added_tokens.json',\n",
       " '/group-volume/binfeng/wsdm/tokenizer/qwencd14b/tokenizer.json')"
      ]
     },
     "execution_count": 3,
     "metadata": {},
     "output_type": "execute_result"
    }
   ],
   "source": [
    "tokenizer = AutoTokenizer.from_pretrained(MODEL_PATH)\n",
    "tokenizer.pad_token = tokenizer.eos_token\n",
    "tokenizer.padding_side = 'right'\n",
    "tokenizer.save_pretrained(\"/group-volume/binfeng/wsdm/tokenizer/qwencd14b\")"
   ]
  },
  {
   "cell_type": "markdown",
   "metadata": {},
   "source": [
    "## Prepare Data"
   ]
  },
  {
   "cell_type": "code",
   "execution_count": 5,
   "metadata": {},
   "outputs": [
    {
     "name": "stdout",
     "output_type": "stream",
     "text": [
      "47952 485\n"
     ]
    },
    {
     "name": "stderr",
     "output_type": "stream",
     "text": [
      "/home/user/.local/lib/python3.11/site-packages/sklearn/model_selection/_split.py:805: UserWarning: The least populated class in y has only 1 members, which is less than n_splits=100.\n",
      "  warnings.warn(\n"
     ]
    }
   ],
   "source": [
    "ft = pd.read_parquet(\"/group-volume/binfeng/wsdm/stage_final/data/ft48k_calibrated.parquet\")\n",
    "ft.dropna(inplace=True)\n",
    "ft[\"text\"] = ft.apply(lambda x: format_text(tokenizer, x.prompt, x.response_a, x.response_b, \n",
    "                                                max_len=MAX_LENGTH, max_prompt_len=MAX_PROMPT_LENGTH), axis=1)\n",
    "ft[\"label\"] = ft.apply(lambda x: format_label(x.winner), axis=1)\n",
    "\n",
    "skf = StratifiedKFold(n_splits=100, shuffle=True, random_state=66)\n",
    "for train_index, val_index in skf.split(ft, ft[\"language\"]):\n",
    "    ft_train, ft_val = ft.iloc[train_index], ft.iloc[val_index]\n",
    "    print(len(ft_train), len(ft_val))\n",
    "    break\n"
   ]
  },
  {
   "cell_type": "code",
   "execution_count": 6,
   "metadata": {},
   "outputs": [
    {
     "name": "stdout",
     "output_type": "stream",
     "text": [
      "194826 1968\n"
     ]
    }
   ],
   "source": [
    "ppt = pd.read_parquet(\"/group-volume/binfeng/wsdm/stage_final/data/ppt196k_calibrated.parquet\")\n",
    "ppt.dropna(inplace=True)\n",
    "ppt[\"text\"] = ppt.apply(lambda x: format_text(tokenizer, x.prompt, x.response_a, x.response_b, \n",
    "                                                max_len=MAX_LENGTH, max_prompt_len=MAX_PROMPT_LENGTH), axis=1)\n",
    "ppt[\"label\"] = ppt.apply(lambda x: format_label(x.winner), axis=1)\n",
    "\n",
    "kf = KFold(n_splits=100, shuffle=True, random_state=10)\n",
    "for train_index, val_index in kf.split(ppt):\n",
    "    ppt_train, ppt_val = ppt.iloc[train_index], ppt.iloc[val_index]\n",
    "    print(len(ppt_train), len(ppt_val))\n",
    "    break\n"
   ]
  },
  {
   "cell_type": "markdown",
   "metadata": {},
   "source": [
    "## Dataloader"
   ]
  },
  {
   "cell_type": "code",
   "execution_count": 7,
   "metadata": {},
   "outputs": [
    {
     "name": "stderr",
     "output_type": "stream",
     "text": [
      "Map: 100%|██████████| 194826/194826 [02:08<00:00, 1511.91 examples/s]\n",
      "Map: 100%|██████████| 1968/1968 [00:01<00:00, 1550.72 examples/s]\n",
      "Map: 100%|██████████| 47952/47952 [00:34<00:00, 1391.04 examples/s]\n",
      "Map: 100%|██████████| 485/485 [00:00<00:00, 1205.27 examples/s]\n"
     ]
    },
    {
     "data": {
      "text/plain": [
       "DatasetDict({\n",
       "    ppt_train: Dataset({\n",
       "        features: ['labels', 'logits_qwencd_cali', 'logits_qwen32_cali', 'input_ids', 'attention_mask'],\n",
       "        num_rows: 194826\n",
       "    })\n",
       "    ppt_val: Dataset({\n",
       "        features: ['labels', 'logits_qwencd_cali', 'logits_qwen32_cali', 'input_ids', 'attention_mask'],\n",
       "        num_rows: 1968\n",
       "    })\n",
       "    ft_train: Dataset({\n",
       "        features: ['labels', 'logits_qwencd_cali', 'logits_qwen32_cali', 'input_ids', 'attention_mask'],\n",
       "        num_rows: 47952\n",
       "    })\n",
       "    ft_val: Dataset({\n",
       "        features: ['labels', 'logits_qwencd_cali', 'logits_qwen32_cali', 'input_ids', 'attention_mask'],\n",
       "        num_rows: 485\n",
       "    })\n",
       "})"
      ]
     },
     "execution_count": 7,
     "metadata": {},
     "output_type": "execute_result"
    }
   ],
   "source": [
    "def tokenizer_func(example):\n",
    "    return tokenizer(\n",
    "        example[\"text\"], \n",
    "        padding='max_length', \n",
    "        max_length=MAX_LENGTH,\n",
    "        truncation=True,\n",
    "        return_tensors='np'\n",
    "    )\n",
    "\n",
    "\n",
    "ppt_train_dataset = Dataset.from_pandas(ppt_train[[\"text\", \"label\", \"logits_qwencd_cali\", \"logits_qwen32_cali\"]])\n",
    "ppt_val_dataset = Dataset.from_pandas(ppt_val[[\"text\", \"label\", \"logits_qwencd_cali\", \"logits_qwen32_cali\"]])\n",
    "ft_train_dataset = Dataset.from_pandas(ft_train[[\"text\", \"label\", \"logits_qwencd_cali\", \"logits_qwen32_cali\"]])\n",
    "ft_val_dataset = Dataset.from_pandas(ft_val[[\"text\", \"label\", \"logits_qwencd_cali\", \"logits_qwen32_cali\"]])\n",
    "raw_dataset = DatasetDict({\n",
    "    'ppt_train': ppt_train_dataset,\n",
    "    'ppt_val': ppt_val_dataset,\n",
    "    'ft_train': ft_train_dataset,\n",
    "    'ft_val': ft_val_dataset,\n",
    "})\n",
    "\n",
    "tokenized_dataset = raw_dataset.map(tokenizer_func, batched=True)\n",
    "tokenized_dataset = tokenized_dataset.rename_column(\"label\", \"labels\")\n",
    "tokenized_dataset = tokenized_dataset.remove_columns(['__index_level_0__', 'text'])\n",
    "tokenized_dataset\n"
   ]
  },
  {
   "cell_type": "code",
   "execution_count": 8,
   "metadata": {},
   "outputs": [
    {
     "name": "stdout",
     "output_type": "stream",
     "text": [
      "<|User Prompt|>\n",
      "/* eslint-disable @typescript-eslint/no-unused-vars */\n",
      "/* eslint-disable @typescript-eslint/no-explicit-any */\n",
      "import { useEffect, useState } from \"react\";\n",
      "import { FaCheck } from \"react-icons/fa6\";\n",
      "import { useParams } from \"react-router-dom\";\n",
      "import Modal from \"~/components/Modal/Modal\";\n",
      "import useGet from \"~/hooks/useGet\";\n",
      "import { usePatch } from \"~/hooks/usePost\";\n",
      "import Categories from \"~/models/Categories\";\n",
      "import CategoryAttribute from \"~/models/CategoryAttribute\";\n",
      "import Manufacturer from \"~/models/Manufacturer\";\n",
      "import Products from \"~/models/Products\";\n",
      "import ValueAttribute from \"~/models/ValueAttribute\";\n",
      "\n",
      "interface Attribute {\n",
      "    attributeId: number; // The ID of the attribute\n",
      "    value: string;       // The corresponding value for this attribute\n",
      "}\n",
      "\n",
      "interface FormData {\n",
      "    name: string;\n",
      "    price: number;\n",
      "    discount: number;\n",
      "    stock: number;\n",
      "    hot: number;\n",
      "    visibility: boolean;\n",
      "    image: File | string | null;\n",
      "    attributes: Attribute[];\n",
      "}\n",
      "\n",
      "export default function EditProduct() {\n",
      "    const { id } = useParams();\n",
      "    const productId = Number(id);\n",
      "\n",
      "    const [open, setOpen] = useState(false);\n",
      "    const [selectedCategory, setSelectedCategory] = useState<{ id: number; slug: string }>({ id: 0, slug: '' });\n",
      "    const [selectedManufacturer, setSelectedManufacturer] = useState<{ id: number; slug: string }>({ id: 0, slug: '' });\n",
      "\n",
      "    const [imagePreview, setImagePreview] = useState<string | null>(null);\n",
      "    const [formData, setFormData] = useState<FormData>({\n",
      "        name: '',\n",
      "        price: 0,\n",
      "        discount: 0,\n",
      "        stock: 0,\n",
      "        hot: 0,\n",
      "        visibility: false,\n",
      "        image: null as File | string | null, // Updated type  \n",
      "        attributes: [\n",
      "            { attributeId: 0, value: '' }\n",
      "        ]\n",
      "    });\n",
      "\n",
      "    const { ... (truncated)\n",
      "\n",
      "<|Response A|>\n",
      "Tôi sẽ giúp bạn sửa lại đoạn code để có thể chạy được hàm editValueAttribute và lấy được attributeId và value. Dưới đây là phiên bản đã được sửa:\n",
      "\n",
      "```tsx\n",
      "// ... (các import giữ nguyên)\n",
      "\n",
      "export default function EditProduct() {\n",
      "    // ... (các state và hooks khác giữ nguyên)\n",
      "\n",
      "    // Sửa lại useEffect để khởi tạo attributes một cách chính xác\n",
      "    useEffect(() => {\n",
      "        if (product && categoryAttribute && attributeValues) {\n",
      "            const initialAttributes = categoryAttribute.map(catAttr => {\n",
      "                const existingValue = attributeValues.find(\n",
      "                    av => av.attributeId === catAttr.attributeData.id\n",
      "                );\n",
      "                return {\n",
      "                    attributeId: catAttr.attributeData.id,\n",
      "                    value: existingValue ? existingValue.value : ''\n",
      "                };\n",
      "            });\n",
      "\n",
      "            setFormData(prev => ({\n",
      "                ...prev,\n",
      "                name: product.name,\n",
      "                price: product.price,\n",
      "                discount: product.discount,\n",
      "                stock: product.stock,\n",
      "                hot: product.hot,\n",
      "                visibility: product.visible ? true : false,\n",
      "                image: product.img || null,\n",
      "                attributes: initialAttributes,\n",
      "            }));\n",
      "\n",
      "            setSelectedCategory({ id: product.categoryId, slug: '' });\n",
      "            setSelectedManufacturer({ id: product.manufacturerId, slug: '' });\n",
      "            setImagePreview(product.img || null);\n",
      "        }\n",
      "    }, [product, attributeValues, categoryAttribute]);\n",
      "\n",
      "    // Sửa lại handleSubmit\n",
      "    const handleSubmit = async (e: React.FormEvent) => {\n",
      "        e.preventDefault();\n",
      "        try {\n",
      "            const form = new FormData();\n",
      "\n",
      "            // Thêm dữ liệu sản phẩm vào form\n",
      "            form.append(\"categoryId\", selectedCategory.id.toString());\n",
      "            form.append(\"manufacturerId\", selectedManufacturer.id.toString());\n",
      "            form.append(\"name\", formData.name);\n",
      "            form.append(\"price\", formData.price.toString());\n",
      "            form.append(\"discount\", formData.discount.toString());\n",
      "            form.append(\"stock\", formData.stock.toString());\n",
      "            form.append(\"hot\", formData.hot.toString());\n",
      "            form.append(\"visibility\", formData.visibility.toString());\n",
      "\n",
      "            if (formData.image instanceof File) {\n",
      "                form.append(\"img\", formData.image);\n",
      "            }\n",
      "\n",
      "            // Cập nhật thông tin sản phẩm\n",
      "            await editProduct(\n",
      "                { url: `/products/updateProduct/${product?.id}`, data: form },\n",
      "                {\n",
      "                    onSuccess: async (response) => {\n",
      "                        if (response.status === 200) {\n",
      "                            // Cập nhật từng thuộc tính\n",
      "                            const attributePromises = formData.attributes.map(attribute => {\n",
      "                                if (attribute.attributeId && attribute.value) {\n",
      "                                    return editAttributeValue({\n",
      "                                        url: `/valueAttribute/updateProductValueAttribute/${product?.slug}`,\n",
      "                                        data: {\n",
      "                                            attributeId: attribute.attributeId,\n",
      "                                            value: attribute.value\n",
      "                                        }\n",
      "                                    });\n",
      "                                }\n",
      "                                return Promise.resolve();\n",
      "                            });\n",
      "\n",
      "                            try {\n",
      "                                await Promise.all(attributePromises);\n",
      "                                setOpen(true);\n",
      "                                // Reset form sau khi cập nhật thành công\n",
      "                                setFormData({\n",
      "                                    name: '',\n",
      "                                    price: 0,\n",
      "                                    discount: 0,\n",
      "                                    stock: 0,\n",
      "                                    hot: 0,\n",
      "                                    visibility: false,\n",
      "                                    image: null,\n",
      "                                    attributes: []\n",
      "                                });\n",
      "                                setSelectedCategory({ id: 0, slug: '' });\n",
      "                            } catch (error) {\n",
      "                                console.error(\"Error updating attributes:\", error);\n",
      "                            }\n",
      "                        }\n",
      "                    },\n",
      "                    onError: (error) => {\n",
      "                        console.error(\"Error updating product:\", error);\n",
      "                    }\n",
      "                }\n",
      "            );\n",
      "        } catch (error) {\n",
      "            console.error(\"Error in form submission:\", error);\n",
      "        }\n",
      "    };\n",
      "\n",
      "    return (\n",
      "        // ... (phần JSX giữ nguyên)\n",
      "    );\n",
      "}\n",
      "```\n",
      "\n",
      "Những thay đổi chính:\n",
      "\n",
      "1. Sửa lại `useEffect` để khởi tạo attributes một cách chính xác, đảm bảo rằng mỗi attribute có đầy đủ ... (truncated)\n",
      "\n",
      "<|Response B|>\n",
      "Dưới đây là đoạn code đã được sửa lại để khắc phục vấn đề không thể chạy hàm `editValueAttribute` và không thể lấy `attributeId` và `value`:\n",
      "\n",
      "```typescript\n",
      "/* eslint-disable @typescript-eslint/no-unused-vars */\n",
      "/* eslint-disable @typescript-eslint/no-explicit-any */\n",
      "import { useEffect, useState } from \"react\";\n",
      "import { FaCheck } from \"react-icons/fa6\";\n",
      "import { useParams } from \"react-router-dom\";\n",
      "import Modal from \"~/components/Modal/Modal\";\n",
      "import useGet from \"~/hooks/useGet\";\n",
      "import { usePatch } from \"~/hooks/usePost\";\n",
      "import Categories from \"~/models/Categories\";\n",
      "import CategoryAttribute from \"~/models/CategoryAttribute\";\n",
      "import Manufacturer from \"~/models/Manufacturer\";\n",
      "import Products from \"~/models/Products\";\n",
      "import ValueAttribute from \"~/models/ValueAttribute\";\n",
      "\n",
      "interface Attribute {\n",
      "    attributeId: number; // The ID of the attribute\n",
      "    value: string;       // The corresponding value for this attribute\n",
      "}\n",
      "\n",
      "interface FormData {\n",
      "    name: string;\n",
      "    price: number;\n",
      "    discount: number;\n",
      "    stock: number;\n",
      "    hot: number;\n",
      "    visibility: boolean;\n",
      "    image: File | string | null;\n",
      "    attributes: Attribute[];\n",
      "}\n",
      "\n",
      "export default function EditProduct() {\n",
      "    const { id } = useParams();\n",
      "    const productId = Number(id);\n",
      "\n",
      "    const [open, setOpen] = useState(false);\n",
      "    const [selectedCategory, setSelectedCategory] = useState<{ id: number; slug: string }>({ id: 0, slug: '' });\n",
      "    const [selectedManufacturer, setSelectedManufacturer] = useState<{ id: number; slug: string }>({ id: 0, slug: '' });\n",
      "\n",
      "    const [imagePreview, setImagePreview] = useState<string | null>(null);\n",
      "    const [formData, setFormData] = useState<FormData>({\n",
      "        name: '',\n",
      "        price: 0,\n",
      "        discount: 0,\n",
      "        stock: 0,\n",
      "        hot: 0,\n",
      "        visibility: false,\n",
      "        image: null as File | string | null, // Updated type  \n",
      "        attributes: []\n",
      "    });\n",
      "\n",
      "    const { mutate: editProduct } = usePatch();\n",
      "    const { mutate: editAttributeValue } = usePatch();\n",
      "    const { data: product } = useGet<Products>(`/products/getOneProductById/${productId}`);\n",
      "    const { data: categories } = useGet<Categories[]>(`/categories/getAllCategories/`);\n",
      "    const { data: manufacturers } = useGet<{ total: number, rows: Manufacturer[] }>(`/manufacturer/getAllManufacturer`)\n",
      "    const { data: categoryAttribute } = useGet<CategoryAttribute[]>(`/categoryAttribute/getCategoryAttributesByCategory/${selectedCategory.id}`);\n",
      "    const { data: attributeValues } = useGet<ValueAttribute[]>(`/valueAttribute/getOneValueAttributeBySlug/${product?.slug}`);\n",
      "\n",
      "    console.log(\"Category attribute:\", categoryAttribute);\n",
      "\n",
      "    // Thiết lập dữ liệu ban đầu khi product được tải\n",
      "    useEffect(() => {\n",
      "        if (product && categoryAttribute) {\n",
      "            const initialAttributes = categoryAttribute.map(catAttr => ({\n",
      "                attributeId: catAttr.attributeData.id,\n",
      "                value: attributeValues?.find(av => av.attributeId === catAttr.attributeData.id)?.value || ''\n",
      "            }));\n",
      "\n",
      "            setFormData(prev => ({\n",
      "                ...prev,\n",
      "                name: product.name,\n",
      "                price: product.price,\n",
      "                discount: product.discount,\n",
      "                stock: product.stock,\n",
      "                hot: product.hot,\n",
      "                visibility: product.visible ? true : false,\n",
      "                image: product.img || null,\n",
      "                attributes: initialAttributes,\n",
      "            }));\n",
      "\n",
      "            setSelectedCategory({ id: product.categoryId, slug: '' });\n",
      "            setSelectedManufacturer({ id: product.manufacturerId, slug: '' });\n",
      "            setImagePreview(product.img || null);\n",
      "        }\n",
      "    }, [product, attributeValues ... (truncated)\n",
      "\n",
      "<|Which response do you prefer?|>\n",
      "<|im_end|><|im_end|><|im_end|><|im_end|><|im_end|><|im_end|><|im_end|><|im_end|><|im_end|><|im_end|><|im_end|><|im_end|>\n",
      "**label: 1\n"
     ]
    }
   ],
   "source": [
    "i = 0\n",
    "print(tokenizer.decode(tokenized_dataset[\"ft_val\"][i][\"input_ids\"], skip_special_tokens=False))\n",
    "print(\"**label:\", tokenized_dataset[\"ft_val\"][i][\"labels\"])"
   ]
  },
  {
   "cell_type": "code",
   "execution_count": 9,
   "metadata": {},
   "outputs": [
    {
     "name": "stderr",
     "output_type": "stream",
     "text": [
      "Saving the dataset (1/4 shards):  29%|██▊       | 55707/194826 [00:00<00:01, 130302.01 examples/s]"
     ]
    },
    {
     "name": "stderr",
     "output_type": "stream",
     "text": [
      "Saving the dataset (4/4 shards): 100%|██████████| 194826/194826 [00:01<00:00, 100477.36 examples/s]\n",
      "Saving the dataset (1/1 shards): 100%|██████████| 1968/1968 [00:00<00:00, 114220.74 examples/s]\n",
      "Saving the dataset (1/1 shards): 100%|██████████| 47952/47952 [00:00<00:00, 112241.34 examples/s]\n",
      "Saving the dataset (1/1 shards): 100%|██████████| 485/485 [00:00<00:00, 40593.01 examples/s]\n"
     ]
    }
   ],
   "source": [
    "tokenized_dataset.save_to_disk(\"/group-volume/binfeng/wsdm/data/tokenized_qwencd14b_final\")"
   ]
  },
  {
   "cell_type": "code",
   "execution_count": null,
   "metadata": {},
   "outputs": [],
   "source": []
  }
 ],
 "metadata": {
  "kernelspec": {
   "display_name": "Python 3",
   "language": "python",
   "name": "python3"
  },
  "language_info": {
   "codemirror_mode": {
    "name": "ipython",
    "version": 3
   },
   "file_extension": ".py",
   "mimetype": "text/x-python",
   "name": "python",
   "nbconvert_exporter": "python",
   "pygments_lexer": "ipython3",
   "version": "3.11.6"
  }
 },
 "nbformat": 4,
 "nbformat_minor": 2
}
