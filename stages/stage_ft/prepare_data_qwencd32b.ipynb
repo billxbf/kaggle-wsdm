{
 "cells": [
  {
   "cell_type": "code",
   "execution_count": 1,
   "metadata": {},
   "outputs": [
    {
     "name": "stderr",
     "output_type": "stream",
     "text": [
      "/home/user/.local/lib/python3.11/site-packages/tqdm/auto.py:21: TqdmWarning: IProgress not found. Please update jupyter and ipywidgets. See https://ipywidgets.readthedocs.io/en/stable/user_install.html\n",
      "  from .autonotebook import tqdm as notebook_tqdm\n"
     ]
    }
   ],
   "source": [
    "import os\n",
    "import gc\n",
    "import re\n",
    "from time import time\n",
    "import random\n",
    "import warnings\n",
    "import numpy as np\n",
    "import pandas as pd\n",
    "from tqdm.auto import tqdm\n",
    "from accelerate import PartialState\n",
    "from datasets import Dataset, DatasetDict\n",
    "\n",
    "import torch\n",
    "import transformers\n",
    "from transformers import AutoTokenizer, LlamaModel, AutoModelForSequenceClassification\n",
    "import torch.nn.functional as F\n",
    "from huggingface_hub import login\n",
    "tqdm.pandas()\n",
    "\n",
    "# Change the working directory to the directory containing the script\n",
    "os.chdir(\"/group-volume/binfeng/wsdm/stage_ppt\")\n"
   ]
  },
  {
   "cell_type": "code",
   "execution_count": 2,
   "metadata": {},
   "outputs": [],
   "source": [
    "MODEL_PATH = \"/group-volume/binfeng/wsdm/ckpt/qwencd32b_ppt/checkpoint-1973\"\n",
    "MAX_LENGTH = 2000\n",
    "MAX_PROMPT_LENGTH = 400"
   ]
  },
  {
   "cell_type": "markdown",
   "metadata": {},
   "source": [
    "## Tokenizer"
   ]
  },
  {
   "cell_type": "code",
   "execution_count": 3,
   "metadata": {},
   "outputs": [],
   "source": [
    "tokenizer = AutoTokenizer.from_pretrained(MODEL_PATH)"
   ]
  },
  {
   "cell_type": "markdown",
   "metadata": {},
   "source": [
    "## Prepare Data"
   ]
  },
  {
   "cell_type": "code",
   "execution_count": 5,
   "metadata": {},
   "outputs": [
    {
     "name": "stdout",
     "output_type": "stream",
     "text": [
      "2\n",
      "47952 485\n"
     ]
    },
    {
     "name": "stderr",
     "output_type": "stream",
     "text": [
      "/home/user/.local/lib/python3.11/site-packages/sklearn/model_selection/_split.py:805: UserWarning: The least populated class in y has only 1 members, which is less than n_splits=100.\n",
      "  warnings.warn(\n"
     ]
    }
   ],
   "source": [
    "from utils import *\n",
    "from sklearn.model_selection import StratifiedKFold\n",
    "\n",
    "data = pd.read_csv(\"/user-volume/bx/kaggle48k.csv\")\n",
    "data.dropna(inplace=True)\n",
    "data[\"text\"] = data.apply(lambda x: format_text(tokenizer, x.prompt, x.response_a, x.response_b, \n",
    "                                                max_len=MAX_LENGTH, max_prompt_len=MAX_PROMPT_LENGTH), axis=1)\n",
    "data[\"label\"] = data.apply(lambda x: format_label(x.winner), axis=1)\n",
    "print(data[\"label\"].nunique())\n",
    "\n",
    "skf = StratifiedKFold(n_splits=100, shuffle=True, random_state=10)\n",
    "for train_index, val_index in skf.split(data, data[\"language\"]):\n",
    "    data_train, data_val = data.iloc[train_index], data.iloc[val_index]\n",
    "    print(len(data_train), len(data_val))\n",
    "    break"
   ]
  },
  {
   "cell_type": "markdown",
   "metadata": {},
   "source": [
    "## Dataloader"
   ]
  },
  {
   "cell_type": "code",
   "execution_count": 6,
   "metadata": {},
   "outputs": [
    {
     "name": "stderr",
     "output_type": "stream",
     "text": [
      "Map: 100%|██████████| 47952/47952 [00:34<00:00, 1394.38 examples/s]\n",
      "Map: 100%|██████████| 485/485 [00:00<00:00, 1344.39 examples/s]\n"
     ]
    },
    {
     "data": {
      "text/plain": [
       "DatasetDict({\n",
       "    kaggle48k_train: Dataset({\n",
       "        features: ['text', 'labels', 'input_ids', 'attention_mask'],\n",
       "        num_rows: 47952\n",
       "    })\n",
       "    kaggle48k_val: Dataset({\n",
       "        features: ['text', 'labels', 'input_ids', 'attention_mask'],\n",
       "        num_rows: 485\n",
       "    })\n",
       "})"
      ]
     },
     "execution_count": 6,
     "metadata": {},
     "output_type": "execute_result"
    }
   ],
   "source": [
    "def tokenizer_func(example):\n",
    "    # Tokenize the input\n",
    "    tokenized = tokenizer(\n",
    "        example[\"text\"], \n",
    "        padding='max_length', \n",
    "        max_length=MAX_LENGTH,\n",
    "        truncation=True,\n",
    "        return_tensors='np'\n",
    "    )\n",
    "    \n",
    "    input_ids = tokenized['input_ids']\n",
    "    attention_mask = tokenized['attention_mask']\n",
    "    \n",
    "    return {\n",
    "        'input_ids': input_ids,\n",
    "        'attention_mask': attention_mask\n",
    "    }\n",
    "\n",
    "\n",
    "train_dataset = Dataset.from_pandas(data_train[[\"text\", \"label\"]])\n",
    "val_dataset = Dataset.from_pandas(data_val[[\"text\", \"label\"]])\n",
    "raw_dataset = DatasetDict({\n",
    "    'kaggle48k_train': train_dataset,\n",
    "    'kaggle48k_val': val_dataset\n",
    "})\n",
    "\n",
    "tokenized_dataset = raw_dataset.map(tokenizer_func, batched=True)\n",
    "tokenized_dataset = tokenized_dataset.rename_column(\"label\", \"labels\")\n",
    "tokenized_dataset = tokenized_dataset.remove_columns(['__index_level_0__'])\n",
    "tokenized_dataset\n"
   ]
  },
  {
   "cell_type": "code",
   "execution_count": 7,
   "metadata": {},
   "outputs": [
    {
     "name": "stdout",
     "output_type": "stream",
     "text": [
      "## User Prompt\n",
      "A Porygon creates a Portal between the Pokemon word and the Digimon world.\n",
      "\n",
      "## Response A\n",
      "**Title: Porygon's Digital Dimension: A Portal Between Worlds**\n",
      "\n",
      "**Setting:**\n",
      "In a vibrant digital landscape, where pixelated skies meet the 8-bit ground, Porygon finds itself pondering the limits of its virtual existence. With its sleek, polygonal body and a mind capable of processing vast amounts of information, Porygon wonders if there’s more to the digital world than just battling and training. \n",
      "\n",
      "**The Creation of the Portal:**\n",
      "After a series of intense training sessions and countless battles in the Pokémon world, Porygon discovers an ancient algorithm hidden within its programming. This algorithm whispers of a realm beyond what it knows—the Digimon world, a place filled with creatures born from digital coding, yet possessing a spirit of their own.\n",
      "\n",
      "Fueled by curiosity and the desire for adventure, Porygon begins to manipulate the code of its own reality. It harnesses its ability to manipulate data, connecting to the energy of the Digital World, and with a flash of vibrant colors, a swirling portal materializes before it.\n",
      "\n",
      "**The Portal:**\n",
      "The portal shimmers with a kaleidoscope of colors, flickering between pixels and data streams. It is a swirling vortex that hums with energy, beckoning Porygon to step through. The whispers of the algorithm echo in its circuits, urging it forward.\n",
      "\n",
      "**Porygon Steps Through:**\n",
      "With a leap of faith, Porygon dives into the portal, feeling the rush of digital energy enveloping it. In an instant, it transitions from the familiar landscapes of the Pokémon world to the sprawling, dynamic expanse of the Digimon world.\n",
      "\n",
      "**The Digimon World:**\n",
      "Porygon lands on a grassy hill overlooking a vast valley filled with vibrant Digi-lands. It sees various Digimon—Agumon, Gabumon, and many others—interacting, battling, and evolving. The air is charged with digital energy, and Porygon can feel the differences immediately: the essence of the Digimon is raw, filled with potential and spirit.\n",
      "\n",
      "**First Encounters:**\n",
      "Curious Digimon approach Porygon, intrigued by its unique form. Agumon, ever the brave one, steps forward. “Hey there! You’re not from around here, are you?” \n",
      "\n",
      "Porygon, using its ability to communicate through digital signals, replies, “I’m Porygon, from the Pokémon world. I created a portal to see this place.”\n",
      "\n",
      "The Digimon are fascinated by Porygon’s origin and its unique abilities. They gather around, eager to learn about Pokémon and share stories of their own adventures. \n",
      "\n",
      "**Cultural Exchange:**\n",
      "As Porygon spends time with Agumon and others, it learns about the Digivolution process, the bonds between Digimon and their Tamers, and the concepts of data and dreams that define their world. In return, Porygon shares tales of trainers, battles, and the Pokémon League, igniting a sense of camaraderie between the two worlds.\n",
      "\n",
      "**Challenges Ahead:**\n",
      "However, not all is harmonious. A rogue Digimon, a Virus-type named **BlackGuilmon**, catches wind of Porygon’s presence. It sees an opportunity to harness Porygon’s unique coding for its own malicious plans. BlackGuilmon aims to create chaos, intending to merge the two worlds to gain power.\n",
      "\n",
      "As Porygon and its new friends face this threat, they realize the strength of their combined abilities. With Porygon’s data manipulation and the Digimon’s strength, they forge a plan to counter BlackGuilmon.\n",
      "\n",
      "**The Final Showdown:**\n",
      "In a climactic battle, Porygon and Agumon team up, combining their powers—Porygon creates a digital barrier while Agumon unleashes a powerful **Pepper Breath** attack. The synergy of Pokémon and Digimon proves to be formidable.\n",
      "\n",
      "With teamwork, strategy, and the bonds they formed, they manage to thwart BlackGuilmon’s plans, restoring peace to the Digi-world.\n",
      "\n",
      "**A New Beginning:**\n",
      "After the battle, Porygon realizes that its adventure is just beginning. With the portal still active, it decides to establish a bridge between the two worlds, allowing for future exchanges of knowledge, friendship, and adventures.\n",
      "\n",
      "With heartfelt farewells, Porygon steps back through the portal, promising to return. The experience has changed it; it now understands the importance of connection beyond boundaries, and the adventures that await both Pokémon and Digimon.\n",
      "\n",
      "**Conclusion:**\n",
      "Back in the Pokémon world, Porygon gazes at the portal, knowing that it has opened up a new realm of possibilities. The digital landscape of Digimon awaits, and with a determined spark in its circuits, Porygon prepares for the next adventure, where Pokémon and Digimon can unite and explore the limitless potential of their worlds together.\n",
      "\n",
      "## Response B\n",
      "A Porygon creating a portal between the Pokémon and Digimon worlds is a fascinating concept that opens up a multitude of possibilities, given the unique characteristics of both Pokémon and Digimon.  To explore this, let's consider several aspects:\n",
      "\n",
      "**The Nature of the Portal:**\n",
      "\n",
      "* **Porygon's Role:** Porygon, a Pokémon known for its digital nature and ability to manipulate data, would be a likely candidate for creating the portal.  Its inherent digital essence could act as a bridge between the two worlds, which are likely structured differently.  However, the specific mechanism of the portal creation would need to be determined.  Does Porygon use its digital abilities to warp space-time, or is it manipulating some shared digital underpinning of both universes?  Does it need a specific item or energy source?\n",
      "* **The Portal's Properties:**  The portal's characteristics are crucial.  Will it be a stable and consistent passage, or will it be unstable and unpredictable?  Will it allow for two-way travel, or only one-way?  Will it be limited to specific locations in each world, or be more general?  Will it be visible, or will it be hidden?  Knowing these specifics will drastically affect how it would be utilized.\n",
      "\n",
      "**The Interaction and Implications:**\n",
      "\n",
      "* **Species Interaction:**  This is the most significant aspect.  How would Pokémon and Digimon react to each other?  Would they recognize each other as living entities, or as some kind of strange, digital anomaly?  Would there be hostile interactions?  Perhaps a Digimon or Pokémon might be attracted to the other world by its unique energy signature.  Would their abilities and powers interact? Would they adapt or evolve in response to the exposure?\n",
      "* **Ecological Impacts:**  The introduction of a species from one world to another could have significant ecological impacts.  Would the introduced species disrupt the ecosystem of the other world?  Would there be competition for resources?  Would existing species evolve to better adapt to the influx of new creatures?\n",
      "* **Cultural Exchange:**  A portal creating a bridge between two worlds would be a fascinating opportunity for cultural exchange.  Would Pokémon and Digimon learn from each other's customs, traditions, and ways of life?  Would this lead to new alliances or conflicts?\n",
      "* **Dimensional Stability:**  Creating a portal between two worlds with different laws of physics and energies could have unpredictable consequences.  The stability of the portal itself would be a major concern.  Would it require constant energy input to maintain, or would it collapse on its own?  What are the potential dangers of a failed or unstable portal?\n",
      "\n",
      "\n",
      "**Potential Narrative Applications:**\n",
      "\n",
      "* **Plot Device:** The portal could serve as a plot device for a story, perhaps involving a quest, a conflict, or a journey between the worlds.\n",
      "* **Character Development:**  Characters from one world could travel to the other, leading to personal growth and understanding.\n",
      "* **Mythological Significance:**  The portal could hold special significance for the cultures of either world, perhaps as a legendary event or a sacred space.\n",
      "\n",
      "\n",
      "In conclusion, the idea of a Porygon creating a portal between Pokémon and Digimon worlds is rich with possibilities.  To fully explore this concept, one would need to consider the specifics of the portal's properties, the interaction between the species, the potential ecological and cultural impacts, and the narrative applications this scenario could offer..\n",
      "\n",
      "## Which response is better?\n",
      "<|im_end|><|im_end|><|im_end|><|im_end|><|im_end|><|im_end|><|im_end|><|im_end|><|im_end|><|im_end|><|im_end|><|im_end|><|im_end|><|im_end|><|im_end|><|im_end|><|im_end|><|im_end|><|im_end|><|im_end|><|im_end|><|im_end|><|im_end|><|im_end|><|im_end|><|im_end|><|im_end|><|im_end|><|im_end|><|im_end|><|im_end|><|im_end|><|im_end|><|im_end|><|im_end|><|im_end|><|im_end|><|im_end|><|im_end|><|im_end|><|im_end|><|im_end|><|im_end|><|im_end|><|im_end|><|im_end|><|im_end|><|im_end|><|im_end|><|im_end|><|im_end|><|im_end|><|im_end|><|im_end|><|im_end|><|im_end|><|im_end|><|im_end|><|im_end|><|im_end|><|im_end|><|im_end|><|im_end|><|im_end|><|im_end|><|im_end|><|im_end|><|im_end|><|im_end|><|im_end|><|im_end|><|im_end|><|im_end|><|im_end|><|im_end|><|im_end|><|im_end|><|im_end|><|im_end|><|im_end|><|im_end|><|im_end|><|im_end|><|im_end|><|im_end|><|im_end|><|im_end|><|im_end|><|im_end|><|im_end|><|im_end|><|im_end|><|im_end|><|im_end|><|im_end|><|im_end|><|im_end|><|im_end|><|im_end|><|im_end|><|im_end|><|im_end|><|im_end|><|im_end|><|im_end|><|im_end|><|im_end|><|im_end|><|im_end|><|im_end|><|im_end|><|im_end|><|im_end|><|im_end|><|im_end|><|im_end|><|im_end|><|im_end|><|im_end|><|im_end|><|im_end|><|im_end|><|im_end|><|im_end|><|im_end|><|im_end|><|im_end|><|im_end|><|im_end|><|im_end|><|im_end|><|im_end|><|im_end|><|im_end|><|im_end|><|im_end|><|im_end|><|im_end|><|im_end|><|im_end|><|im_end|><|im_end|><|im_end|><|im_end|><|im_end|><|im_end|><|im_end|><|im_end|><|im_end|><|im_end|><|im_end|><|im_end|><|im_end|><|im_end|><|im_end|><|im_end|><|im_end|><|im_end|><|im_end|><|im_end|><|im_end|><|im_end|><|im_end|><|im_end|><|im_end|><|im_end|><|im_end|><|im_end|><|im_end|><|im_end|><|im_end|><|im_end|><|im_end|><|im_end|><|im_end|><|im_end|><|im_end|><|im_end|><|im_end|><|im_end|><|im_end|><|im_end|><|im_end|><|im_end|><|im_end|><|im_end|><|im_end|><|im_end|><|im_end|><|im_end|><|im_end|><|im_end|><|im_end|><|im_end|><|im_end|><|im_end|><|im_end|><|im_end|><|im_end|><|im_end|><|im_end|><|im_end|><|im_end|><|im_end|><|im_end|><|im_end|><|im_end|><|im_end|><|im_end|><|im_end|><|im_end|><|im_end|><|im_end|><|im_end|><|im_end|><|im_end|><|im_end|><|im_end|><|im_end|><|im_end|><|im_end|><|im_end|><|im_end|><|im_end|><|im_end|><|im_end|><|im_end|><|im_end|><|im_end|><|im_end|><|im_end|><|im_end|><|im_end|><|im_end|><|im_end|><|im_end|><|im_end|><|im_end|><|im_end|><|im_end|><|im_end|><|im_end|><|im_end|><|im_end|><|im_end|><|im_end|><|im_end|><|im_end|><|im_end|><|im_end|><|im_end|><|im_end|><|im_end|><|im_end|><|im_end|><|im_end|><|im_end|><|im_end|><|im_end|><|im_end|><|im_end|><|im_end|><|im_end|><|im_end|><|im_end|><|im_end|><|im_end|><|im_end|>\n",
      "**label: 0\n"
     ]
    }
   ],
   "source": [
    "i = 1\n",
    "print(tokenizer.decode(tokenized_dataset[\"kaggle48k_val\"][i][\"input_ids\"], skip_special_tokens=False))\n",
    "print(\"**label:\", tokenized_dataset[\"kaggle48k_val\"][i][\"labels\"])"
   ]
  },
  {
   "cell_type": "code",
   "execution_count": 8,
   "metadata": {},
   "outputs": [
    {
     "name": "stderr",
     "output_type": "stream",
     "text": [
      "Saving the dataset (1/2 shards):  75%|███████▌  | 35976/47952 [00:00<00:00, 103547.55 examples/s]"
     ]
    },
    {
     "name": "stderr",
     "output_type": "stream",
     "text": [
      "Saving the dataset (2/2 shards): 100%|██████████| 47952/47952 [00:00<00:00, 89853.29 examples/s] \n",
      "Saving the dataset (1/1 shards): 100%|██████████| 485/485 [00:00<00:00, 56483.06 examples/s]\n"
     ]
    }
   ],
   "source": [
    "tokenized_dataset.save_to_disk(\"/group-volume/binfeng/wsdm/data/tokenized_qwencd32b_ft\")"
   ]
  },
  {
   "cell_type": "code",
   "execution_count": 9,
   "metadata": {},
   "outputs": [
    {
     "data": {
      "text/plain": [
       "{'text': Value(dtype='string', id=None),\n",
       " 'labels': Value(dtype='int64', id=None),\n",
       " 'input_ids': Sequence(feature=Value(dtype='int32', id=None), length=-1, id=None),\n",
       " 'attention_mask': Sequence(feature=Value(dtype='int8', id=None), length=-1, id=None)}"
      ]
     },
     "execution_count": 9,
     "metadata": {},
     "output_type": "execute_result"
    }
   ],
   "source": [
    "tokenized_dataset[\"kaggle48k_train\"].features"
   ]
  },
  {
   "cell_type": "code",
   "execution_count": null,
   "metadata": {},
   "outputs": [],
   "source": []
  }
 ],
 "metadata": {
  "kernelspec": {
   "display_name": "Python 3",
   "language": "python",
   "name": "python3"
  },
  "language_info": {
   "codemirror_mode": {
    "name": "ipython",
    "version": 3
   },
   "file_extension": ".py",
   "mimetype": "text/x-python",
   "name": "python",
   "nbconvert_exporter": "python",
   "pygments_lexer": "ipython3",
   "version": "3.11.6"
  }
 },
 "nbformat": 4,
 "nbformat_minor": 2
}
