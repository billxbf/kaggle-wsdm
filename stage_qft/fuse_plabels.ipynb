{
 "cells": [
  {
   "cell_type": "code",
   "execution_count": 2,
   "metadata": {},
   "outputs": [],
   "source": [
    "import pandas as pd\n",
    "import os\n",
    "os.chdir(\"/group-volume/binfeng/wsdm/stage_qft\")\n",
    "from utils import *\n",
    "\n",
    "import numpy as np\n",
    "\n",
    "def softmax(logits):\n",
    "    exp_logits = np.exp(logits - np.max(logits))  # Subtract max for numerical stability\n",
    "    return exp_logits / np.sum(exp_logits)\n",
    "\n",
    "def pred(x):\n",
    "    logits = np.array([x.logits_model_a, x.logits_model_b])\n",
    "    probs = softmax(logits)\n",
    "    \n",
    "    prob_model_a = probs[0]\n",
    "    prob_model_b = probs[1]\n",
    "    \n",
    "    if prob_model_a > 0.5:\n",
    "        return \"model_a\"\n",
    "    else:\n",
    "        return \"model_b\"\n",
    "def merge_logits(x):\n",
    "    return [x.logits_model_a, x.logits_model_b]"
   ]
  },
  {
   "cell_type": "markdown",
   "metadata": {},
   "source": [
    "## HFOPEN and LMSYS"
   ]
  },
  {
   "cell_type": "code",
   "execution_count": 2,
   "metadata": {},
   "outputs": [],
   "source": [
    "hfopen1 = pd.read_parquet(\"/group-volume/binfeng/wsdm/stage_qft/plabels/qwen32b_plabel_hfopen.parquet\")\n",
    "hfopen2 = pd.read_parquet(\"/group-volume/binfeng/wsdm/stage_qft/plabels/qwencd32b_plabel_hfopen.parquet\")\n",
    "lmsys1 = pd.read_parquet(\"/group-volume/binfeng/wsdm/stage_qft/plabels/qwen32b_plabel_lmsys.parquet\")\n",
    "lmsys2 = pd.read_parquet(\"/group-volume/binfeng/wsdm/stage_qft/plabels/qwencd32b_plabel_lmsys.parquet\")\n"
   ]
  },
  {
   "cell_type": "code",
   "execution_count": 3,
   "metadata": {},
   "outputs": [],
   "source": [
    "hfopen_m = pd.read_parquet(\"/group-volume/binfeng/wsdm/stage_qft/plabels/qwen32b_plabel_hfopen.parquet\")\n",
    "lmsys_m = pd.read_parquet(\"/group-volume/binfeng/wsdm/stage_qft/plabels/qwen32b_plabel_lmsys.parquet\")\n",
    "hfopen_m[\"logits_model_a\"] = 0.5 * hfopen1[\"logits_model_a\"] + 0.5 * hfopen2[\"logits_model_a\"]\n",
    "lmsys_m[\"logits_model_a\"] = 0.5 * lmsys1[\"logits_model_a\"] + 0.5 * lmsys2[\"logits_model_a\"]\n",
    "hfopen_m[\"logits_model_b\"] = 0.5 * hfopen1[\"logits_model_b\"] + 0.5 * hfopen2[\"logits_model_b\"]\n",
    "lmsys_m[\"logits_model_b\"] = 0.5 * lmsys1[\"logits_model_b\"] + 0.5 * lmsys2[\"logits_model_b\"]"
   ]
  },
  {
   "cell_type": "code",
   "execution_count": 4,
   "metadata": {},
   "outputs": [],
   "source": [
    "hfopen_m[\"winner\"] = hfopen1.apply(pred, axis=1)\n",
    "lmsys_m[\"winner\"] = lmsys1.apply(pred, axis=1)"
   ]
  },
  {
   "cell_type": "markdown",
   "metadata": {},
   "source": [
    "## Soft full"
   ]
  },
  {
   "cell_type": "code",
   "execution_count": 6,
   "metadata": {},
   "outputs": [],
   "source": [
    "# soft\n",
    "hfopen = pd.read_parquet(\"/group-volume/binfeng/wsdm/stage_qft/plabels/qwen32b_plabel_hfopen.parquet\")\n",
    "lmsys = pd.read_parquet(\"/group-volume/binfeng/wsdm/stage_qft/plabels/qwen32b_plabel_lmsys.parquet\")\n",
    "hfopen[\"winner\"] = hfopen_m[\"winner\"]\n",
    "lmsys[\"winner\"] = lmsys_m[\"winner\"]\n",
    "soft_full = pd.concat([hfopen, lmsys], axis=0)"
   ]
  },
  {
   "cell_type": "code",
   "execution_count": 7,
   "metadata": {},
   "outputs": [],
   "source": [
    "soft_full[\"logits_qwen32\"] = soft_full.apply(merge_logits, axis=1)\n",
    "soft_full = soft_full[['prompt', 'response_a', 'response_b', 'winner', 'logits_qwen32']]"
   ]
  },
  {
   "cell_type": "code",
   "execution_count": 8,
   "metadata": {},
   "outputs": [
    {
     "data": {
      "text/plain": [
       "(87757, 5)"
      ]
     },
     "execution_count": 8,
     "metadata": {},
     "output_type": "execute_result"
    }
   ],
   "source": [
    "soft_full.dropna(inplace=True)\n",
    "soft_full.reset_index(drop=True, inplace=True)\n",
    "soft_full.shape"
   ]
  },
  {
   "cell_type": "code",
   "execution_count": 9,
   "metadata": {},
   "outputs": [],
   "source": [
    "soft_full.to_parquet(\"/group-volume/binfeng/wsdm/stage_qft/data/soft87k.parquet\", index=False)"
   ]
  },
  {
   "cell_type": "markdown",
   "metadata": {},
   "source": [
    "## soft2"
   ]
  },
  {
   "cell_type": "code",
   "execution_count": 10,
   "metadata": {},
   "outputs": [],
   "source": [
    "# soft\n",
    "hfopen = pd.read_parquet(\"/group-volume/binfeng/wsdm/stage_qft/plabels/qwencd32b_plabel_hfopen.parquet\")\n",
    "lmsys = pd.read_parquet(\"/group-volume/binfeng/wsdm/stage_qft/plabels/qwencd32b_plabel_lmsys.parquet\")\n",
    "hfopen[\"winner\"] = hfopen_m[\"winner\"]\n",
    "lmsys[\"winner\"] = lmsys_m[\"winner\"]\n",
    "soft_full = pd.concat([hfopen, lmsys], axis=0)"
   ]
  },
  {
   "cell_type": "code",
   "execution_count": 11,
   "metadata": {},
   "outputs": [],
   "source": [
    "soft_full[\"logits_qwencd\"] = soft_full.apply(merge_logits, axis=1)\n",
    "soft_full = soft_full[['prompt', 'response_a', 'response_b', 'winner', 'logits_qwencd']]"
   ]
  },
  {
   "cell_type": "code",
   "execution_count": 12,
   "metadata": {},
   "outputs": [
    {
     "data": {
      "text/plain": [
       "(87757, 5)"
      ]
     },
     "execution_count": 12,
     "metadata": {},
     "output_type": "execute_result"
    }
   ],
   "source": [
    "soft_full.dropna(inplace=True)\n",
    "soft_full = soft_full.reset_index(drop=True)\n",
    "soft_full.shape"
   ]
  },
  {
   "cell_type": "code",
   "execution_count": 13,
   "metadata": {},
   "outputs": [],
   "source": [
    "soft_old = pd.read_parquet(\"/group-volume/binfeng/wsdm/stage_qft/data/soft87k.parquet\")"
   ]
  },
  {
   "cell_type": "code",
   "execution_count": 14,
   "metadata": {},
   "outputs": [],
   "source": [
    "soft_full[\"logits_qwen32\"]  = soft_old[\"logits_qwen32\"]"
   ]
  },
  {
   "cell_type": "code",
   "execution_count": 15,
   "metadata": {},
   "outputs": [
    {
     "data": {
      "text/html": [
       "<div>\n",
       "<style scoped>\n",
       "    .dataframe tbody tr th:only-of-type {\n",
       "        vertical-align: middle;\n",
       "    }\n",
       "\n",
       "    .dataframe tbody tr th {\n",
       "        vertical-align: top;\n",
       "    }\n",
       "\n",
       "    .dataframe thead th {\n",
       "        text-align: right;\n",
       "    }\n",
       "</style>\n",
       "<table border=\"1\" class=\"dataframe\">\n",
       "  <thead>\n",
       "    <tr style=\"text-align: right;\">\n",
       "      <th></th>\n",
       "      <th>prompt</th>\n",
       "      <th>response_a</th>\n",
       "      <th>response_b</th>\n",
       "      <th>winner</th>\n",
       "      <th>logits_qwencd</th>\n",
       "      <th>logits_qwen32</th>\n",
       "    </tr>\n",
       "  </thead>\n",
       "  <tbody>\n",
       "    <tr>\n",
       "      <th>0</th>\n",
       "      <td>Cuadro Comparativo entre el Sistema Nervioso y...</td>\n",
       "      <td>El Sistema Nervioso y el Sistema Endocrino son...</td>\n",
       "      <td>A continuación se presenta un cuadro comparati...</td>\n",
       "      <td>model_a</td>\n",
       "      <td>[0.18798828125, -0.166015625]</td>\n",
       "      <td>[-1.125, -1.48828125]</td>\n",
       "    </tr>\n",
       "    <tr>\n",
       "      <th>1</th>\n",
       "      <td>Está escribiendo el guión de un curso de vídeo...</td>\n",
       "      <td>Claro, aquí tienes el objeto JSONcon la inform...</td>\n",
       "      <td>{\\n    \"course_name\": \"Esencia del Vino: Un Vi...</td>\n",
       "      <td>model_b</td>\n",
       "      <td>[-1.1796875, 1.16015625]</td>\n",
       "      <td>[-2.515625, -0.12060546875]</td>\n",
       "    </tr>\n",
       "    <tr>\n",
       "      <th>2</th>\n",
       "      <td>Please give an xml hierarchy representing the ...</td>\n",
       "      <td>```xml\\n&lt;?xml version=\"1.0\" encoding=\"UTF-8\"?&gt;...</td>\n",
       "      <td>Here's an XML hierarchy representing the anato...</td>\n",
       "      <td>model_a</td>\n",
       "      <td>[-0.123291015625, 0.14111328125]</td>\n",
       "      <td>[-1.11328125, -1.515625]</td>\n",
       "    </tr>\n",
       "    <tr>\n",
       "      <th>3</th>\n",
       "      <td>Tu es un consultant. Tu dois faire une proposi...</td>\n",
       "      <td>Voici une proposition de tableau récapitulatif...</td>\n",
       "      <td>Voici la liste des plateformes de recherche ex...</td>\n",
       "      <td>model_b</td>\n",
       "      <td>[-0.09765625, 0.119384765625]</td>\n",
       "      <td>[-1.4609375, -1.1953125]</td>\n",
       "    </tr>\n",
       "    <tr>\n",
       "      <th>4</th>\n",
       "      <td>extraia do texto abaixo os pedidos e a decisão...</td>\n",
       "      <td>| Pedido                         | Causa raiz ...</td>\n",
       "      <td>| Pedido | Causa Raiz do Pedido | Decisão (de...</td>\n",
       "      <td>model_a</td>\n",
       "      <td>[-0.09375, 0.0830078125]</td>\n",
       "      <td>[-1.234375, -1.39453125]</td>\n",
       "    </tr>\n",
       "    <tr>\n",
       "      <th>5</th>\n",
       "      <td>Please list the different types of cardiac mur...</td>\n",
       "      <td>Certainly! Here's a table summarizing the diff...</td>\n",
       "      <td>Here’s a table summarizing the different types...</td>\n",
       "      <td>model_a</td>\n",
       "      <td>[0.1123046875, -0.104248046875]</td>\n",
       "      <td>[-1.0546875, -1.5859375]</td>\n",
       "    </tr>\n",
       "    <tr>\n",
       "      <th>6</th>\n",
       "      <td>Transform the following C# Unity code to use U...</td>\n",
       "      <td>To transform the provided C# Unity code into u...</td>\n",
       "      <td>```csharp\\nusing UniRx;\\nusing UnityEngine;\\n\\...</td>\n",
       "      <td>model_b</td>\n",
       "      <td>[-0.119140625, 0.077392578125]</td>\n",
       "      <td>[-1.43359375, -1.19140625]</td>\n",
       "    </tr>\n",
       "    <tr>\n",
       "      <th>7</th>\n",
       "      <td>crie um swagger de um petshot\\n</td>\n",
       "      <td>Aqui está um exemplo de um Swagger (OpenAPI Sp...</td>\n",
       "      <td>Aqui está um Swagger YAML para um API que regi...</td>\n",
       "      <td>model_a</td>\n",
       "      <td>[0.4365234375, -0.421875]</td>\n",
       "      <td>[-0.80859375, -1.80078125]</td>\n",
       "    </tr>\n",
       "    <tr>\n",
       "      <th>8</th>\n",
       "      <td>Show me source code to open an Intuition windo...</td>\n",
       "      <td>```c\\n#include &lt;intuition.h&gt;\\n\\nvoid OpenIntui...</td>\n",
       "      <td>Sure, here's an example of source code writte...</td>\n",
       "      <td>model_a</td>\n",
       "      <td>[0.68359375, -0.705078125]</td>\n",
       "      <td>[-0.63671875, -1.8984375]</td>\n",
       "    </tr>\n",
       "    <tr>\n",
       "      <th>9</th>\n",
       "      <td>\\n\\nI am building an AI powered UI design tool...</td>\n",
       "      <td>```json\\nexport const EcommerceProductDetail: ...</td>\n",
       "      <td>Sure, I can help you with that! Here's an exa...</td>\n",
       "      <td>model_b</td>\n",
       "      <td>[-0.0126953125, 0.0225830078125]</td>\n",
       "      <td>[-1.4375, -1.1953125]</td>\n",
       "    </tr>\n",
       "  </tbody>\n",
       "</table>\n",
       "</div>"
      ],
      "text/plain": [
       "                                              prompt  \\\n",
       "0  Cuadro Comparativo entre el Sistema Nervioso y...   \n",
       "1  Está escribiendo el guión de un curso de vídeo...   \n",
       "2  Please give an xml hierarchy representing the ...   \n",
       "3  Tu es un consultant. Tu dois faire une proposi...   \n",
       "4  extraia do texto abaixo os pedidos e a decisão...   \n",
       "5  Please list the different types of cardiac mur...   \n",
       "6  Transform the following C# Unity code to use U...   \n",
       "7                    crie um swagger de um petshot\\n   \n",
       "8  Show me source code to open an Intuition windo...   \n",
       "9  \\n\\nI am building an AI powered UI design tool...   \n",
       "\n",
       "                                          response_a  \\\n",
       "0  El Sistema Nervioso y el Sistema Endocrino son...   \n",
       "1  Claro, aquí tienes el objeto JSONcon la inform...   \n",
       "2  ```xml\\n<?xml version=\"1.0\" encoding=\"UTF-8\"?>...   \n",
       "3  Voici une proposition de tableau récapitulatif...   \n",
       "4  | Pedido                         | Causa raiz ...   \n",
       "5  Certainly! Here's a table summarizing the diff...   \n",
       "6  To transform the provided C# Unity code into u...   \n",
       "7  Aqui está um exemplo de um Swagger (OpenAPI Sp...   \n",
       "8  ```c\\n#include <intuition.h>\\n\\nvoid OpenIntui...   \n",
       "9  ```json\\nexport const EcommerceProductDetail: ...   \n",
       "\n",
       "                                          response_b   winner  \\\n",
       "0  A continuación se presenta un cuadro comparati...  model_a   \n",
       "1  {\\n    \"course_name\": \"Esencia del Vino: Un Vi...  model_b   \n",
       "2  Here's an XML hierarchy representing the anato...  model_a   \n",
       "3  Voici la liste des plateformes de recherche ex...  model_b   \n",
       "4   | Pedido | Causa Raiz do Pedido | Decisão (de...  model_a   \n",
       "5  Here’s a table summarizing the different types...  model_a   \n",
       "6  ```csharp\\nusing UniRx;\\nusing UnityEngine;\\n\\...  model_b   \n",
       "7  Aqui está um Swagger YAML para um API que regi...  model_a   \n",
       "8   Sure, here's an example of source code writte...  model_a   \n",
       "9   Sure, I can help you with that! Here's an exa...  model_b   \n",
       "\n",
       "                      logits_qwencd                logits_qwen32  \n",
       "0     [0.18798828125, -0.166015625]        [-1.125, -1.48828125]  \n",
       "1          [-1.1796875, 1.16015625]  [-2.515625, -0.12060546875]  \n",
       "2  [-0.123291015625, 0.14111328125]     [-1.11328125, -1.515625]  \n",
       "3     [-0.09765625, 0.119384765625]     [-1.4609375, -1.1953125]  \n",
       "4          [-0.09375, 0.0830078125]     [-1.234375, -1.39453125]  \n",
       "5   [0.1123046875, -0.104248046875]     [-1.0546875, -1.5859375]  \n",
       "6    [-0.119140625, 0.077392578125]   [-1.43359375, -1.19140625]  \n",
       "7         [0.4365234375, -0.421875]   [-0.80859375, -1.80078125]  \n",
       "8        [0.68359375, -0.705078125]    [-0.63671875, -1.8984375]  \n",
       "9  [-0.0126953125, 0.0225830078125]        [-1.4375, -1.1953125]  "
      ]
     },
     "execution_count": 15,
     "metadata": {},
     "output_type": "execute_result"
    }
   ],
   "source": [
    "soft_full.head(10)"
   ]
  },
  {
   "cell_type": "code",
   "execution_count": 17,
   "metadata": {},
   "outputs": [],
   "source": [
    "soft_full.to_parquet(\"/group-volume/binfeng/wsdm/stage_qft/data/soft87k.parquet\", index=False)"
   ]
  },
  {
   "cell_type": "markdown",
   "metadata": {},
   "source": [
    "## kaggle data"
   ]
  },
  {
   "cell_type": "code",
   "execution_count": 2,
   "metadata": {},
   "outputs": [],
   "source": [
    "kaggle1 = pd.read_parquet(\"/group-volume/binfeng/wsdm/stage_qft/plabels/qwen32b_plabel_kaggle.parquet\")\n",
    "kaggle2 = pd.read_parquet(\"/group-volume/binfeng/wsdm/stage_qft/plabels/qwencd32b_plabel_kaggle.parquet\")\n"
   ]
  },
  {
   "cell_type": "code",
   "execution_count": 3,
   "metadata": {},
   "outputs": [],
   "source": [
    "tmp = pd.read_parquet(\"/group-volume/binfeng/wsdm/stage_qft/data/ft48k_calibrated.parquet\")"
   ]
  },
  {
   "cell_type": "code",
   "execution_count": 7,
   "metadata": {},
   "outputs": [],
   "source": [
    "kaggle1[\"logits_qwen32_cali\"] = kaggle1.apply(merge_logits, axis=1)\n",
    "kaggle1[\"logits_qwencd_cali\"] = kaggle2.apply(merge_logits, axis=1)"
   ]
  },
  {
   "cell_type": "code",
   "execution_count": 13,
   "metadata": {},
   "outputs": [],
   "source": [
    "kaggle1.to_parquet(\"/group-volume/binfeng/wsdm/stage_qft/data/ft48k_calibrated.parquet\")"
   ]
  },
  {
   "cell_type": "markdown",
   "metadata": {},
   "source": [
    "## Kaggle Data (Final Reinforce)"
   ]
  },
  {
   "cell_type": "code",
   "execution_count": 3,
   "metadata": {},
   "outputs": [],
   "source": [
    "kaggle1 = pd.read_parquet(\"/group-volume/binfeng/wsdm/stage_qft/plabels/qwen32b_plabel_kaggle.parquet\")\n",
    "kaggle2 = pd.read_parquet(\"/group-volume/binfeng/wsdm/stage_qft/plabels/qwencd32b_plabel_kaggle.parquet\")\n",
    "kaggle3 = pd.read_parquet(\"/group-volume/binfeng/wsdm/stage_qft/plabels/qwen14b_tie_plabel_kaggle.parquet\")"
   ]
  },
  {
   "cell_type": "code",
   "execution_count": 4,
   "metadata": {},
   "outputs": [],
   "source": [
    "tmp = pd.read_parquet(\"/group-volume/binfeng/wsdm/stage_qft/data/ft48k_calibrated.parquet\")"
   ]
  },
  {
   "cell_type": "code",
   "execution_count": 6,
   "metadata": {},
   "outputs": [
    {
     "data": {
      "text/html": [
       "<div>\n",
       "<style scoped>\n",
       "    .dataframe tbody tr th:only-of-type {\n",
       "        vertical-align: middle;\n",
       "    }\n",
       "\n",
       "    .dataframe tbody tr th {\n",
       "        vertical-align: top;\n",
       "    }\n",
       "\n",
       "    .dataframe thead th {\n",
       "        text-align: right;\n",
       "    }\n",
       "</style>\n",
       "<table border=\"1\" class=\"dataframe\">\n",
       "  <thead>\n",
       "    <tr style=\"text-align: right;\">\n",
       "      <th></th>\n",
       "      <th>prompt</th>\n",
       "      <th>response_a</th>\n",
       "      <th>response_b</th>\n",
       "      <th>winner</th>\n",
       "      <th>language</th>\n",
       "      <th>text</th>\n",
       "      <th>text_reverse</th>\n",
       "      <th>input_ids</th>\n",
       "      <th>input_ids_reverse</th>\n",
       "      <th>fold</th>\n",
       "      <th>logits_model_a</th>\n",
       "      <th>logits_model_b</th>\n",
       "      <th>logits_qwen32_cali</th>\n",
       "      <th>logits_qwencd_cali</th>\n",
       "      <th>logits_qwen14_cali</th>\n",
       "    </tr>\n",
       "  </thead>\n",
       "  <tbody>\n",
       "    <tr>\n",
       "      <th>0</th>\n",
       "      <td>draw a unicorn using asciii</td>\n",
       "      <td>Sure! Here's a simple ASCII art representation...</td>\n",
       "      <td>Sure! Here’s a simple ASCII art representation...</td>\n",
       "      <td>model_a</td>\n",
       "      <td>English</td>\n",
       "      <td>&lt;|User Prompt|&gt;\\ndraw a unicorn using asciii\\n...</td>\n",
       "      <td>&lt;|User Prompt|&gt;\\ndraw a unicorn using asciii\\n...</td>\n",
       "      <td>[27, 91, 1474, 59501, 91, 397, 7633, 264, 8183...</td>\n",
       "      <td>[27, 91, 1474, 59501, 91, 397, 7633, 264, 8183...</td>\n",
       "      <td>0</td>\n",
       "      <td>-0.298828</td>\n",
       "      <td>-2.351562</td>\n",
       "      <td>[-0.298828125, -2.3515625]</td>\n",
       "      <td>[0.849609375, -0.875]</td>\n",
       "      <td>[0.250244140625, -2.96875]</td>\n",
       "    </tr>\n",
       "    <tr>\n",
       "      <th>1</th>\n",
       "      <td>Сделать декомпозицию процесса \"выполнить ремон...</td>\n",
       "      <td>## Декомпозиция процесса \"Выполнить ремонт\" (D...</td>\n",
       "      <td>## Декомпозиция процесса \"Выполнить ремонт\" (д...</td>\n",
       "      <td>model_b</td>\n",
       "      <td>Russian</td>\n",
       "      <td>&lt;|User Prompt|&gt;\\nСделать декомпозицию процесса...</td>\n",
       "      <td>&lt;|User Prompt|&gt;\\nСделать декомпозицию процесса...</td>\n",
       "      <td>[27, 91, 1474, 59501, 91, 397, 19311, 57930, 1...</td>\n",
       "      <td>[27, 91, 1474, 59501, 91, 397, 19311, 57930, 1...</td>\n",
       "      <td>1</td>\n",
       "      <td>-2.757812</td>\n",
       "      <td>0.110840</td>\n",
       "      <td>[-2.7578125, 0.11083984375]</td>\n",
       "      <td>[-1.34765625, 1.296875]</td>\n",
       "      <td>[-3.0, 0.2568359375]</td>\n",
       "    </tr>\n",
       "    <tr>\n",
       "      <th>2</th>\n",
       "      <td>NOMBRE DE LA ACTIVIDAD: Análisis descriptivo t...</td>\n",
       "      <td>En el proceso de liofilización de alimentos, p...</td>\n",
       "      <td>## Análisis termodinámico de la liofilización:...</td>\n",
       "      <td>model_a</td>\n",
       "      <td>Spanish</td>\n",
       "      <td>&lt;|User Prompt|&gt;\\nNOMBRE DE LA ACTIVIDAD: Análi...</td>\n",
       "      <td>&lt;|User Prompt|&gt;\\nNOMBRE DE LA ACTIVIDAD: Análi...</td>\n",
       "      <td>[27, 91, 1474, 59501, 91, 397, 45, 62011, 3385...</td>\n",
       "      <td>[27, 91, 1474, 59501, 91, 397, 45, 62011, 3385...</td>\n",
       "      <td>2</td>\n",
       "      <td>-0.080078</td>\n",
       "      <td>-2.523438</td>\n",
       "      <td>[-0.080078125, -2.5234375]</td>\n",
       "      <td>[1.13671875, -1.16796875]</td>\n",
       "      <td>[-0.0933837890625, -2.625]</td>\n",
       "    </tr>\n",
       "    <tr>\n",
       "      <th>3</th>\n",
       "      <td>find the logic error in this code and explain ...</td>\n",
       "      <td>The logic error in the provided code is relate...</td>\n",
       "      <td>The code is well-structured and clean. However...</td>\n",
       "      <td>model_a</td>\n",
       "      <td>English</td>\n",
       "      <td>&lt;|User Prompt|&gt;\\nfind the logic error in this ...</td>\n",
       "      <td>&lt;|User Prompt|&gt;\\nfind the logic error in this ...</td>\n",
       "      <td>[27, 91, 1474, 59501, 91, 397, 3903, 279, 1221...</td>\n",
       "      <td>[27, 91, 1474, 59501, 91, 397, 3903, 279, 1221...</td>\n",
       "      <td>3</td>\n",
       "      <td>-0.859375</td>\n",
       "      <td>-1.820312</td>\n",
       "      <td>[-0.859375, -1.8203125]</td>\n",
       "      <td>[0.36328125, -0.3662109375]</td>\n",
       "      <td>[0.34912109375, -3.09375]</td>\n",
       "    </tr>\n",
       "    <tr>\n",
       "      <th>4</th>\n",
       "      <td>\\nДобрый день, коллега. От Вас требуется завер...</td>\n",
       "      <td>```python\\n    \\n    \\n    \\n    \\n    \\n    \\...</td>\n",
       "      <td>В вашем коде есть несколько импортов, которые ...</td>\n",
       "      <td>model_b</td>\n",
       "      <td>Russian</td>\n",
       "      <td>&lt;|User Prompt|&gt;\\n\\nДобрый день, коллега. От Ва...</td>\n",
       "      <td>&lt;|User Prompt|&gt;\\n\\nДобрый день, коллега. От Ва...</td>\n",
       "      <td>[27, 91, 1474, 59501, 91, 1339, 24110, 131014,...</td>\n",
       "      <td>[27, 91, 1474, 59501, 91, 1339, 24110, 131014,...</td>\n",
       "      <td>0</td>\n",
       "      <td>-1.765625</td>\n",
       "      <td>-0.835938</td>\n",
       "      <td>[-1.765625, -0.8359375]</td>\n",
       "      <td>[-1.109375, 1.09765625]</td>\n",
       "      <td>[-2.125, -0.513671875]</td>\n",
       "    </tr>\n",
       "    <tr>\n",
       "      <th>...</th>\n",
       "      <td>...</td>\n",
       "      <td>...</td>\n",
       "      <td>...</td>\n",
       "      <td>...</td>\n",
       "      <td>...</td>\n",
       "      <td>...</td>\n",
       "      <td>...</td>\n",
       "      <td>...</td>\n",
       "      <td>...</td>\n",
       "      <td>...</td>\n",
       "      <td>...</td>\n",
       "      <td>...</td>\n",
       "      <td>...</td>\n",
       "      <td>...</td>\n",
       "      <td>...</td>\n",
       "    </tr>\n",
       "    <tr>\n",
       "      <th>48432</th>\n",
       "      <td>原名赵亮的王雁南女士的爸爸，因为涉及了什么事件，被软禁起来？</td>\n",
       "      <td>王雁南女士的原名是赵亮，她的父亲是赵紫阳。赵紫阳是中国改革开放时期的重要领导人之一，曾担任国...</td>\n",
       "      <td>王雁南女士的父亲赵亮因涉及“反右派”事件而被软禁。反右派运动是中国在1957年进行的一次政治...</td>\n",
       "      <td>model_a</td>\n",
       "      <td>Chinese</td>\n",
       "      <td>&lt;|User Prompt|&gt;\\n原名赵亮的王雁南女士的爸爸，因为涉及了什么事件，被软禁起来...</td>\n",
       "      <td>&lt;|User Prompt|&gt;\\n原名赵亮的王雁南女士的爸爸，因为涉及了什么事件，被软禁起来...</td>\n",
       "      <td>[27, 91, 1474, 59501, 91, 397, 52129, 13072, 1...</td>\n",
       "      <td>[27, 91, 1474, 59501, 91, 397, 52129, 13072, 1...</td>\n",
       "      <td>0</td>\n",
       "      <td>0.140442</td>\n",
       "      <td>-2.828125</td>\n",
       "      <td>[0.14044189453125, -2.828125]</td>\n",
       "      <td>[0.728515625, -0.7578125]</td>\n",
       "      <td>[-1.04296875, -1.55859375]</td>\n",
       "    </tr>\n",
       "    <tr>\n",
       "      <th>48433</th>\n",
       "      <td>\\n太興燒味會否結業的\\n</td>\n",
       "      <td>太興烧味是否会结业，这个问题的答案会受到多种因素的影响，包括但不限于市场环境、经营状况、管理...</td>\n",
       "      <td>截至我最後的資訊更新日期（2023年10月），我沒有具體的資訊表明太興燒味是否已經結業。太興...</td>\n",
       "      <td>model_a</td>\n",
       "      <td>Chinese</td>\n",
       "      <td>&lt;|User Prompt|&gt;\\n\\n太興燒味會否結業的\\n\\n\\n&lt;|Response A...</td>\n",
       "      <td>&lt;|User Prompt|&gt;\\n\\n太興燒味會否結業的\\n\\n\\n&lt;|Response A...</td>\n",
       "      <td>[27, 91, 1474, 59501, 91, 1339, 99222, 103061,...</td>\n",
       "      <td>[27, 91, 1474, 59501, 91, 1339, 99222, 103061,...</td>\n",
       "      <td>1</td>\n",
       "      <td>-1.265625</td>\n",
       "      <td>-1.351562</td>\n",
       "      <td>[-1.265625, -1.3515625]</td>\n",
       "      <td>[-0.076171875, 0.075927734375]</td>\n",
       "      <td>[-3.0546875, 0.23876953125]</td>\n",
       "    </tr>\n",
       "    <tr>\n",
       "      <th>48434</th>\n",
       "      <td>葡萄糖是从葡萄中提取的吗</td>\n",
       "      <td>不是的。葡萄糖的名字可能会让人误以为它是从葡萄中提取的，但实际上，葡萄糖是一种单糖，也被称为...</td>\n",
       "      <td>葡萄糖并不是专门从葡萄中提取的，尽管它的名字听起来像是与葡萄有直接的联系。实际上，葡萄糖是一...</td>\n",
       "      <td>model_b</td>\n",
       "      <td>Chinese</td>\n",
       "      <td>&lt;|User Prompt|&gt;\\n葡萄糖是从葡萄中提取的吗\\n\\n&lt;|Response A|...</td>\n",
       "      <td>&lt;|User Prompt|&gt;\\n葡萄糖是从葡萄中提取的吗\\n\\n&lt;|Response A|...</td>\n",
       "      <td>[27, 91, 1474, 59501, 91, 397, 101580, 100443,...</td>\n",
       "      <td>[27, 91, 1474, 59501, 91, 397, 101580, 100443,...</td>\n",
       "      <td>2</td>\n",
       "      <td>-1.492188</td>\n",
       "      <td>-1.128906</td>\n",
       "      <td>[-1.4921875, -1.12890625]</td>\n",
       "      <td>[-0.088134765625, 0.093994140625]</td>\n",
       "      <td>[-0.2001953125, -2.5390625]</td>\n",
       "    </tr>\n",
       "    <tr>\n",
       "      <th>48435</th>\n",
       "      <td>請寫一首關於台灣的七言律詩</td>\n",
       "      <td>島嶼翠峰雲霧繞，\\n碧海金沙映夕陽。\\n稻香飄曳滿山鄉，\\n椰影婆娑伴漁舟，\\n人文薈萃古今...</td>\n",
       "      <td>寶島台灣勝景多，碧波千頃海天寬。\\n阿里高峰雲霧繚，日月潭水鏡天端。\\n相思樹下情綿長，细雨...</td>\n",
       "      <td>model_b</td>\n",
       "      <td>Chinese</td>\n",
       "      <td>&lt;|User Prompt|&gt;\\n請寫一首關於台灣的七言律詩\\n\\n&lt;|Response A...</td>\n",
       "      <td>&lt;|User Prompt|&gt;\\n請寫一首關於台灣的七言律詩\\n\\n&lt;|Response A...</td>\n",
       "      <td>[27, 91, 1474, 59501, 91, 397, 100792, 105244,...</td>\n",
       "      <td>[27, 91, 1474, 59501, 91, 397, 100792, 105244,...</td>\n",
       "      <td>3</td>\n",
       "      <td>-2.140625</td>\n",
       "      <td>-0.462891</td>\n",
       "      <td>[-2.140625, -0.462890625]</td>\n",
       "      <td>[-0.373046875, 0.4091796875]</td>\n",
       "      <td>[-1.15234375, -1.46875]</td>\n",
       "    </tr>\n",
       "    <tr>\n",
       "      <th>48436</th>\n",
       "      <td>把这段话翻译成中文今日はいいことありすぎた！！！！！\\nまず、フォロワー様が五十人になって(...</td>\n",
       "      <td>今天发生了太多好事！！！！！\\n首先，我的关注者数量已经达到五十人了（非常感谢大家）\\n现实...</td>\n",
       "      <td>今天真是好事连连！！！！！\\n首先，感谢您们的关注，我们的粉丝人数达到了五十人！（非常感谢你...</td>\n",
       "      <td>model_a</td>\n",
       "      <td>Japanese</td>\n",
       "      <td>&lt;|User Prompt|&gt;\\n把这段话翻译成中文今日はいいことありすぎた！！！！！\\nま...</td>\n",
       "      <td>&lt;|User Prompt|&gt;\\n把这段话翻译成中文今日はいいことありすぎた！！！！！\\nま...</td>\n",
       "      <td>[27, 91, 1474, 59501, 91, 397, 99360, 107083, ...</td>\n",
       "      <td>[27, 91, 1474, 59501, 91, 397, 99360, 107083, ...</td>\n",
       "      <td>0</td>\n",
       "      <td>-0.734375</td>\n",
       "      <td>-1.855469</td>\n",
       "      <td>[-0.734375, -1.85546875]</td>\n",
       "      <td>[0.462890625, -0.484375]</td>\n",
       "      <td>[-1.35546875, -1.27734375]</td>\n",
       "    </tr>\n",
       "  </tbody>\n",
       "</table>\n",
       "<p>48437 rows × 15 columns</p>\n",
       "</div>"
      ],
      "text/plain": [
       "                                                  prompt  \\\n",
       "0                            draw a unicorn using asciii   \n",
       "1      Сделать декомпозицию процесса \"выполнить ремон...   \n",
       "2      NOMBRE DE LA ACTIVIDAD: Análisis descriptivo t...   \n",
       "3      find the logic error in this code and explain ...   \n",
       "4      \\nДобрый день, коллега. От Вас требуется завер...   \n",
       "...                                                  ...   \n",
       "48432                     原名赵亮的王雁南女士的爸爸，因为涉及了什么事件，被软禁起来？   \n",
       "48433                                      \\n太興燒味會否結業的\\n   \n",
       "48434                                       葡萄糖是从葡萄中提取的吗   \n",
       "48435                                      請寫一首關於台灣的七言律詩   \n",
       "48436  把这段话翻译成中文今日はいいことありすぎた！！！！！\\nまず、フォロワー様が五十人になって(...   \n",
       "\n",
       "                                              response_a  \\\n",
       "0      Sure! Here's a simple ASCII art representation...   \n",
       "1      ## Декомпозиция процесса \"Выполнить ремонт\" (D...   \n",
       "2      En el proceso de liofilización de alimentos, p...   \n",
       "3      The logic error in the provided code is relate...   \n",
       "4      ```python\\n    \\n    \\n    \\n    \\n    \\n    \\...   \n",
       "...                                                  ...   \n",
       "48432  王雁南女士的原名是赵亮，她的父亲是赵紫阳。赵紫阳是中国改革开放时期的重要领导人之一，曾担任国...   \n",
       "48433  太興烧味是否会结业，这个问题的答案会受到多种因素的影响，包括但不限于市场环境、经营状况、管理...   \n",
       "48434  不是的。葡萄糖的名字可能会让人误以为它是从葡萄中提取的，但实际上，葡萄糖是一种单糖，也被称为...   \n",
       "48435  島嶼翠峰雲霧繞，\\n碧海金沙映夕陽。\\n稻香飄曳滿山鄉，\\n椰影婆娑伴漁舟，\\n人文薈萃古今...   \n",
       "48436  今天发生了太多好事！！！！！\\n首先，我的关注者数量已经达到五十人了（非常感谢大家）\\n现实...   \n",
       "\n",
       "                                              response_b   winner  language  \\\n",
       "0      Sure! Here’s a simple ASCII art representation...  model_a   English   \n",
       "1      ## Декомпозиция процесса \"Выполнить ремонт\" (д...  model_b   Russian   \n",
       "2      ## Análisis termodinámico de la liofilización:...  model_a   Spanish   \n",
       "3      The code is well-structured and clean. However...  model_a   English   \n",
       "4      В вашем коде есть несколько импортов, которые ...  model_b   Russian   \n",
       "...                                                  ...      ...       ...   \n",
       "48432  王雁南女士的父亲赵亮因涉及“反右派”事件而被软禁。反右派运动是中国在1957年进行的一次政治...  model_a   Chinese   \n",
       "48433  截至我最後的資訊更新日期（2023年10月），我沒有具體的資訊表明太興燒味是否已經結業。太興...  model_a   Chinese   \n",
       "48434  葡萄糖并不是专门从葡萄中提取的，尽管它的名字听起来像是与葡萄有直接的联系。实际上，葡萄糖是一...  model_b   Chinese   \n",
       "48435  寶島台灣勝景多，碧波千頃海天寬。\\n阿里高峰雲霧繚，日月潭水鏡天端。\\n相思樹下情綿長，细雨...  model_b   Chinese   \n",
       "48436  今天真是好事连连！！！！！\\n首先，感谢您们的关注，我们的粉丝人数达到了五十人！（非常感谢你...  model_a  Japanese   \n",
       "\n",
       "                                                    text  \\\n",
       "0      <|User Prompt|>\\ndraw a unicorn using asciii\\n...   \n",
       "1      <|User Prompt|>\\nСделать декомпозицию процесса...   \n",
       "2      <|User Prompt|>\\nNOMBRE DE LA ACTIVIDAD: Análi...   \n",
       "3      <|User Prompt|>\\nfind the logic error in this ...   \n",
       "4      <|User Prompt|>\\n\\nДобрый день, коллега. От Ва...   \n",
       "...                                                  ...   \n",
       "48432  <|User Prompt|>\\n原名赵亮的王雁南女士的爸爸，因为涉及了什么事件，被软禁起来...   \n",
       "48433  <|User Prompt|>\\n\\n太興燒味會否結業的\\n\\n\\n<|Response A...   \n",
       "48434  <|User Prompt|>\\n葡萄糖是从葡萄中提取的吗\\n\\n<|Response A|...   \n",
       "48435  <|User Prompt|>\\n請寫一首關於台灣的七言律詩\\n\\n<|Response A...   \n",
       "48436  <|User Prompt|>\\n把这段话翻译成中文今日はいいことありすぎた！！！！！\\nま...   \n",
       "\n",
       "                                            text_reverse  \\\n",
       "0      <|User Prompt|>\\ndraw a unicorn using asciii\\n...   \n",
       "1      <|User Prompt|>\\nСделать декомпозицию процесса...   \n",
       "2      <|User Prompt|>\\nNOMBRE DE LA ACTIVIDAD: Análi...   \n",
       "3      <|User Prompt|>\\nfind the logic error in this ...   \n",
       "4      <|User Prompt|>\\n\\nДобрый день, коллега. От Ва...   \n",
       "...                                                  ...   \n",
       "48432  <|User Prompt|>\\n原名赵亮的王雁南女士的爸爸，因为涉及了什么事件，被软禁起来...   \n",
       "48433  <|User Prompt|>\\n\\n太興燒味會否結業的\\n\\n\\n<|Response A...   \n",
       "48434  <|User Prompt|>\\n葡萄糖是从葡萄中提取的吗\\n\\n<|Response A|...   \n",
       "48435  <|User Prompt|>\\n請寫一首關於台灣的七言律詩\\n\\n<|Response A...   \n",
       "48436  <|User Prompt|>\\n把这段话翻译成中文今日はいいことありすぎた！！！！！\\nま...   \n",
       "\n",
       "                                               input_ids  \\\n",
       "0      [27, 91, 1474, 59501, 91, 397, 7633, 264, 8183...   \n",
       "1      [27, 91, 1474, 59501, 91, 397, 19311, 57930, 1...   \n",
       "2      [27, 91, 1474, 59501, 91, 397, 45, 62011, 3385...   \n",
       "3      [27, 91, 1474, 59501, 91, 397, 3903, 279, 1221...   \n",
       "4      [27, 91, 1474, 59501, 91, 1339, 24110, 131014,...   \n",
       "...                                                  ...   \n",
       "48432  [27, 91, 1474, 59501, 91, 397, 52129, 13072, 1...   \n",
       "48433  [27, 91, 1474, 59501, 91, 1339, 99222, 103061,...   \n",
       "48434  [27, 91, 1474, 59501, 91, 397, 101580, 100443,...   \n",
       "48435  [27, 91, 1474, 59501, 91, 397, 100792, 105244,...   \n",
       "48436  [27, 91, 1474, 59501, 91, 397, 99360, 107083, ...   \n",
       "\n",
       "                                       input_ids_reverse  fold  \\\n",
       "0      [27, 91, 1474, 59501, 91, 397, 7633, 264, 8183...     0   \n",
       "1      [27, 91, 1474, 59501, 91, 397, 19311, 57930, 1...     1   \n",
       "2      [27, 91, 1474, 59501, 91, 397, 45, 62011, 3385...     2   \n",
       "3      [27, 91, 1474, 59501, 91, 397, 3903, 279, 1221...     3   \n",
       "4      [27, 91, 1474, 59501, 91, 1339, 24110, 131014,...     0   \n",
       "...                                                  ...   ...   \n",
       "48432  [27, 91, 1474, 59501, 91, 397, 52129, 13072, 1...     0   \n",
       "48433  [27, 91, 1474, 59501, 91, 1339, 99222, 103061,...     1   \n",
       "48434  [27, 91, 1474, 59501, 91, 397, 101580, 100443,...     2   \n",
       "48435  [27, 91, 1474, 59501, 91, 397, 100792, 105244,...     3   \n",
       "48436  [27, 91, 1474, 59501, 91, 397, 99360, 107083, ...     0   \n",
       "\n",
       "       logits_model_a  logits_model_b             logits_qwen32_cali  \\\n",
       "0           -0.298828       -2.351562     [-0.298828125, -2.3515625]   \n",
       "1           -2.757812        0.110840    [-2.7578125, 0.11083984375]   \n",
       "2           -0.080078       -2.523438     [-0.080078125, -2.5234375]   \n",
       "3           -0.859375       -1.820312        [-0.859375, -1.8203125]   \n",
       "4           -1.765625       -0.835938        [-1.765625, -0.8359375]   \n",
       "...               ...             ...                            ...   \n",
       "48432        0.140442       -2.828125  [0.14044189453125, -2.828125]   \n",
       "48433       -1.265625       -1.351562        [-1.265625, -1.3515625]   \n",
       "48434       -1.492188       -1.128906      [-1.4921875, -1.12890625]   \n",
       "48435       -2.140625       -0.462891      [-2.140625, -0.462890625]   \n",
       "48436       -0.734375       -1.855469       [-0.734375, -1.85546875]   \n",
       "\n",
       "                      logits_qwencd_cali           logits_qwen14_cali  \n",
       "0                  [0.849609375, -0.875]   [0.250244140625, -2.96875]  \n",
       "1                [-1.34765625, 1.296875]         [-3.0, 0.2568359375]  \n",
       "2              [1.13671875, -1.16796875]   [-0.0933837890625, -2.625]  \n",
       "3            [0.36328125, -0.3662109375]    [0.34912109375, -3.09375]  \n",
       "4                [-1.109375, 1.09765625]       [-2.125, -0.513671875]  \n",
       "...                                  ...                          ...  \n",
       "48432          [0.728515625, -0.7578125]   [-1.04296875, -1.55859375]  \n",
       "48433     [-0.076171875, 0.075927734375]  [-3.0546875, 0.23876953125]  \n",
       "48434  [-0.088134765625, 0.093994140625]  [-0.2001953125, -2.5390625]  \n",
       "48435       [-0.373046875, 0.4091796875]      [-1.15234375, -1.46875]  \n",
       "48436           [0.462890625, -0.484375]   [-1.35546875, -1.27734375]  \n",
       "\n",
       "[48437 rows x 15 columns]"
      ]
     },
     "execution_count": 6,
     "metadata": {},
     "output_type": "execute_result"
    }
   ],
   "source": [
    "kaggle1[\"logits_qwen32_cali\"] = kaggle1.apply(merge_logits, axis=1)\n",
    "kaggle1[\"logits_qwencd_cali\"] = kaggle2.apply(merge_logits, axis=1)\n",
    "kaggle1[\"logits_qwen14_cali\"] = kaggle3.apply(merge_logits, axis=1)\n",
    "kaggle1"
   ]
  },
  {
   "cell_type": "code",
   "execution_count": 7,
   "metadata": {},
   "outputs": [],
   "source": [
    "kaggle1.to_parquet(\"/group-volume/binfeng/wsdm/stage_qft/data/ft48k_calibrated.parquet\")"
   ]
  },
  {
   "cell_type": "code",
   "execution_count": 6,
   "metadata": {},
   "outputs": [
    {
     "data": {
      "text/html": [
       "<div>\n",
       "<style scoped>\n",
       "    .dataframe tbody tr th:only-of-type {\n",
       "        vertical-align: middle;\n",
       "    }\n",
       "\n",
       "    .dataframe tbody tr th {\n",
       "        vertical-align: top;\n",
       "    }\n",
       "\n",
       "    .dataframe thead th {\n",
       "        text-align: right;\n",
       "    }\n",
       "</style>\n",
       "<table border=\"1\" class=\"dataframe\">\n",
       "  <thead>\n",
       "    <tr style=\"text-align: right;\">\n",
       "      <th></th>\n",
       "      <th>prompt</th>\n",
       "      <th>response_a</th>\n",
       "      <th>response_b</th>\n",
       "      <th>winner</th>\n",
       "      <th>language</th>\n",
       "      <th>text</th>\n",
       "      <th>text_reverse</th>\n",
       "      <th>input_ids</th>\n",
       "      <th>input_ids_reverse</th>\n",
       "      <th>fold</th>\n",
       "      <th>logits_model_a</th>\n",
       "      <th>logits_model_b</th>\n",
       "      <th>logits_qwen32_cali</th>\n",
       "      <th>logits_qwencd_cali</th>\n",
       "    </tr>\n",
       "  </thead>\n",
       "  <tbody>\n",
       "    <tr>\n",
       "      <th>0</th>\n",
       "      <td>draw a unicorn using asciii</td>\n",
       "      <td>Sure! Here's a simple ASCII art representation...</td>\n",
       "      <td>Sure! Here’s a simple ASCII art representation...</td>\n",
       "      <td>model_a</td>\n",
       "      <td>English</td>\n",
       "      <td>&lt;|User Prompt|&gt;\\ndraw a unicorn using asciii\\n...</td>\n",
       "      <td>&lt;|User Prompt|&gt;\\ndraw a unicorn using asciii\\n...</td>\n",
       "      <td>[27, 91, 1474, 59501, 91, 397, 7633, 264, 8183...</td>\n",
       "      <td>[27, 91, 1474, 59501, 91, 397, 7633, 264, 8183...</td>\n",
       "      <td>0</td>\n",
       "      <td>-0.298828</td>\n",
       "      <td>-2.351562</td>\n",
       "      <td>[0.275390625, -1.61328125]</td>\n",
       "      <td>[0.250244140625, -2.96875]</td>\n",
       "    </tr>\n",
       "    <tr>\n",
       "      <th>1</th>\n",
       "      <td>Сделать декомпозицию процесса \"выполнить ремон...</td>\n",
       "      <td>## Декомпозиция процесса \"Выполнить ремонт\" (D...</td>\n",
       "      <td>## Декомпозиция процесса \"Выполнить ремонт\" (д...</td>\n",
       "      <td>model_b</td>\n",
       "      <td>Russian</td>\n",
       "      <td>&lt;|User Prompt|&gt;\\nСделать декомпозицию процесса...</td>\n",
       "      <td>&lt;|User Prompt|&gt;\\nСделать декомпозицию процесса...</td>\n",
       "      <td>[27, 91, 1474, 59501, 91, 397, 19311, 57930, 1...</td>\n",
       "      <td>[27, 91, 1474, 59501, 91, 397, 19311, 57930, 1...</td>\n",
       "      <td>1</td>\n",
       "      <td>-2.757812</td>\n",
       "      <td>0.110840</td>\n",
       "      <td>[-2.052734375, 0.703857421875]</td>\n",
       "      <td>[-3.0, 0.2568359375]</td>\n",
       "    </tr>\n",
       "    <tr>\n",
       "      <th>2</th>\n",
       "      <td>NOMBRE DE LA ACTIVIDAD: Análisis descriptivo t...</td>\n",
       "      <td>En el proceso de liofilización de alimentos, p...</td>\n",
       "      <td>## Análisis termodinámico de la liofilización:...</td>\n",
       "      <td>model_a</td>\n",
       "      <td>Spanish</td>\n",
       "      <td>&lt;|User Prompt|&gt;\\nNOMBRE DE LA ACTIVIDAD: Análi...</td>\n",
       "      <td>&lt;|User Prompt|&gt;\\nNOMBRE DE LA ACTIVIDAD: Análi...</td>\n",
       "      <td>[27, 91, 1474, 59501, 91, 397, 45, 62011, 3385...</td>\n",
       "      <td>[27, 91, 1474, 59501, 91, 397, 45, 62011, 3385...</td>\n",
       "      <td>2</td>\n",
       "      <td>-0.080078</td>\n",
       "      <td>-2.523438</td>\n",
       "      <td>[0.5283203125, -1.845703125]</td>\n",
       "      <td>[-0.0933837890625, -2.625]</td>\n",
       "    </tr>\n",
       "    <tr>\n",
       "      <th>3</th>\n",
       "      <td>find the logic error in this code and explain ...</td>\n",
       "      <td>The logic error in the provided code is relate...</td>\n",
       "      <td>The code is well-structured and clean. However...</td>\n",
       "      <td>model_a</td>\n",
       "      <td>English</td>\n",
       "      <td>&lt;|User Prompt|&gt;\\nfind the logic error in this ...</td>\n",
       "      <td>&lt;|User Prompt|&gt;\\nfind the logic error in this ...</td>\n",
       "      <td>[27, 91, 1474, 59501, 91, 397, 3903, 279, 1221...</td>\n",
       "      <td>[27, 91, 1474, 59501, 91, 397, 3903, 279, 1221...</td>\n",
       "      <td>3</td>\n",
       "      <td>-0.859375</td>\n",
       "      <td>-1.820312</td>\n",
       "      <td>[-0.248046875, -1.09326171875]</td>\n",
       "      <td>[0.34912109375, -3.09375]</td>\n",
       "    </tr>\n",
       "    <tr>\n",
       "      <th>4</th>\n",
       "      <td>\\nДобрый день, коллега. От Вас требуется завер...</td>\n",
       "      <td>```python\\n    \\n    \\n    \\n    \\n    \\n    \\...</td>\n",
       "      <td>В вашем коде есть несколько импортов, которые ...</td>\n",
       "      <td>model_b</td>\n",
       "      <td>Russian</td>\n",
       "      <td>&lt;|User Prompt|&gt;\\n\\nДобрый день, коллега. От Ва...</td>\n",
       "      <td>&lt;|User Prompt|&gt;\\n\\nДобрый день, коллега. От Ва...</td>\n",
       "      <td>[27, 91, 1474, 59501, 91, 1339, 24110, 131014,...</td>\n",
       "      <td>[27, 91, 1474, 59501, 91, 1339, 24110, 131014,...</td>\n",
       "      <td>0</td>\n",
       "      <td>-1.765625</td>\n",
       "      <td>-0.835938</td>\n",
       "      <td>[-1.4375, 0.130859375]</td>\n",
       "      <td>[-2.125, -0.513671875]</td>\n",
       "    </tr>\n",
       "  </tbody>\n",
       "</table>\n",
       "</div>"
      ],
      "text/plain": [
       "                                              prompt  \\\n",
       "0                        draw a unicorn using asciii   \n",
       "1  Сделать декомпозицию процесса \"выполнить ремон...   \n",
       "2  NOMBRE DE LA ACTIVIDAD: Análisis descriptivo t...   \n",
       "3  find the logic error in this code and explain ...   \n",
       "4  \\nДобрый день, коллега. От Вас требуется завер...   \n",
       "\n",
       "                                          response_a  \\\n",
       "0  Sure! Here's a simple ASCII art representation...   \n",
       "1  ## Декомпозиция процесса \"Выполнить ремонт\" (D...   \n",
       "2  En el proceso de liofilización de alimentos, p...   \n",
       "3  The logic error in the provided code is relate...   \n",
       "4  ```python\\n    \\n    \\n    \\n    \\n    \\n    \\...   \n",
       "\n",
       "                                          response_b   winner language  \\\n",
       "0  Sure! Here’s a simple ASCII art representation...  model_a  English   \n",
       "1  ## Декомпозиция процесса \"Выполнить ремонт\" (д...  model_b  Russian   \n",
       "2  ## Análisis termodinámico de la liofilización:...  model_a  Spanish   \n",
       "3  The code is well-structured and clean. However...  model_a  English   \n",
       "4  В вашем коде есть несколько импортов, которые ...  model_b  Russian   \n",
       "\n",
       "                                                text  \\\n",
       "0  <|User Prompt|>\\ndraw a unicorn using asciii\\n...   \n",
       "1  <|User Prompt|>\\nСделать декомпозицию процесса...   \n",
       "2  <|User Prompt|>\\nNOMBRE DE LA ACTIVIDAD: Análi...   \n",
       "3  <|User Prompt|>\\nfind the logic error in this ...   \n",
       "4  <|User Prompt|>\\n\\nДобрый день, коллега. От Ва...   \n",
       "\n",
       "                                        text_reverse  \\\n",
       "0  <|User Prompt|>\\ndraw a unicorn using asciii\\n...   \n",
       "1  <|User Prompt|>\\nСделать декомпозицию процесса...   \n",
       "2  <|User Prompt|>\\nNOMBRE DE LA ACTIVIDAD: Análi...   \n",
       "3  <|User Prompt|>\\nfind the logic error in this ...   \n",
       "4  <|User Prompt|>\\n\\nДобрый день, коллега. От Ва...   \n",
       "\n",
       "                                           input_ids  \\\n",
       "0  [27, 91, 1474, 59501, 91, 397, 7633, 264, 8183...   \n",
       "1  [27, 91, 1474, 59501, 91, 397, 19311, 57930, 1...   \n",
       "2  [27, 91, 1474, 59501, 91, 397, 45, 62011, 3385...   \n",
       "3  [27, 91, 1474, 59501, 91, 397, 3903, 279, 1221...   \n",
       "4  [27, 91, 1474, 59501, 91, 1339, 24110, 131014,...   \n",
       "\n",
       "                                   input_ids_reverse  fold  logits_model_a  \\\n",
       "0  [27, 91, 1474, 59501, 91, 397, 7633, 264, 8183...     0       -0.298828   \n",
       "1  [27, 91, 1474, 59501, 91, 397, 19311, 57930, 1...     1       -2.757812   \n",
       "2  [27, 91, 1474, 59501, 91, 397, 45, 62011, 3385...     2       -0.080078   \n",
       "3  [27, 91, 1474, 59501, 91, 397, 3903, 279, 1221...     3       -0.859375   \n",
       "4  [27, 91, 1474, 59501, 91, 1339, 24110, 131014,...     0       -1.765625   \n",
       "\n",
       "   logits_model_b              logits_qwen32_cali          logits_qwencd_cali  \n",
       "0       -2.351562      [0.275390625, -1.61328125]  [0.250244140625, -2.96875]  \n",
       "1        0.110840  [-2.052734375, 0.703857421875]        [-3.0, 0.2568359375]  \n",
       "2       -2.523438    [0.5283203125, -1.845703125]  [-0.0933837890625, -2.625]  \n",
       "3       -1.820312  [-0.248046875, -1.09326171875]   [0.34912109375, -3.09375]  \n",
       "4       -0.835938          [-1.4375, 0.130859375]      [-2.125, -0.513671875]  "
      ]
     },
     "execution_count": 6,
     "metadata": {},
     "output_type": "execute_result"
    }
   ],
   "source": [
    "# def mean_logits(x):\n",
    "#     return [(x[\"logits_qwen32_cali\"][0]+x[\"logits_qwencd_cali\"][0])/2, (x[\"logits_qwen32_cali\"][1]+x[\"logits_qwencd_cali\"][1])/2]\n",
    "\n",
    "# kaggle1[\"logits_qwen32_cali\"] = kaggle1.apply(mean_logits, axis=1)\n",
    "# kaggle1[\"logits_qwencd_cali\"] = kaggle3.apply(merge_logits, axis=1)\n",
    "# kaggle1.head()"
   ]
  },
  {
   "cell_type": "code",
   "execution_count": 7,
   "metadata": {},
   "outputs": [
    {
     "data": {
      "text/plain": [
       "(5539, 14)"
      ]
     },
     "execution_count": 7,
     "metadata": {},
     "output_type": "execute_result"
    }
   ],
   "source": [
    "df = kaggle3.copy()\n",
    "df[\"pred\"] = df.apply(lambda x: \"model_a\" if x[\"logits_model_a\"] > x[\"logits_model_b\"] else \"model_b\", axis=1)\n",
    "df[\"correct\"] = df[\"pred\"] == df[\"winner\"]\n",
    "hard_df = df[df[\"correct\"]==False].reset_index(drop=True)\n",
    "hard_df.shape"
   ]
  },
  {
   "cell_type": "code",
   "execution_count": 9,
   "metadata": {},
   "outputs": [
    {
     "data": {
      "text/plain": [
       "(6572, 14)"
      ]
     },
     "execution_count": 9,
     "metadata": {},
     "output_type": "execute_result"
    }
   ],
   "source": [
    "kaggle1 = kaggle1[kaggle1[\"prompt\"].isin(hard_df[\"prompt\"].tolist())]\n",
    "kaggle1.shape"
   ]
  },
  {
   "cell_type": "code",
   "execution_count": 10,
   "metadata": {},
   "outputs": [],
   "source": [
    "kaggle1.to_parquet(\"/group-volume/binfeng/wsdm/stage_qft/data/ftre6k_calibrated.parquet\")"
   ]
  },
  {
   "cell_type": "markdown",
   "metadata": {},
   "source": [
    "## Clean outliers"
   ]
  },
  {
   "cell_type": "code",
   "execution_count": 26,
   "metadata": {},
   "outputs": [],
   "source": [
    "ppt = pd.read_parquet(\"/group-volume/binfeng/wsdm/stage_distill/datap/ppt135k.parquet\")\n",
    "ft = pd.read_parquet(\"/group-volume/binfeng/wsdm/stage_distill/datap/ft48k.parquet\")"
   ]
  },
  {
   "cell_type": "code",
   "execution_count": 40,
   "metadata": {},
   "outputs": [],
   "source": [
    "def prob(x):\n",
    "    logits = np.array(np.mean([x[\"logits_qwencd\"], x[\"logits_qwen32\"]], axis=0))\n",
    "    probs = softmax(logits)\n",
    "    prob_model_a = probs[0]\n",
    "    # prob_model_b = probs[1]\n",
    "    return prob_model_a\n",
    "\n",
    "ppt[\"a_win\"] = ppt.apply(prob, axis=1)\n",
    "ft[\"a_win\"] = ft.apply(prob, axis=1)"
   ]
  },
  {
   "cell_type": "code",
   "execution_count": 72,
   "metadata": {},
   "outputs": [],
   "source": [
    "def isoutlier(x):\n",
    "    if x[\"winner\"]==\"model_a\" and x[\"a_win\"] < 0.3:\n",
    "        return True\n",
    "    if x[\"winner\"]==\"model_b\" and x[\"a_win\"] > 0.7:\n",
    "        return True\n",
    "    return False\n",
    "\n",
    "ppt[\"outlier\"] = ppt.apply(isoutlier, axis=1)\n",
    "ft[\"outlier\"] = ft.apply(isoutlier, axis=1)"
   ]
  },
  {
   "cell_type": "code",
   "execution_count": 78,
   "metadata": {},
   "outputs": [],
   "source": [
    "def calibrate(outlier, logits):\n",
    "    l = logits.copy()\n",
    "    if outlier:\n",
    "        l[0], l[1] = 0.5, 0.5\n",
    "        return l\n",
    "    else:\n",
    "        return l\n",
    "    \n",
    "ppt[\"logits_qwencd_cali\"] = ppt.apply(lambda x: calibrate(x[\"outlier\"], x[\"logits_qwencd\"]), axis=1)\n",
    "ppt[\"logits_qwen32_cali\"] = ppt.apply(lambda x: calibrate(x[\"outlier\"], x[\"logits_qwen32\"]), axis=1)\n",
    "ft[\"logits_qwencd_cali\"] = ft.apply(lambda x: calibrate(x[\"outlier\"], x[\"logits_qwencd\"]), axis=1)\n",
    "ft[\"logits_qwen32_cali\"] = ft.apply(lambda x: calibrate(x[\"outlier\"], x[\"logits_qwen32\"]), axis=1)"
   ]
  },
  {
   "cell_type": "code",
   "execution_count": 83,
   "metadata": {},
   "outputs": [],
   "source": [
    "ft.drop(['a_win', 'outlier'], axis=1, inplace=True)\n",
    "ppt.drop(['a_win', 'outlier'], axis=1, inplace=True)"
   ]
  },
  {
   "cell_type": "code",
   "execution_count": 84,
   "metadata": {},
   "outputs": [
    {
     "data": {
      "text/plain": [
       "(48437, 10)"
      ]
     },
     "execution_count": 84,
     "metadata": {},
     "output_type": "execute_result"
    }
   ],
   "source": [
    "ft.shape"
   ]
  },
  {
   "cell_type": "code",
   "execution_count": 85,
   "metadata": {},
   "outputs": [
    {
     "data": {
      "text/plain": [
       "(196794, 8)"
      ]
     },
     "execution_count": 85,
     "metadata": {},
     "output_type": "execute_result"
    }
   ],
   "source": [
    "ppt.shape"
   ]
  },
  {
   "cell_type": "code",
   "execution_count": 87,
   "metadata": {},
   "outputs": [],
   "source": [
    "ft.to_parquet(\"/group-volume/binfeng/wsdm/stage_final/data/ft48k_calibrated.parquet\")\n",
    "ppt.to_parquet(\"/group-volume/binfeng/wsdm/stage_final/data/ppt196k_calibrated.parquet\")"
   ]
  },
  {
   "cell_type": "code",
   "execution_count": null,
   "metadata": {},
   "outputs": [],
   "source": []
  }
 ],
 "metadata": {
  "kernelspec": {
   "display_name": "Python 3",
   "language": "python",
   "name": "python3"
  },
  "language_info": {
   "codemirror_mode": {
    "name": "ipython",
    "version": 3
   },
   "file_extension": ".py",
   "mimetype": "text/x-python",
   "name": "python",
   "nbconvert_exporter": "python",
   "pygments_lexer": "ipython3",
   "version": "3.11.6"
  }
 },
 "nbformat": 4,
 "nbformat_minor": 2
}
