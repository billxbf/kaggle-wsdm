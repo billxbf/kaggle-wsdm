{
 "cells": [
  {
   "cell_type": "code",
   "execution_count": 2,
   "metadata": {},
   "outputs": [],
   "source": [
    "import os\n",
    "from time import time\n",
    "import numpy as np\n",
    "import pandas as pd\n",
    "from tqdm.auto import tqdm\n",
    "from datasets import Dataset, DatasetDict\n",
    "from transformers import AutoTokenizer\n",
    "from huggingface_hub import login\n",
    "from sklearn.model_selection import StratifiedKFold, KFold\n",
    "tqdm.pandas()\n",
    "\n",
    "# Change the working directory to the directory containing the script\n",
    "os.chdir(\"/group-volume/binfeng/wsdm/stage_qft\")\n",
    "from utils import *\n"
   ]
  },
  {
   "cell_type": "code",
   "execution_count": 2,
   "metadata": {},
   "outputs": [],
   "source": [
    "MODEL_PATH = \"Qwen/Qwen2.5-32B-Instruct\"\n",
    "MAX_LENGTH = 4000\n",
    "MAX_PROMPT_LENGTH = 400"
   ]
  },
  {
   "cell_type": "markdown",
   "metadata": {},
   "source": [
    "## Tokenizer"
   ]
  },
  {
   "cell_type": "code",
   "execution_count": 3,
   "metadata": {},
   "outputs": [
    {
     "data": {
      "text/plain": [
       "('/group-volume/binfeng/wsdm/tokenizer/qwen32b/tokenizer_config.json',\n",
       " '/group-volume/binfeng/wsdm/tokenizer/qwen32b/special_tokens_map.json',\n",
       " '/group-volume/binfeng/wsdm/tokenizer/qwen32b/vocab.json',\n",
       " '/group-volume/binfeng/wsdm/tokenizer/qwen32b/merges.txt',\n",
       " '/group-volume/binfeng/wsdm/tokenizer/qwen32b/added_tokens.json',\n",
       " '/group-volume/binfeng/wsdm/tokenizer/qwen32b/tokenizer.json')"
      ]
     },
     "execution_count": 3,
     "metadata": {},
     "output_type": "execute_result"
    }
   ],
   "source": [
    "tokenizer = AutoTokenizer.from_pretrained(MODEL_PATH)\n",
    "tokenizer.pad_token = tokenizer.eos_token\n",
    "tokenizer.padding_side = 'right'\n",
    "tokenizer.save_pretrained(\"/group-volume/binfeng/wsdm/tokenizer/qwen32b\")"
   ]
  },
  {
   "cell_type": "markdown",
   "metadata": {},
   "source": [
    "## Prepare Data"
   ]
  },
  {
   "cell_type": "code",
   "execution_count": 5,
   "metadata": {},
   "outputs": [],
   "source": [
    "ft = pd.read_parquet(\"/group-volume/binfeng/wsdm/stage_qft/data/ft48k_calibrated.parquet\")\n",
    "ft.dropna(inplace=True)\n",
    "ft[\"text\"] = ft.apply(lambda x: format_text(tokenizer, x.prompt, x.response_a, x.response_b, \n",
    "                                                max_len=MAX_LENGTH, max_prompt_len=MAX_PROMPT_LENGTH), axis=1)\n",
    "ft[\"label\"] = ft.apply(lambda x: format_label(x.winner), axis=1)\n"
   ]
  },
  {
   "cell_type": "code",
   "execution_count": 4,
   "metadata": {},
   "outputs": [],
   "source": [
    "soft = pd.read_parquet(\"/group-volume/binfeng/wsdm/stage_qft/data/soft87k.parquet\")\n",
    "soft.dropna(inplace=True)\n",
    "soft[\"text\"] = soft.apply(lambda x: format_text(tokenizer, x.prompt, x.response_a, x.response_b, \n",
    "                                                max_len=MAX_LENGTH, max_prompt_len=MAX_PROMPT_LENGTH), axis=1)\n",
    "soft[\"label\"] = soft.apply(lambda x: format_label(x.winner), axis=1)\n"
   ]
  },
  {
   "cell_type": "code",
   "execution_count": 6,
   "metadata": {},
   "outputs": [],
   "source": [
    "soft = soft[~soft.prompt.isin(ft.prompt)]  # prevent leak"
   ]
  },
  {
   "cell_type": "code",
   "execution_count": 7,
   "metadata": {},
   "outputs": [
    {
     "name": "stdout",
     "output_type": "stream",
     "text": [
      "85478 2192\n"
     ]
    }
   ],
   "source": [
    "soft[\"logits_qwencd_cali\"] = soft[\"logits_qwencd\"]\n",
    "soft[\"logits_qwen32_cali\"] = soft[\"logits_qwen32\"]\n",
    "kf = KFold(n_splits=40, shuffle=True, random_state=66)\n",
    "for train_index, val_index in kf.split(soft):\n",
    "    soft_train, soft_val = soft.iloc[train_index], soft.iloc[val_index]\n",
    "    print(len(soft_train), len(soft_val))\n",
    "    break"
   ]
  },
  {
   "cell_type": "markdown",
   "metadata": {},
   "source": [
    "## Dataloader"
   ]
  },
  {
   "cell_type": "code",
   "execution_count": 8,
   "metadata": {},
   "outputs": [
    {
     "name": "stderr",
     "output_type": "stream",
     "text": [
      "/home/user/.local/lib/python3.11/site-packages/sklearn/model_selection/_split.py:805: UserWarning: The least populated class in y has only 1 members, which is less than n_splits=5.\n",
      "  warnings.warn(\n"
     ]
    },
    {
     "name": "stdout",
     "output_type": "stream",
     "text": [
      "38749 9688\n",
      "38749 9688\n",
      "38750 9687\n",
      "38750 9687\n",
      "38750 9687\n"
     ]
    },
    {
     "name": "stderr",
     "output_type": "stream",
     "text": [
      "Map: 100%|██████████| 85478/85478 [01:20<00:00, 1056.27 examples/s]\n",
      "Map: 100%|██████████| 2192/2192 [00:02<00:00, 1046.07 examples/s]\n",
      "Map: 100%|██████████| 38749/38749 [00:44<00:00, 867.02 examples/s] \n",
      "Map: 100%|██████████| 9688/9688 [00:11<00:00, 849.23 examples/s]\n",
      "Map: 100%|██████████| 38749/38749 [00:46<00:00, 839.71 examples/s] \n",
      "Map: 100%|██████████| 9688/9688 [00:11<00:00, 853.10 examples/s] \n",
      "Map: 100%|██████████| 38750/38750 [00:43<00:00, 881.34 examples/s] \n",
      "Map: 100%|██████████| 9687/9687 [00:10<00:00, 890.85 examples/s] \n",
      "Map: 100%|██████████| 38750/38750 [00:44<00:00, 869.02 examples/s] \n",
      "Map: 100%|██████████| 9687/9687 [00:10<00:00, 886.07 examples/s] \n",
      "Map: 100%|██████████| 38750/38750 [00:42<00:00, 901.41 examples/s] \n",
      "Map: 100%|██████████| 9687/9687 [00:10<00:00, 894.51 examples/s] \n"
     ]
    },
    {
     "data": {
      "text/plain": [
       "DatasetDict({\n",
       "    soft_train: Dataset({\n",
       "        features: ['labels', 'logits_qwencd_cali', 'logits_qwen32_cali', 'input_ids', 'attention_mask'],\n",
       "        num_rows: 85478\n",
       "    })\n",
       "    soft_val: Dataset({\n",
       "        features: ['labels', 'logits_qwencd_cali', 'logits_qwen32_cali', 'input_ids', 'attention_mask'],\n",
       "        num_rows: 2192\n",
       "    })\n",
       "    ft_train_fold0: Dataset({\n",
       "        features: ['labels', 'logits_qwencd_cali', 'logits_qwen32_cali', 'input_ids', 'attention_mask'],\n",
       "        num_rows: 38749\n",
       "    })\n",
       "    ft_val_fold0: Dataset({\n",
       "        features: ['labels', 'logits_qwencd_cali', 'logits_qwen32_cali', 'input_ids', 'attention_mask'],\n",
       "        num_rows: 9688\n",
       "    })\n",
       "    ft_train_fold1: Dataset({\n",
       "        features: ['labels', 'logits_qwencd_cali', 'logits_qwen32_cali', 'input_ids', 'attention_mask'],\n",
       "        num_rows: 38749\n",
       "    })\n",
       "    ft_val_fold1: Dataset({\n",
       "        features: ['labels', 'logits_qwencd_cali', 'logits_qwen32_cali', 'input_ids', 'attention_mask'],\n",
       "        num_rows: 9688\n",
       "    })\n",
       "    ft_train_fold2: Dataset({\n",
       "        features: ['labels', 'logits_qwencd_cali', 'logits_qwen32_cali', 'input_ids', 'attention_mask'],\n",
       "        num_rows: 38750\n",
       "    })\n",
       "    ft_val_fold2: Dataset({\n",
       "        features: ['labels', 'logits_qwencd_cali', 'logits_qwen32_cali', 'input_ids', 'attention_mask'],\n",
       "        num_rows: 9687\n",
       "    })\n",
       "    ft_train_fold3: Dataset({\n",
       "        features: ['labels', 'logits_qwencd_cali', 'logits_qwen32_cali', 'input_ids', 'attention_mask'],\n",
       "        num_rows: 38750\n",
       "    })\n",
       "    ft_val_fold3: Dataset({\n",
       "        features: ['labels', 'logits_qwencd_cali', 'logits_qwen32_cali', 'input_ids', 'attention_mask'],\n",
       "        num_rows: 9687\n",
       "    })\n",
       "    ft_train_fold4: Dataset({\n",
       "        features: ['labels', 'logits_qwencd_cali', 'logits_qwen32_cali', 'input_ids', 'attention_mask'],\n",
       "        num_rows: 38750\n",
       "    })\n",
       "    ft_val_fold4: Dataset({\n",
       "        features: ['labels', 'logits_qwencd_cali', 'logits_qwen32_cali', 'input_ids', 'attention_mask'],\n",
       "        num_rows: 9687\n",
       "    })\n",
       "})"
      ]
     },
     "execution_count": 8,
     "metadata": {},
     "output_type": "execute_result"
    }
   ],
   "source": [
    "def tokenizer_func(example):\n",
    "    return tokenizer(\n",
    "        example[\"text\"], \n",
    "        padding='max_length', \n",
    "        max_length=MAX_LENGTH,\n",
    "        truncation=True,\n",
    "        return_tensors='np'\n",
    "    )\n",
    "\n",
    "soft_train_dataset = Dataset.from_pandas(soft_train[[\"text\", \"label\", \"logits_qwencd_cali\", \"logits_qwen32_cali\"]])\n",
    "soft_val_dataset = Dataset.from_pandas(soft_val[[\"text\", \"label\", \"logits_qwencd_cali\", \"logits_qwen32_cali\"]])\n",
    "raw_dataset = DatasetDict({\n",
    "    'soft_train':soft_train_dataset,\n",
    "    'soft_val': soft_val_dataset\n",
    "})\n",
    "\n",
    "skf = StratifiedKFold(n_splits=5, shuffle=True, random_state=66)\n",
    "for i, (train_index, val_index) in enumerate(skf.split(ft, ft[\"language\"])):\n",
    "    ft_train, ft_val = ft.iloc[train_index], ft.iloc[val_index]\n",
    "    print(len(ft_train), len(ft_val))\n",
    "    ft_train_dataset = Dataset.from_pandas(ft_train[[\"text\", \"label\", \"logits_qwencd_cali\", \"logits_qwen32_cali\"]])\n",
    "    ft_val_dataset = Dataset.from_pandas(ft_val[[\"text\", \"label\", \"logits_qwencd_cali\", \"logits_qwen32_cali\"]])\n",
    "    raw_dataset[f\"ft_train_fold{i}\"] = ft_train_dataset\n",
    "    raw_dataset[f\"ft_val_fold{i}\"] = ft_val_dataset\n",
    "\n",
    "\n",
    "tokenized_dataset = raw_dataset.map(tokenizer_func, batched=True)\n",
    "tokenized_dataset = tokenized_dataset.rename_column(\"label\", \"labels\")\n",
    "tokenized_dataset = tokenized_dataset.remove_columns(['__index_level_0__', 'text'])\n",
    "tokenized_dataset\n"
   ]
  },
  {
   "cell_type": "code",
   "execution_count": 9,
   "metadata": {},
   "outputs": [
    {
     "name": "stdout",
     "output_type": "stream",
     "text": [
      "<|User Prompt|>\n",
      "in the following WHILE of an app that is a python chatbot made with langchain, I have the problem that when selecting options 5 and 6, the system does not respond when I enter the text #NAME_1, which is the call to chat again and set the user as active.\n",
      "I need to solve why #NAME_1 does not work when I choose options 5 and 6.\n",
      "\n",
      "while True:\n",
      "    id_conversacion = input(\"Ingresa tu ID de usuario: \").strip()\n",
      "\n",
      "    # Add the user to the list of active users\n",
      "    if id_conversacion in usuarios[\"inactivos\"]:\n",
      "        usuarios[\"inactivos\"].pop(id_conversacion, None)\n",
      "    usuarios[\"activos\"].append(id_conversacion)\n",
      "    guardar_usuarios(usuarios)\n",
      "\n",
      "    if id_conversacion not in history:\n",
      "        history[id_conversacion] = []\n",
      "        break\n",
      "    print(\"Bienvenido NAME_2!\")\n",
      "\n",
      "while True:\n",
      "    print()\n",
      "    opcion = obtener_opcion()\n",
      "\n",
      "    if opcion == \"#NAME_1\":\n",
      "        chatbot_pausado[id_conversacion] = not chatbot_pausado[id_conversacion]\n",
      "        if chatbot_pausado[id_conversacion]:\n",
      "            print(\"1 NAME_3 deseas volver a consultar al asistente, escribí #NAME_1.\")\n",
      "            time.sleep(5)\n",
      "            usuarios[\"activos\"].remove(id_conversacion)\n",
      "            usuarios[\"inactivos\"][id_conversacion] = (datetime.now() + timedelta(hours=24)).strftime(\"%Y-%m-%d %H:%M:%S\")\n",
      "        else:\n",
      "            print(\"En que te puedo ayudar?\")\n",
      "            usuarios[\"inactivos\"].pop(id_conversacion, None)\n",
      "            usuarios[\"activos\"].append(id_conversacion)\n",
      "        guardar_usuarios(usuarios)\n",
      "        continue\n",
      "\n",
      "    if opcion in opciones:\n",
      "            pregunta = opciones[opcion]\n",
      "            respuesta = conversational_chat(pregunta, chain, history[id_conversacion])\n",
      "            print(respuesta)\n",
      "\n",
      "    if opcion == \"#menu\":\n",
      "        mostrar_menu()\n",
      "        continue\n",
      "\n",
      "    elif opcion  == \"4\":\n",
      "        while True:\n",
      "            print()\n",
      "            pregunta_usuario = input(\"Consultas ->  \").strip()\n",
      "            print()\n",
      "            if pregunta_usuario == \"#menu\":\n",
      "                print()\n",
      "                mostrar_menu()\n",
      "                break\n",
      "            else:\n",
      "                response = conversational_chat(pregunta_usuario, chain, history[id_conversacion])\n",
      "                print()\n",
      "                print(response)\n",
      "                print()\n",
      "\n",
      "    if opcion in [\"5\", \"6\"]:\n",
      "        chatbot_pausado[id_conversacion] = True\n",
      "        usuarios[\"activos\"].remove(id_conversacion)\n",
      "        usuarios[\"inactivos\"][id_conversacion] = (datetime.now() + timedelta(hours=24)).strftime(\"%Y-%m-%d %H:%M:%S\")\n",
      "        guardar_usuarios(usuarios)\n",
      "        if opcion == \"5\":\n",
      "            print()\n",
      "        else:\n",
      "           \n",
      "\n",
      "<|Response A|>\n",
      "To troubleshoot and resolve the issue with options 5 and 6 where the chatbot does not respond to `#NAME_1`, you need to ensure that the chatbot correctly handles the reactivation of the user when `#NAME_1` is entered after selecting options 5 or 6.\n",
      "\n",
      "Here's a revised version of your code with added handling for reactivating the user when `#NAME_1` is entered:\n",
      "\n",
      "```python\n",
      "while True:\n",
      "    id_conversacion = input(\"Ingresa tu ID de usuario: \").strip()\n",
      "\n",
      "    # Add the user to the list of active users\n",
      "    if id_conversacion in usuarios[\"inactivos\"]:\n",
      "        usuarios[\"inactivos\"].pop(id_conversacion, None)\n",
      "    usuarios[\"activos\"].append(id_conversacion)\n",
      "    guardar_usuarios(usuarios)\n",
      "\n",
      "    if id_conversacion not in history:\n",
      "        history[id_conversacion] = []\n",
      "        break\n",
      "    print(\"Bienvenido NAME_2!\")\n",
      "\n",
      "while True:\n",
      "    print()\n",
      "    opcion = obtener_opcion()\n",
      "\n",
      "    if opcion == \"#NAME_1\":\n",
      "        chatbot_pausado[id_conversacion] = not chatbot_pausado[id_conversacion]\n",
      "        if chatbot_pausado[id_conversacion]:\n",
      "            print(\"1 NAME_3 deseas volver a consultar al asistente, escribí #NAME_1.\")\n",
      "            time.sleep(5)\n",
      "            usuarios[\"activos\"].remove(id_conversacion)\n",
      "            usuarios[\"inactivos\"][id_conversacion] = (datetime.now() + timedelta(hours=24)).strftime(\"%Y-%m-%d %H:%M:%S\")\n",
      "        else:\n",
      "            print(\"En que te puedo ayudar?\")\n",
      "            usuarios[\"inactivos\"].pop(id_conversacion, None)\n",
      "            usuarios[\"activos\"].append(id_conversacion)\n",
      "        guardar_usuarios(usuarios)\n",
      "        continue\n",
      "\n",
      "    if opcion in opciones:\n",
      "        pregunta = opciones[opcion]\n",
      "        respuesta = conversational_chat(pregunta, chain, history[id_conversacion])\n",
      "        print(respuesta)\n",
      "\n",
      "    if opcion == \"#menu\":\n",
      "        mostrar_menu()\n",
      "        continue\n",
      "\n",
      "    elif opcion in [\"5\", \"6\"]:\n",
      "        chatbot_pausado[id_conversacion] = True\n",
      "        usuarios[\"activos\"].remove(id_conversacion)\n",
      "        usuarios[\"inactivos\"][id_conversacion] = (datetime.now() + timedelta(hours=24)).strftime(\"%Y-%m-%d %H:%M:%S\")\n",
      "        guardar_usuarios(usuarios)\n",
      "        if opcion == \"5\":\n",
      "            print()\n",
      "        else:\n",
      "            continue\n",
      "    \n",
      "    # Handle reactivation when #NAME_1 is entered\n",
      "    if opcion == \"#NAME_1\":\n",
      "        chatbot_pausado[id_conversacion] = not chatbot_pausado[id_conversacion]\n",
      "        if chatbot_pausado[id_conversacion]:\n",
      "            print(\"1 NAME_3 deseas volver a consultar al asistente, escribí #NAME_1.\")\n",
      "            time.sleep(5)\n",
      "            usuarios[\"activos\"].remove(id_conversacion)\n",
      "            usuarios[\"inactivos\"][id_conversacion] = (datetime.now() + timedelta(hours=24)).strftime(\"%Y-%m-%d %H:%M:%S\")\n",
      "        else:\n",
      "            print(\"En que te puedo ayudar?\")\n",
      "            usuarios[\"inactivos\"].pop(id_conversacion, None)\n",
      "            usuarios[\"activos\"].append(id_conversacion)\n",
      "        guardar_usuarios(usuarios)\n",
      "        continue\n",
      "```\n",
      "\n",
      "Make sure that the `obtener_opcion()` function correctly retrieves the user's input and that `#NAME_1` is recognized correctly when entered. The key changes involve ensuring the `#NAME_1` logic is correctly placed and that the user's state is properly managed when they choose options 5 or 6 and then try to reactivate using `#NAME_1`.\n",
      "\n",
      "<|Response B|>\n",
      "The issue you're encountering is likely due to the fact that when you select options 5 or 6, the chatbot is paused (`chatbot_pausado[id_conversacion] = True`), and the user is moved from the active list to the inactive list. However, the code does not provide a mechanism to reactivate the chatbot when `#NAME_1` is entered after selecting options 5 or 6.\n",
      "\n",
      "To fix this, you need to ensure that the chatbot can be reactivated by `#NAME_1` even after selecting options 5 or 6. Here's how you can modify your code to handle this scenario:\n",
      "\n",
      "```python\n",
      "while True:\n",
      "    id_conversacion = input(\"Ingresa tu ID de usuario: \").strip()\n",
      "\n",
      "    # Add the user to the list of active users\n",
      "    if id_conversacion in usuarios[\"inactivos\"]:\n",
      "        usuarios[\"inactivos\"].pop(id_conversacion, None)\n",
      "    usuarios[\"activos\"].append(id_conversacion)\n",
      "    guardar_usuarios(usuarios)\n",
      "\n",
      "    if id_conversacion not in history:\n",
      "        history[id_conversacion] = []\n",
      "        break\n",
      "    print(\"Bienvenido NAME_2!\")\n",
      "\n",
      "while True:\n",
      "    print()\n",
      "    opcion = obtener_opcion()\n",
      "\n",
      "    if opcion == \"#NAME_1\":\n",
      "        chatbot_pausado[id_conversacion] = not chatbot_pausado[id_conversacion]\n",
      "        if chatbot_pausado[id_conversacion]:\n",
      "            print(\"1 NAME_3 deseas volver a consultar al asistente, escribí #NAME_1.\")\n",
      "            time.sleep(5)\n",
      "            usuarios[\"activos\"].remove(id_conversacion)\n",
      "            usuarios[\"inactivos\"][id_conversacion] = (datetime.now() + timedelta(hours=24)).strftime(\"%Y-%m-%d %H:%M:%S\")\n",
      "        else:\n",
      "            print(\"En que te puedo ayudar?\")\n",
      "            usuarios[\"inactivos\"].pop(id_conversacion, None)\n",
      "            usuarios[\"activos\"].append(id_conversacion)\n",
      "        guardar_usuarios(usuarios)\n",
      "        continue\n",
      "\n",
      "    if opcion in opciones:\n",
      "        pregunta = opciones[opcion]\n",
      "        respuesta = conversational_chat(pregunta, chain, history[id_conversacion])\n",
      "        print(respuesta)\n",
      "\n",
      "    if opcion == \"#menu\":\n",
      "        mostrar_menu()\n",
      "        continue\n",
      "\n",
      "    elif opcion == \"4\":\n",
      "        while True:\n",
      "            print()\n",
      "            pregunta_usuario = input(\"Consultas ->  \").strip()\n",
      "            print()\n",
      "            if pregunta_usuario == \"#menu\":\n",
      "                print()\n",
      "                mostrar_menu()\n",
      "                break\n",
      "            else:\n",
      "                response = conversational_chat(pregunta_usuario, chain, history[id_conversacion])\n",
      "                print()\n",
      "                print(response)\n",
      "                print()\n",
      "\n",
      "    if opcion in [\"5\", \"6\"]:\n",
      "        chatbot_pausado[id_conversacion] = True\n",
      "        usuarios[\"activos\"].remove(id_conversacion)\n",
      "        usuarios[\"inactivos\"][id_conversacion] = (datetime.now() + timedelta(hours=24)).strftime(\"%Y-%m-%d %H:%M:%S\")\n",
      "        guardar_usuarios(usuarios)\n",
      "        if opcion == \"5\":\n",
      "            print()\n",
      "        else:\n",
      "            print()\n",
      "\n",
      "    # Add this block to handle reactivation after options 5 or 6\n",
      "    if opcion == \"#NAME_1\" and chatbot_pausado[id_conversacion]:\n",
      "        chatbot_pausado[id_conversacion] = False\n",
      "        usuarios[\"inactivos\"].pop(id_conversacion, None)\n",
      "        usuarios[\"activos\"].append(id_conversacion)\n",
      "        guardar_usuarios(usuarios)\n",
      "        print(\"En que te puedo ayudar?\")\n",
      "        continue\n",
      "```\n",
      "\n",
      "### Explanation:\n",
      "1. **Reactivation Handling**: After the block where options 5 and 6 are handled, I added a new block that checks if `#NAME_1` is entered and if the chatbot is paused (`chatbot_pausado[id_conversacion]` is `True`). If both conditions are met, the chatbot is reactivated, the user is moved back to the active list, and the chatbot asks how it can help.\n",
      "\n",
      "2. **Continuation**: The `continue` statement ensures that the loop continues, allowing the user to interact with the chatbot again.\n",
      "\n",
      "This modification ensures that the chatbot can be reactivated by entering `#NAME_1` even after selecting options 5 or 6.\n",
      "\n",
      "<|Which response do you prefer?|>\n",
      "<|im_end|><|im_end|><|im_end|><|im_end|><|im_end|><|im_end|><|im_end|><|im_end|><|im_end|><|im_end|><|im_end|><|im_end|><|im_end|><|im_end|><|im_end|><|im_end|><|im_end|><|im_end|><|im_end|><|im_end|><|im_end|><|im_end|><|im_end|><|im_end|><|im_end|><|im_end|><|im_end|><|im_end|><|im_end|><|im_end|><|im_end|><|im_end|><|im_end|><|im_end|><|im_end|><|im_end|><|im_end|><|im_end|><|im_end|><|im_end|><|im_end|><|im_end|><|im_end|><|im_end|><|im_end|><|im_end|><|im_end|><|im_end|><|im_end|><|im_end|><|im_end|><|im_end|><|im_end|><|im_end|><|im_end|><|im_end|><|im_end|><|im_end|><|im_end|><|im_end|><|im_end|><|im_end|><|im_end|><|im_end|><|im_end|><|im_end|><|im_end|><|im_end|><|im_end|><|im_end|><|im_end|><|im_end|><|im_end|><|im_end|><|im_end|><|im_end|><|im_end|><|im_end|><|im_end|><|im_end|><|im_end|><|im_end|><|im_end|><|im_end|><|im_end|><|im_end|><|im_end|><|im_end|><|im_end|><|im_end|><|im_end|><|im_end|><|im_end|><|im_end|><|im_end|><|im_end|><|im_end|><|im_end|><|im_end|><|im_end|><|im_end|><|im_end|><|im_end|><|im_end|><|im_end|><|im_end|><|im_end|><|im_end|><|im_end|><|im_end|><|im_end|><|im_end|><|im_end|><|im_end|><|im_end|><|im_end|><|im_end|><|im_end|><|im_end|><|im_end|><|im_end|><|im_end|><|im_end|><|im_end|><|im_end|><|im_end|><|im_end|><|im_end|><|im_end|><|im_end|><|im_end|><|im_end|><|im_end|><|im_end|><|im_end|><|im_end|><|im_end|><|im_end|><|im_end|><|im_end|><|im_end|><|im_end|><|im_end|><|im_end|><|im_end|><|im_end|><|im_end|><|im_end|><|im_end|><|im_end|><|im_end|><|im_end|><|im_end|><|im_end|><|im_end|><|im_end|><|im_end|><|im_end|><|im_end|><|im_end|><|im_end|><|im_end|><|im_end|><|im_end|><|im_end|><|im_end|><|im_end|><|im_end|><|im_end|><|im_end|><|im_end|><|im_end|><|im_end|><|im_end|><|im_end|><|im_end|><|im_end|><|im_end|><|im_end|><|im_end|><|im_end|><|im_end|><|im_end|><|im_end|><|im_end|><|im_end|><|im_end|><|im_end|><|im_end|><|im_end|><|im_end|><|im_end|><|im_end|><|im_end|><|im_end|><|im_end|><|im_end|><|im_end|><|im_end|><|im_end|><|im_end|><|im_end|><|im_end|><|im_end|><|im_end|><|im_end|><|im_end|><|im_end|><|im_end|><|im_end|><|im_end|><|im_end|><|im_end|><|im_end|><|im_end|><|im_end|><|im_end|><|im_end|><|im_end|><|im_end|><|im_end|><|im_end|><|im_end|><|im_end|><|im_end|><|im_end|><|im_end|><|im_end|><|im_end|><|im_end|><|im_end|><|im_end|><|im_end|><|im_end|><|im_end|><|im_end|><|im_end|><|im_end|><|im_end|><|im_end|><|im_end|><|im_end|><|im_end|><|im_end|><|im_end|><|im_end|><|im_end|><|im_end|><|im_end|><|im_end|><|im_end|><|im_end|><|im_end|><|im_end|><|im_end|><|im_end|><|im_end|><|im_end|><|im_end|><|im_end|><|im_end|><|im_end|><|im_end|><|im_end|><|im_end|><|im_end|><|im_end|><|im_end|><|im_end|><|im_end|><|im_end|><|im_end|><|im_end|><|im_end|><|im_end|><|im_end|><|im_end|><|im_end|><|im_end|><|im_end|><|im_end|><|im_end|><|im_end|><|im_end|><|im_end|><|im_end|><|im_end|><|im_end|><|im_end|><|im_end|><|im_end|><|im_end|><|im_end|><|im_end|><|im_end|><|im_end|><|im_end|><|im_end|><|im_end|><|im_end|><|im_end|><|im_end|><|im_end|><|im_end|><|im_end|><|im_end|><|im_end|><|im_end|><|im_end|><|im_end|><|im_end|><|im_end|><|im_end|><|im_end|><|im_end|><|im_end|><|im_end|><|im_end|><|im_end|><|im_end|><|im_end|><|im_end|><|im_end|><|im_end|><|im_end|><|im_end|><|im_end|><|im_end|><|im_end|><|im_end|><|im_end|><|im_end|><|im_end|><|im_end|><|im_end|><|im_end|><|im_end|><|im_end|><|im_end|><|im_end|><|im_end|><|im_end|><|im_end|><|im_end|><|im_end|><|im_end|><|im_end|><|im_end|><|im_end|><|im_end|><|im_end|><|im_end|><|im_end|><|im_end|><|im_end|><|im_end|><|im_end|><|im_end|><|im_end|><|im_end|><|im_end|><|im_end|><|im_end|><|im_end|><|im_end|><|im_end|><|im_end|><|im_end|><|im_end|><|im_end|><|im_end|><|im_end|><|im_end|><|im_end|><|im_end|><|im_end|><|im_end|><|im_end|><|im_end|><|im_end|><|im_end|><|im_end|><|im_end|><|im_end|><|im_end|><|im_end|><|im_end|><|im_end|><|im_end|><|im_end|><|im_end|><|im_end|><|im_end|><|im_end|><|im_end|><|im_end|><|im_end|><|im_end|><|im_end|><|im_end|><|im_end|><|im_end|><|im_end|><|im_end|><|im_end|><|im_end|><|im_end|><|im_end|><|im_end|><|im_end|><|im_end|><|im_end|><|im_end|><|im_end|><|im_end|><|im_end|><|im_end|><|im_end|><|im_end|><|im_end|><|im_end|><|im_end|><|im_end|><|im_end|><|im_end|><|im_end|><|im_end|><|im_end|><|im_end|><|im_end|><|im_end|><|im_end|><|im_end|><|im_end|><|im_end|><|im_end|><|im_end|><|im_end|><|im_end|><|im_end|><|im_end|><|im_end|><|im_end|><|im_end|><|im_end|><|im_end|><|im_end|><|im_end|><|im_end|><|im_end|><|im_end|><|im_end|><|im_end|><|im_end|><|im_end|><|im_end|><|im_end|><|im_end|><|im_end|><|im_end|><|im_end|><|im_end|><|im_end|><|im_end|><|im_end|><|im_end|><|im_end|><|im_end|><|im_end|><|im_end|><|im_end|><|im_end|><|im_end|><|im_end|><|im_end|><|im_end|><|im_end|><|im_end|><|im_end|><|im_end|><|im_end|><|im_end|><|im_end|><|im_end|><|im_end|><|im_end|><|im_end|><|im_end|><|im_end|><|im_end|><|im_end|><|im_end|><|im_end|><|im_end|><|im_end|><|im_end|><|im_end|><|im_end|><|im_end|><|im_end|><|im_end|><|im_end|><|im_end|><|im_end|><|im_end|><|im_end|><|im_end|><|im_end|><|im_end|><|im_end|><|im_end|><|im_end|><|im_end|><|im_end|><|im_end|><|im_end|><|im_end|><|im_end|><|im_end|><|im_end|><|im_end|><|im_end|><|im_end|><|im_end|><|im_end|><|im_end|><|im_end|><|im_end|><|im_end|><|im_end|><|im_end|><|im_end|><|im_end|><|im_end|><|im_end|><|im_end|><|im_end|><|im_end|><|im_end|><|im_end|><|im_end|><|im_end|><|im_end|><|im_end|><|im_end|><|im_end|><|im_end|><|im_end|><|im_end|><|im_end|><|im_end|><|im_end|><|im_end|><|im_end|><|im_end|><|im_end|><|im_end|><|im_end|><|im_end|><|im_end|><|im_end|><|im_end|><|im_end|><|im_end|><|im_end|><|im_end|><|im_end|><|im_end|><|im_end|><|im_end|><|im_end|><|im_end|><|im_end|><|im_end|><|im_end|><|im_end|><|im_end|><|im_end|><|im_end|><|im_end|><|im_end|><|im_end|><|im_end|><|im_end|><|im_end|><|im_end|><|im_end|><|im_end|><|im_end|><|im_end|><|im_end|><|im_end|><|im_end|><|im_end|><|im_end|><|im_end|><|im_end|><|im_end|><|im_end|><|im_end|><|im_end|><|im_end|><|im_end|><|im_end|><|im_end|><|im_end|><|im_end|><|im_end|><|im_end|><|im_end|><|im_end|><|im_end|><|im_end|><|im_end|><|im_end|><|im_end|><|im_end|><|im_end|><|im_end|><|im_end|><|im_end|><|im_end|><|im_end|><|im_end|><|im_end|><|im_end|><|im_end|><|im_end|><|im_end|><|im_end|><|im_end|><|im_end|><|im_end|><|im_end|><|im_end|><|im_end|><|im_end|><|im_end|><|im_end|><|im_end|><|im_end|><|im_end|><|im_end|><|im_end|><|im_end|><|im_end|><|im_end|><|im_end|><|im_end|><|im_end|><|im_end|><|im_end|><|im_end|><|im_end|><|im_end|><|im_end|><|im_end|><|im_end|><|im_end|><|im_end|><|im_end|><|im_end|><|im_end|><|im_end|><|im_end|><|im_end|><|im_end|><|im_end|><|im_end|><|im_end|><|im_end|><|im_end|><|im_end|><|im_end|><|im_end|><|im_end|><|im_end|><|im_end|><|im_end|><|im_end|><|im_end|><|im_end|><|im_end|><|im_end|><|im_end|><|im_end|><|im_end|><|im_end|><|im_end|><|im_end|><|im_end|><|im_end|><|im_end|><|im_end|><|im_end|><|im_end|><|im_end|><|im_end|><|im_end|><|im_end|><|im_end|><|im_end|><|im_end|><|im_end|><|im_end|><|im_end|><|im_end|><|im_end|><|im_end|><|im_end|><|im_end|><|im_end|><|im_end|><|im_end|><|im_end|><|im_end|><|im_end|><|im_end|><|im_end|><|im_end|><|im_end|><|im_end|><|im_end|><|im_end|><|im_end|><|im_end|><|im_end|><|im_end|><|im_end|><|im_end|><|im_end|><|im_end|><|im_end|><|im_end|><|im_end|><|im_end|><|im_end|><|im_end|><|im_end|><|im_end|><|im_end|><|im_end|><|im_end|><|im_end|><|im_end|><|im_end|><|im_end|><|im_end|><|im_end|><|im_end|><|im_end|><|im_end|><|im_end|><|im_end|><|im_end|><|im_end|><|im_end|><|im_end|><|im_end|><|im_end|><|im_end|><|im_end|><|im_end|><|im_end|><|im_end|><|im_end|><|im_end|><|im_end|><|im_end|><|im_end|><|im_end|><|im_end|><|im_end|><|im_end|><|im_end|><|im_end|><|im_end|><|im_end|><|im_end|><|im_end|><|im_end|><|im_end|><|im_end|><|im_end|><|im_end|><|im_end|><|im_end|><|im_end|><|im_end|><|im_end|><|im_end|><|im_end|><|im_end|><|im_end|><|im_end|><|im_end|><|im_end|><|im_end|><|im_end|><|im_end|><|im_end|><|im_end|><|im_end|><|im_end|><|im_end|><|im_end|><|im_end|><|im_end|><|im_end|><|im_end|><|im_end|><|im_end|><|im_end|><|im_end|><|im_end|><|im_end|><|im_end|><|im_end|><|im_end|><|im_end|><|im_end|><|im_end|><|im_end|><|im_end|><|im_end|><|im_end|><|im_end|><|im_end|><|im_end|><|im_end|><|im_end|><|im_end|><|im_end|><|im_end|><|im_end|><|im_end|><|im_end|><|im_end|><|im_end|><|im_end|><|im_end|><|im_end|><|im_end|><|im_end|><|im_end|><|im_end|><|im_end|><|im_end|><|im_end|><|im_end|><|im_end|><|im_end|><|im_end|><|im_end|><|im_end|><|im_end|><|im_end|><|im_end|><|im_end|><|im_end|><|im_end|><|im_end|><|im_end|><|im_end|><|im_end|><|im_end|><|im_end|><|im_end|><|im_end|><|im_end|><|im_end|><|im_end|><|im_end|><|im_end|><|im_end|><|im_end|><|im_end|><|im_end|><|im_end|><|im_end|><|im_end|><|im_end|><|im_end|><|im_end|><|im_end|><|im_end|><|im_end|><|im_end|><|im_end|><|im_end|><|im_end|><|im_end|><|im_end|><|im_end|><|im_end|><|im_end|><|im_end|><|im_end|><|im_end|><|im_end|><|im_end|><|im_end|><|im_end|><|im_end|><|im_end|><|im_end|><|im_end|><|im_end|><|im_end|><|im_end|><|im_end|><|im_end|><|im_end|><|im_end|><|im_end|><|im_end|><|im_end|><|im_end|><|im_end|><|im_end|><|im_end|><|im_end|><|im_end|><|im_end|><|im_end|><|im_end|><|im_end|><|im_end|><|im_end|><|im_end|><|im_end|><|im_end|><|im_end|><|im_end|><|im_end|><|im_end|><|im_end|><|im_end|><|im_end|><|im_end|><|im_end|><|im_end|><|im_end|><|im_end|><|im_end|><|im_end|><|im_end|><|im_end|><|im_end|><|im_end|><|im_end|><|im_end|><|im_end|><|im_end|><|im_end|><|im_end|><|im_end|><|im_end|><|im_end|><|im_end|><|im_end|><|im_end|><|im_end|><|im_end|><|im_end|><|im_end|><|im_end|><|im_end|><|im_end|><|im_end|><|im_end|><|im_end|><|im_end|><|im_end|><|im_end|><|im_end|><|im_end|><|im_end|><|im_end|><|im_end|><|im_end|><|im_end|><|im_end|><|im_end|><|im_end|><|im_end|><|im_end|><|im_end|><|im_end|><|im_end|><|im_end|><|im_end|><|im_end|><|im_end|><|im_end|><|im_end|><|im_end|><|im_end|><|im_end|><|im_end|><|im_end|><|im_end|><|im_end|><|im_end|><|im_end|><|im_end|><|im_end|><|im_end|><|im_end|><|im_end|><|im_end|><|im_end|><|im_end|><|im_end|><|im_end|><|im_end|><|im_end|><|im_end|><|im_end|><|im_end|><|im_end|><|im_end|><|im_end|><|im_end|><|im_end|><|im_end|><|im_end|><|im_end|><|im_end|><|im_end|><|im_end|><|im_end|><|im_end|><|im_end|><|im_end|><|im_end|><|im_end|><|im_end|><|im_end|><|im_end|><|im_end|><|im_end|><|im_end|><|im_end|><|im_end|><|im_end|><|im_end|><|im_end|><|im_end|><|im_end|><|im_end|><|im_end|><|im_end|><|im_end|><|im_end|><|im_end|><|im_end|><|im_end|><|im_end|><|im_end|><|im_end|><|im_end|><|im_end|><|im_end|><|im_end|><|im_end|><|im_end|><|im_end|><|im_end|><|im_end|><|im_end|><|im_end|><|im_end|><|im_end|><|im_end|><|im_end|><|im_end|><|im_end|><|im_end|><|im_end|><|im_end|><|im_end|><|im_end|><|im_end|><|im_end|><|im_end|><|im_end|><|im_end|><|im_end|><|im_end|><|im_end|><|im_end|><|im_end|><|im_end|><|im_end|><|im_end|><|im_end|><|im_end|><|im_end|><|im_end|><|im_end|><|im_end|><|im_end|><|im_end|><|im_end|><|im_end|><|im_end|><|im_end|><|im_end|><|im_end|><|im_end|><|im_end|><|im_end|><|im_end|><|im_end|><|im_end|><|im_end|><|im_end|><|im_end|><|im_end|><|im_end|><|im_end|><|im_end|><|im_end|><|im_end|><|im_end|><|im_end|><|im_end|><|im_end|><|im_end|><|im_end|><|im_end|><|im_end|><|im_end|><|im_end|><|im_end|><|im_end|><|im_end|><|im_end|><|im_end|><|im_end|><|im_end|><|im_end|><|im_end|><|im_end|><|im_end|><|im_end|><|im_end|><|im_end|><|im_end|><|im_end|><|im_end|><|im_end|><|im_end|><|im_end|><|im_end|><|im_end|><|im_end|><|im_end|><|im_end|><|im_end|><|im_end|><|im_end|><|im_end|><|im_end|><|im_end|><|im_end|><|im_end|><|im_end|><|im_end|><|im_end|><|im_end|><|im_end|><|im_end|><|im_end|><|im_end|><|im_end|><|im_end|><|im_end|><|im_end|><|im_end|><|im_end|><|im_end|><|im_end|><|im_end|><|im_end|><|im_end|><|im_end|><|im_end|><|im_end|><|im_end|><|im_end|><|im_end|><|im_end|><|im_end|><|im_end|><|im_end|><|im_end|><|im_end|><|im_end|><|im_end|><|im_end|><|im_end|><|im_end|><|im_end|><|im_end|><|im_end|><|im_end|><|im_end|><|im_end|><|im_end|><|im_end|><|im_end|><|im_end|><|im_end|><|im_end|><|im_end|><|im_end|><|im_end|><|im_end|><|im_end|><|im_end|><|im_end|><|im_end|><|im_end|><|im_end|><|im_end|><|im_end|><|im_end|><|im_end|><|im_end|><|im_end|><|im_end|><|im_end|><|im_end|><|im_end|><|im_end|><|im_end|><|im_end|><|im_end|><|im_end|><|im_end|><|im_end|><|im_end|><|im_end|><|im_end|><|im_end|><|im_end|><|im_end|><|im_end|><|im_end|><|im_end|><|im_end|><|im_end|><|im_end|><|im_end|><|im_end|><|im_end|><|im_end|><|im_end|><|im_end|><|im_end|><|im_end|><|im_end|><|im_end|><|im_end|><|im_end|><|im_end|><|im_end|><|im_end|><|im_end|><|im_end|><|im_end|><|im_end|><|im_end|><|im_end|><|im_end|><|im_end|><|im_end|><|im_end|><|im_end|><|im_end|><|im_end|><|im_end|><|im_end|><|im_end|><|im_end|><|im_end|><|im_end|><|im_end|><|im_end|><|im_end|><|im_end|><|im_end|><|im_end|><|im_end|><|im_end|><|im_end|><|im_end|><|im_end|><|im_end|><|im_end|><|im_end|><|im_end|><|im_end|><|im_end|><|im_end|><|im_end|><|im_end|><|im_end|><|im_end|><|im_end|><|im_end|><|im_end|><|im_end|><|im_end|><|im_end|><|im_end|><|im_end|><|im_end|><|im_end|><|im_end|><|im_end|><|im_end|><|im_end|><|im_end|><|im_end|><|im_end|><|im_end|><|im_end|><|im_end|><|im_end|><|im_end|><|im_end|><|im_end|><|im_end|><|im_end|><|im_end|><|im_end|><|im_end|><|im_end|><|im_end|><|im_end|><|im_end|><|im_end|><|im_end|><|im_end|><|im_end|><|im_end|><|im_end|><|im_end|><|im_end|><|im_end|><|im_end|><|im_end|><|im_end|><|im_end|><|im_end|><|im_end|><|im_end|><|im_end|><|im_end|><|im_end|><|im_end|><|im_end|><|im_end|><|im_end|><|im_end|><|im_end|><|im_end|><|im_end|><|im_end|><|im_end|><|im_end|><|im_end|><|im_end|><|im_end|><|im_end|><|im_end|><|im_end|><|im_end|><|im_end|><|im_end|><|im_end|><|im_end|><|im_end|><|im_end|><|im_end|><|im_end|><|im_end|><|im_end|><|im_end|><|im_end|><|im_end|><|im_end|><|im_end|><|im_end|><|im_end|><|im_end|><|im_end|><|im_end|><|im_end|><|im_end|><|im_end|><|im_end|><|im_end|><|im_end|><|im_end|><|im_end|><|im_end|><|im_end|><|im_end|><|im_end|><|im_end|><|im_end|><|im_end|><|im_end|><|im_end|><|im_end|><|im_end|><|im_end|><|im_end|><|im_end|><|im_end|><|im_end|><|im_end|><|im_end|><|im_end|><|im_end|><|im_end|><|im_end|><|im_end|><|im_end|><|im_end|><|im_end|><|im_end|><|im_end|><|im_end|><|im_end|><|im_end|><|im_end|><|im_end|><|im_end|><|im_end|><|im_end|><|im_end|><|im_end|><|im_end|><|im_end|><|im_end|><|im_end|><|im_end|><|im_end|><|im_end|><|im_end|><|im_end|><|im_end|><|im_end|><|im_end|><|im_end|><|im_end|><|im_end|><|im_end|><|im_end|><|im_end|><|im_end|><|im_end|><|im_end|><|im_end|><|im_end|><|im_end|><|im_end|><|im_end|><|im_end|><|im_end|><|im_end|><|im_end|><|im_end|><|im_end|><|im_end|><|im_end|><|im_end|><|im_end|><|im_end|><|im_end|><|im_end|><|im_end|><|im_end|><|im_end|><|im_end|><|im_end|><|im_end|><|im_end|><|im_end|><|im_end|><|im_end|><|im_end|><|im_end|><|im_end|><|im_end|><|im_end|><|im_end|><|im_end|><|im_end|><|im_end|><|im_end|><|im_end|><|im_end|><|im_end|><|im_end|><|im_end|><|im_end|><|im_end|><|im_end|><|im_end|><|im_end|><|im_end|><|im_end|><|im_end|><|im_end|><|im_end|><|im_end|><|im_end|><|im_end|><|im_end|><|im_end|><|im_end|><|im_end|><|im_end|><|im_end|><|im_end|><|im_end|><|im_end|><|im_end|><|im_end|><|im_end|><|im_end|><|im_end|><|im_end|><|im_end|><|im_end|><|im_end|><|im_end|><|im_end|><|im_end|><|im_end|><|im_end|><|im_end|><|im_end|><|im_end|><|im_end|><|im_end|><|im_end|><|im_end|><|im_end|><|im_end|><|im_end|><|im_end|><|im_end|><|im_end|><|im_end|><|im_end|><|im_end|><|im_end|><|im_end|><|im_end|><|im_end|><|im_end|><|im_end|><|im_end|><|im_end|><|im_end|><|im_end|><|im_end|><|im_end|><|im_end|><|im_end|><|im_end|><|im_end|><|im_end|><|im_end|><|im_end|><|im_end|><|im_end|><|im_end|><|im_end|><|im_end|><|im_end|><|im_end|><|im_end|><|im_end|><|im_end|><|im_end|><|im_end|><|im_end|><|im_end|><|im_end|><|im_end|><|im_end|><|im_end|><|im_end|><|im_end|><|im_end|><|im_end|><|im_end|><|im_end|><|im_end|><|im_end|><|im_end|><|im_end|><|im_end|><|im_end|><|im_end|><|im_end|><|im_end|><|im_end|><|im_end|><|im_end|><|im_end|><|im_end|><|im_end|><|im_end|><|im_end|><|im_end|><|im_end|><|im_end|><|im_end|><|im_end|><|im_end|><|im_end|><|im_end|><|im_end|><|im_end|><|im_end|><|im_end|><|im_end|><|im_end|><|im_end|><|im_end|><|im_end|><|im_end|><|im_end|><|im_end|>\n",
      "**label: 1\n"
     ]
    }
   ],
   "source": [
    "i = 3\n",
    "print(tokenizer.decode(tokenized_dataset[\"soft_val\"][i][\"input_ids\"], skip_special_tokens=False))\n",
    "print(\"**label:\", tokenized_dataset[\"soft_val\"][i][\"labels\"])"
   ]
  },
  {
   "cell_type": "code",
   "execution_count": 10,
   "metadata": {},
   "outputs": [
    {
     "name": "stderr",
     "output_type": "stream",
     "text": [
      "Saving the dataset (1/4 shards):  30%|██▉       | 25370/85478 [00:00<00:00, 74380.05 examples/s] "
     ]
    },
    {
     "name": "stderr",
     "output_type": "stream",
     "text": [
      "Saving the dataset (4/4 shards): 100%|██████████| 85478/85478 [00:01<00:00, 56604.68 examples/s]\n",
      "Saving the dataset (1/1 shards): 100%|██████████| 2192/2192 [00:00<00:00, 56741.70 examples/s]\n",
      "Saving the dataset (2/2 shards): 100%|██████████| 38749/38749 [00:00<00:00, 62896.66 examples/s] \n",
      "Saving the dataset (1/1 shards): 100%|██████████| 9688/9688 [00:00<00:00, 71856.50 examples/s]\n",
      "Saving the dataset (2/2 shards): 100%|██████████| 38749/38749 [00:00<00:00, 62284.18 examples/s] \n",
      "Saving the dataset (1/1 shards): 100%|██████████| 9688/9688 [00:00<00:00, 80544.26 examples/s]\n",
      "Saving the dataset (2/2 shards): 100%|██████████| 38750/38750 [00:00<00:00, 65805.03 examples/s] \n",
      "Saving the dataset (1/1 shards): 100%|██████████| 9687/9687 [00:00<00:00, 76349.21 examples/s]\n",
      "Saving the dataset (2/2 shards): 100%|██████████| 38750/38750 [00:00<00:00, 64180.24 examples/s] \n",
      "Saving the dataset (1/1 shards): 100%|██████████| 9687/9687 [00:00<00:00, 73983.97 examples/s]\n",
      "Saving the dataset (2/2 shards): 100%|██████████| 38750/38750 [00:00<00:00, 64325.69 examples/s] \n",
      "Saving the dataset (1/1 shards): 100%|██████████| 9687/9687 [00:00<00:00, 78313.36 examples/s]\n"
     ]
    }
   ],
   "source": [
    "tokenized_dataset.save_to_disk(\"/group-volume/binfeng/wsdm/stage_qft/dataset/tokenized_qwen32b_final\")"
   ]
  },
  {
   "cell_type": "code",
   "execution_count": 3,
   "metadata": {},
   "outputs": [
    {
     "name": "stderr",
     "output_type": "stream",
     "text": [
      "Fetching 27 files:   0%|          | 0/27 [00:00<?, ?it/s]"
     ]
    },
    {
     "name": "stderr",
     "output_type": "stream",
     "text": [
      "Fetching 27 files: 100%|██████████| 27/27 [08:32<00:00, 18.99s/it]\n"
     ]
    },
    {
     "data": {
      "text/plain": [
       "'/group-volume/binfeng/hf_models/Qwen2.5-32B-Instruct'"
      ]
     },
     "execution_count": 3,
     "metadata": {},
     "output_type": "execute_result"
    }
   ],
   "source": [
    "from huggingface_hub import snapshot_download\n",
    "snapshot_download(\n",
    "  repo_id = \"Qwen/Qwen2.5-32B-Instruct\",\n",
    "  local_dir = \"/group-volume/binfeng/hf_models/Qwen2.5-32B-Instruct\",\n",
    ")"
   ]
  },
  {
   "cell_type": "code",
   "execution_count": 4,
   "metadata": {},
   "outputs": [
    {
     "name": "stderr",
     "output_type": "stream",
     "text": [
      "Fetching 3 files:   0%|          | 0/3 [00:00<?, ?it/s]"
     ]
    },
    {
     "name": "stderr",
     "output_type": "stream",
     "text": [
      "Fetching 3 files: 100%|██████████| 3/3 [13:34<00:00, 271.59s/it]\n"
     ]
    },
    {
     "data": {
      "text/plain": [
       "'/group-volume/binfeng/hf_models/DeepSeek-R1-GGUF'"
      ]
     },
     "execution_count": 4,
     "metadata": {},
     "output_type": "execute_result"
    }
   ],
   "source": [
    "snapshot_download(\n",
    "  repo_id = \"unsloth/DeepSeek-R1-GGUF\",\n",
    "  local_dir = \"/group-volume/binfeng/hf_models/DeepSeek-R1-GGUF\",\n",
    "  allow_patterns = [\"*UD-IQ1_S*\"], # Select quant type UD-IQ1_S for 1.58bit\n",
    ")"
   ]
  },
  {
   "cell_type": "code",
   "execution_count": null,
   "metadata": {},
   "outputs": [],
   "source": []
  }
 ],
 "metadata": {
  "kernelspec": {
   "display_name": "Python 3",
   "language": "python",
   "name": "python3"
  },
  "language_info": {
   "codemirror_mode": {
    "name": "ipython",
    "version": 3
   },
   "file_extension": ".py",
   "mimetype": "text/x-python",
   "name": "python",
   "nbconvert_exporter": "python",
   "pygments_lexer": "ipython3",
   "version": "3.11.6"
  }
 },
 "nbformat": 4,
 "nbformat_minor": 2
}
