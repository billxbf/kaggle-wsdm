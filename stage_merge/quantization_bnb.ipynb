{
 "cells": [
  {
   "cell_type": "code",
   "execution_count": 1,
   "metadata": {},
   "outputs": [
    {
     "name": "stderr",
     "output_type": "stream",
     "text": [
      "/home/user/.local/lib/python3.11/site-packages/tqdm/auto.py:21: TqdmWarning: IProgress not found. Please update jupyter and ipywidgets. See https://ipywidgets.readthedocs.io/en/stable/user_install.html\n",
      "  from .autonotebook import tqdm as notebook_tqdm\n"
     ]
    }
   ],
   "source": [
    "import torch\n",
    "from transformers import GPTQConfig, AutoTokenizer, AutoModelForSequenceClassification,AutoModelForCausalLM,Gemma2ForCausalLM, BitsAndBytesConfig\n",
    "import logging\n",
    "import pandas as pd\n",
    "import pickle\n",
    "from datasets import load_from_disk\n",
    "import os\n",
    "os.chdir(\"/group-volume/binfeng/wsdm/stage_qft\")\n",
    "from utils import *\n"
   ]
  },
  {
   "cell_type": "code",
   "execution_count": 4,
   "metadata": {},
   "outputs": [],
   "source": [
    "MODEL_PATH = \"/group-volume/binfeng/wsdm/ckpt/phi4_4k_dare\"\n",
    "MAX_LEN = 4000\n",
    "MAX_PROMPT_LENGTH = 800"
   ]
  },
  {
   "cell_type": "code",
   "execution_count": 5,
   "metadata": {},
   "outputs": [],
   "source": [
    "tokenizer = AutoTokenizer.from_pretrained(MODEL_PATH)\n",
    "tokenizer.pad_token = tokenizer.eos_token\n",
    "tokenizer.padding_side = 'right'"
   ]
  },
  {
   "cell_type": "code",
   "execution_count": 6,
   "metadata": {},
   "outputs": [
    {
     "name": "stderr",
     "output_type": "stream",
     "text": [
      "Loading checkpoint shards: 100%|██████████| 6/6 [02:40<00:00, 26.74s/it]\n"
     ]
    }
   ],
   "source": [
    "# data = pd.read_parquet(\"/group-volume/binfeng/wsdm/stage_merge/qwen_ft_text.parquet\").sample(n=2, random_state=2023)\n",
    "# data = data[\"text\"].to_list()\n",
    "# gptq_config = GPTQConfig(bits=4, dataset = data, model_seqlen=3000, group_size = 128,\n",
    "#                          exllama_config={\"version\":2},\n",
    "#                          tokenizer=tokenizer)\n",
    "\n",
    "bnb_config =  BitsAndBytesConfig(\n",
    "        load_in_4bit = True,\n",
    "        bnb_4bit_quant_type=\"nf4\",\n",
    "        bnb_4bit_compute_dtype=torch.bfloat16,\n",
    "        bnb_4bit_use_double_quant=True,\n",
    "    )\n",
    "\n",
    "# bnb_config =  BitsAndBytesConfig(\n",
    "#         load_in_8bit = True\n",
    "#     )\n",
    "\n",
    "merged_quantized_model = AutoModelForSequenceClassification.from_pretrained(\n",
    "    MODEL_PATH,\n",
    "    # torch_dtype=torch.bfloat16,\n",
    "    num_labels=2,\n",
    "    device_map='auto',\n",
    "    quantization_config=bnb_config,\n",
    "    )"
   ]
  },
  {
   "cell_type": "code",
   "execution_count": 7,
   "metadata": {},
   "outputs": [
    {
     "data": {
      "text/plain": [
       "('/group-volume/binfeng/wsdm/ckpt/q4/phi4_4k_dare_bnb_q4/tokenizer_config.json',\n",
       " '/group-volume/binfeng/wsdm/ckpt/q4/phi4_4k_dare_bnb_q4/special_tokens_map.json',\n",
       " '/group-volume/binfeng/wsdm/ckpt/q4/phi4_4k_dare_bnb_q4/vocab.json',\n",
       " '/group-volume/binfeng/wsdm/ckpt/q4/phi4_4k_dare_bnb_q4/merges.txt',\n",
       " '/group-volume/binfeng/wsdm/ckpt/q4/phi4_4k_dare_bnb_q4/added_tokens.json',\n",
       " '/group-volume/binfeng/wsdm/ckpt/q4/phi4_4k_dare_bnb_q4/tokenizer.json')"
      ]
     },
     "execution_count": 7,
     "metadata": {},
     "output_type": "execute_result"
    }
   ],
   "source": [
    "merged_quantized_model.save_pretrained(\"/group-volume/binfeng/wsdm/ckpt/q4/phi4_4k_dare_bnb_q4\")\n",
    "tokenizer.save_pretrained(\"/group-volume/binfeng/wsdm/ckpt/q4/phi4_4k_dare_bnb_q4\")"
   ]
  },
  {
   "cell_type": "code",
   "execution_count": null,
   "metadata": {},
   "outputs": [],
   "source": []
  }
 ],
 "metadata": {
  "kernelspec": {
   "display_name": "Python 3",
   "language": "python",
   "name": "python3"
  },
  "language_info": {
   "codemirror_mode": {
    "name": "ipython",
    "version": 3
   },
   "file_extension": ".py",
   "mimetype": "text/x-python",
   "name": "python",
   "nbconvert_exporter": "python",
   "pygments_lexer": "ipython3",
   "version": "3.11.6"
  }
 },
 "nbformat": 4,
 "nbformat_minor": 2
}
