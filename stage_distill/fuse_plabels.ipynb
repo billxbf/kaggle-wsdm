{
 "cells": [
  {
   "cell_type": "code",
   "execution_count": 1,
   "metadata": {},
   "outputs": [],
   "source": [
    "import pandas as pd\n",
    "import os\n",
    "os.chdir(\"/group-volume/binfeng/wsdm/stage_distill\")\n",
    "from utils import *\n",
    "\n",
    "import numpy as np\n",
    "\n",
    "def softmax(logits):\n",
    "    exp_logits = np.exp(logits - np.max(logits))  # Subtract max for numerical stability\n",
    "    return exp_logits / np.sum(exp_logits)\n",
    "\n",
    "def pred(x):\n",
    "    logits = np.array([x.logits_model_a, x.logits_model_b])\n",
    "    probs = softmax(logits)\n",
    "    \n",
    "    prob_model_a = probs[0]\n",
    "    prob_model_b = probs[1]\n",
    "    \n",
    "    if prob_model_a > 0.5:\n",
    "        return \"model_a\"\n",
    "    else:\n",
    "        return \"model_b\"\n",
    "def merge_logits(x):\n",
    "    return [x.logits_model_a, x.logits_model_b]"
   ]
  },
  {
   "cell_type": "markdown",
   "metadata": {},
   "source": [
    "## HFOPEN and LMSYS"
   ]
  },
  {
   "cell_type": "code",
   "execution_count": 2,
   "metadata": {},
   "outputs": [],
   "source": [
    "hfopen1 = pd.read_csv(\"/group-volume/binfeng/wsdm/stage_distill/plabels/qwen32b_plabel_hfopen.csv\")\n",
    "hfopen2 = pd.read_csv(\"/group-volume/binfeng/wsdm/stage_distill/plabels/qwencd32b_plabel_hfopen.csv\")\n",
    "lmsys1 = pd.read_csv(\"/group-volume/binfeng/wsdm/stage_distill/plabels/qwen32b_plabel_lmsys.csv\")\n",
    "lmsys2 = pd.read_csv(\"/group-volume/binfeng/wsdm/stage_distill/plabels/qwencd32b_plabel_lmsys.csv\")\n"
   ]
  },
  {
   "cell_type": "code",
   "execution_count": 3,
   "metadata": {},
   "outputs": [],
   "source": [
    "hfopen_m = pd.read_csv(\"/group-volume/binfeng/wsdm/stage_distill/plabels/qwen32b_plabel_hfopen.csv\")\n",
    "lmsys_m = pd.read_csv(\"/group-volume/binfeng/wsdm/stage_distill/plabels/qwen32b_plabel_lmsys.csv\")\n",
    "hfopen_m[\"logits_model_a\"] = 0.4 * hfopen1[\"logits_model_a\"] + 0.6 * hfopen2[\"logits_model_a\"]\n",
    "lmsys_m[\"logits_model_a\"] = 0.4 * lmsys1[\"logits_model_a\"] + 0.6 * lmsys2[\"logits_model_a\"]\n",
    "hfopen_m[\"logits_model_b\"] = 0.4 * hfopen1[\"logits_model_b\"] + 0.6 * hfopen2[\"logits_model_b\"]\n",
    "lmsys_m[\"logits_model_b\"] = 0.4 * lmsys1[\"logits_model_b\"] + 0.6 * lmsys2[\"logits_model_b\"]"
   ]
  },
  {
   "cell_type": "code",
   "execution_count": 4,
   "metadata": {},
   "outputs": [],
   "source": [
    "hfopen_m[\"winner\"] = hfopen1.apply(pred, axis=1)\n",
    "lmsys_m[\"winner\"] = lmsys1.apply(pred, axis=1)"
   ]
  },
  {
   "cell_type": "code",
   "execution_count": 7,
   "metadata": {},
   "outputs": [],
   "source": [
    "# hfopen = hfopen1[hfopen_m[\"winner\"] != \"tie\"]\n",
    "# lmsys = lmsys1[lmsys1[\"winner\"] != \"tie\"]\n",
    "# print(hfopen.shape, lmsys.shape)"
   ]
  },
  {
   "cell_type": "markdown",
   "metadata": {},
   "source": [
    "## PPT full"
   ]
  },
  {
   "cell_type": "code",
   "execution_count": 8,
   "metadata": {},
   "outputs": [],
   "source": [
    "# ppt\n",
    "hfopen = pd.read_csv(\"/group-volume/binfeng/wsdm/stage_distill/plabels/qwen32b_plabel_hfopen.csv\")\n",
    "lmsys = pd.read_csv(\"/group-volume/binfeng/wsdm/stage_distill/plabels/qwen32b_plabel_lmsys.csv\")\n",
    "hfopen[\"winner\"] = hfopen_m[\"winner\"]\n",
    "lmsys[\"winner\"] = lmsys_m[\"winner\"]\n",
    "ppt = pd.read_csv(\"/group-volume/binfeng/wsdm/stage_distill/plabels/qwen32b_plabel_ppt.csv\")\n",
    "ppt_full = pd.concat([hfopen, lmsys, ppt], axis=0)"
   ]
  },
  {
   "cell_type": "code",
   "execution_count": 9,
   "metadata": {},
   "outputs": [],
   "source": [
    "ppt_full[\"logits_qwen32\"] = ppt_full.apply(merge_logits, axis=1)\n",
    "ppt_full = ppt_full[['prompt', 'response_a', 'response_b', 'winner', 'logits_qwen32']]"
   ]
  },
  {
   "cell_type": "code",
   "execution_count": 10,
   "metadata": {},
   "outputs": [
    {
     "data": {
      "text/plain": [
       "(196794, 5)"
      ]
     },
     "execution_count": 10,
     "metadata": {},
     "output_type": "execute_result"
    }
   ],
   "source": [
    "ppt_full.dropna(inplace=True)\n",
    "ppt_full.reset_index(drop=True, inplace=True)\n",
    "ppt_full.shape"
   ]
  },
  {
   "cell_type": "code",
   "execution_count": 13,
   "metadata": {},
   "outputs": [],
   "source": [
    "ppt_full.to_parquet(\"/group-volume/binfeng/wsdm/stage_distill/datap/ppt135k.parquet\", index=False)"
   ]
  },
  {
   "cell_type": "markdown",
   "metadata": {},
   "source": [
    "## FT"
   ]
  },
  {
   "cell_type": "code",
   "execution_count": 11,
   "metadata": {},
   "outputs": [],
   "source": [
    "# ppt\n",
    "ft = pd.read_csv(\"/group-volume/binfeng/wsdm/stage_distill/plabels/qwen32b_plabel_kaggle.csv\")"
   ]
  },
  {
   "cell_type": "code",
   "execution_count": 12,
   "metadata": {},
   "outputs": [
    {
     "data": {
      "text/plain": [
       "(48437, 6)"
      ]
     },
     "execution_count": 12,
     "metadata": {},
     "output_type": "execute_result"
    }
   ],
   "source": [
    "ft[\"logits_qwen32\"] = ft.apply(merge_logits, axis=1)\n",
    "ft = ft[['prompt', 'response_a', 'response_b', 'winner', 'language', 'logits_qwen32']]\n",
    "ft.dropna(inplace=True)\n",
    "ft.reset_index(drop=True)\n",
    "ft.shape"
   ]
  },
  {
   "cell_type": "code",
   "execution_count": 14,
   "metadata": {},
   "outputs": [],
   "source": [
    "ft.to_parquet(\"/group-volume/binfeng/wsdm/stage_distill/datap/ft48k.parquet\", index=False)"
   ]
  },
  {
   "cell_type": "markdown",
   "metadata": {},
   "source": [
    "## FT (2)"
   ]
  },
  {
   "cell_type": "code",
   "execution_count": 15,
   "metadata": {},
   "outputs": [
    {
     "data": {
      "text/plain": [
       "(48437, 6)"
      ]
     },
     "execution_count": 15,
     "metadata": {},
     "output_type": "execute_result"
    }
   ],
   "source": [
    "ft = pd.read_csv(\"/group-volume/binfeng/wsdm/stage_distill/plabels/qwencd32b_plabel_kaggle.csv\")\n",
    "ft[\"logits_qwencd\"] = ft.apply(merge_logits, axis=1)\n",
    "ft = ft[['prompt', 'response_a', 'response_b', 'winner', 'language', 'logits_qwencd']]\n",
    "ft.dropna(inplace=True)\n",
    "ft.reset_index(drop=True)\n",
    "ft.shape"
   ]
  },
  {
   "cell_type": "code",
   "execution_count": 16,
   "metadata": {},
   "outputs": [],
   "source": [
    "old_ft = pd.read_parquet(\"/group-volume/binfeng/wsdm/stage_distill/datap/ft48k.parquet\")"
   ]
  },
  {
   "cell_type": "code",
   "execution_count": 17,
   "metadata": {},
   "outputs": [],
   "source": [
    "old_ft[\"logits_qwencd\"] = ft[\"logits_qwencd\"]\n",
    "old_ft.to_parquet(\"/group-volume/binfeng/wsdm/stage_distill/datap/ft48k.parquet\", index=False)"
   ]
  },
  {
   "cell_type": "markdown",
   "metadata": {},
   "source": [
    "## PPT2"
   ]
  },
  {
   "cell_type": "code",
   "execution_count": 19,
   "metadata": {},
   "outputs": [],
   "source": [
    "# ppt\n",
    "hfopen = pd.read_csv(\"/group-volume/binfeng/wsdm/stage_distill/plabels/qwencd32b_plabel_hfopen.csv\")\n",
    "lmsys = pd.read_csv(\"/group-volume/binfeng/wsdm/stage_distill/plabels/qwencd32b_plabel_lmsys.csv\")\n",
    "hfopen[\"winner\"] = hfopen_m[\"winner\"]\n",
    "lmsys[\"winner\"] = lmsys_m[\"winner\"]\n",
    "ppt = pd.read_csv(\"/group-volume/binfeng/wsdm/stage_distill/plabels/qwencd32b_plabel_ppt.csv\")\n",
    "ppt_full = pd.concat([hfopen, lmsys, ppt], axis=0)"
   ]
  },
  {
   "cell_type": "code",
   "execution_count": 20,
   "metadata": {},
   "outputs": [],
   "source": [
    "ppt_full[\"logits_qwencd\"] = ppt_full.apply(merge_logits, axis=1)\n",
    "ppt_full = ppt_full[['prompt', 'response_a', 'response_b', 'winner', 'logits_qwencd']]"
   ]
  },
  {
   "cell_type": "code",
   "execution_count": 21,
   "metadata": {},
   "outputs": [
    {
     "data": {
      "text/plain": [
       "(196794, 5)"
      ]
     },
     "execution_count": 21,
     "metadata": {},
     "output_type": "execute_result"
    }
   ],
   "source": [
    "ppt_full.dropna(inplace=True)\n",
    "ppt_full = ppt_full.reset_index(drop=True)\n",
    "ppt_full.shape"
   ]
  },
  {
   "cell_type": "code",
   "execution_count": 22,
   "metadata": {},
   "outputs": [],
   "source": [
    "ppt_old = pd.read_parquet(\"/group-volume/binfeng/wsdm/stage_distill/datap/ppt135k.parquet\")"
   ]
  },
  {
   "cell_type": "code",
   "execution_count": 24,
   "metadata": {},
   "outputs": [],
   "source": [
    "ppt_full[\"logits_qwen32\"]  = ppt_old[\"logits_qwen32\"]"
   ]
  },
  {
   "cell_type": "code",
   "execution_count": 25,
   "metadata": {},
   "outputs": [],
   "source": [
    "ppt_full.to_parquet(\"/group-volume/binfeng/wsdm/stage_distill/datap/ppt135k.parquet\", index=False)"
   ]
  },
  {
   "cell_type": "code",
   "execution_count": null,
   "metadata": {},
   "outputs": [],
   "source": []
  },
  {
   "cell_type": "markdown",
   "metadata": {},
   "source": [
    "## Clean outliers"
   ]
  },
  {
   "cell_type": "code",
   "execution_count": 26,
   "metadata": {},
   "outputs": [],
   "source": [
    "ppt = pd.read_parquet(\"/group-volume/binfeng/wsdm/stage_distill/datap/ppt135k.parquet\")\n",
    "ft = pd.read_parquet(\"/group-volume/binfeng/wsdm/stage_distill/datap/ft48k.parquet\")"
   ]
  },
  {
   "cell_type": "code",
   "execution_count": 40,
   "metadata": {},
   "outputs": [],
   "source": [
    "def prob(x):\n",
    "    logits = np.array(np.mean([x[\"logits_qwencd\"], x[\"logits_qwen32\"]], axis=0))\n",
    "    probs = softmax(logits)\n",
    "    prob_model_a = probs[0]\n",
    "    # prob_model_b = probs[1]\n",
    "    return prob_model_a\n",
    "\n",
    "ppt[\"a_win\"] = ppt.apply(prob, axis=1)\n",
    "ft[\"a_win\"] = ft.apply(prob, axis=1)"
   ]
  },
  {
   "cell_type": "code",
   "execution_count": 72,
   "metadata": {},
   "outputs": [],
   "source": [
    "def isoutlier(x):\n",
    "    if x[\"winner\"]==\"model_a\" and x[\"a_win\"] < 0.3:\n",
    "        return True\n",
    "    if x[\"winner\"]==\"model_b\" and x[\"a_win\"] > 0.7:\n",
    "        return True\n",
    "    return False\n",
    "\n",
    "ppt[\"outlier\"] = ppt.apply(isoutlier, axis=1)\n",
    "ft[\"outlier\"] = ft.apply(isoutlier, axis=1)"
   ]
  },
  {
   "cell_type": "code",
   "execution_count": 78,
   "metadata": {},
   "outputs": [],
   "source": [
    "def calibrate(outlier, logits):\n",
    "    l = logits.copy()\n",
    "    if outlier:\n",
    "        l[0], l[1] = 0.5, 0.5\n",
    "        return l\n",
    "    else:\n",
    "        return l\n",
    "    \n",
    "ppt[\"logits_qwencd_cali\"] = ppt.apply(lambda x: calibrate(x[\"outlier\"], x[\"logits_qwencd\"]), axis=1)\n",
    "ppt[\"logits_qwen32_cali\"] = ppt.apply(lambda x: calibrate(x[\"outlier\"], x[\"logits_qwen32\"]), axis=1)\n",
    "ft[\"logits_qwencd_cali\"] = ft.apply(lambda x: calibrate(x[\"outlier\"], x[\"logits_qwencd\"]), axis=1)\n",
    "ft[\"logits_qwen32_cali\"] = ft.apply(lambda x: calibrate(x[\"outlier\"], x[\"logits_qwen32\"]), axis=1)"
   ]
  },
  {
   "cell_type": "code",
   "execution_count": 83,
   "metadata": {},
   "outputs": [],
   "source": [
    "ft.drop(['a_win', 'outlier'], axis=1, inplace=True)\n",
    "ppt.drop(['a_win', 'outlier'], axis=1, inplace=True)"
   ]
  },
  {
   "cell_type": "code",
   "execution_count": 84,
   "metadata": {},
   "outputs": [
    {
     "data": {
      "text/plain": [
       "(48437, 10)"
      ]
     },
     "execution_count": 84,
     "metadata": {},
     "output_type": "execute_result"
    }
   ],
   "source": [
    "ft.shape"
   ]
  },
  {
   "cell_type": "code",
   "execution_count": 85,
   "metadata": {},
   "outputs": [
    {
     "data": {
      "text/plain": [
       "(196794, 8)"
      ]
     },
     "execution_count": 85,
     "metadata": {},
     "output_type": "execute_result"
    }
   ],
   "source": [
    "ppt.shape"
   ]
  },
  {
   "cell_type": "code",
   "execution_count": 87,
   "metadata": {},
   "outputs": [],
   "source": [
    "ft.to_parquet(\"/group-volume/binfeng/wsdm/stage_final/data/ft48k_calibrated.parquet\")\n",
    "ppt.to_parquet(\"/group-volume/binfeng/wsdm/stage_final/data/ppt196k_calibrated.parquet\")"
   ]
  },
  {
   "cell_type": "code",
   "execution_count": 88,
   "metadata": {},
   "outputs": [
    {
     "data": {
      "text/html": [
       "<div>\n",
       "<style scoped>\n",
       "    .dataframe tbody tr th:only-of-type {\n",
       "        vertical-align: middle;\n",
       "    }\n",
       "\n",
       "    .dataframe tbody tr th {\n",
       "        vertical-align: top;\n",
       "    }\n",
       "\n",
       "    .dataframe thead th {\n",
       "        text-align: right;\n",
       "    }\n",
       "</style>\n",
       "<table border=\"1\" class=\"dataframe\">\n",
       "  <thead>\n",
       "    <tr style=\"text-align: right;\">\n",
       "      <th></th>\n",
       "      <th>prompt</th>\n",
       "      <th>response_a</th>\n",
       "      <th>response_b</th>\n",
       "      <th>winner</th>\n",
       "      <th>language</th>\n",
       "      <th>logits_qwen32</th>\n",
       "      <th>logits_qwencd</th>\n",
       "      <th>len</th>\n",
       "      <th>logits_qwencd_cali</th>\n",
       "      <th>logits_qwen32_cali</th>\n",
       "    </tr>\n",
       "  </thead>\n",
       "  <tbody>\n",
       "    <tr>\n",
       "      <th>0</th>\n",
       "      <td>draw a unicorn using asciii</td>\n",
       "      <td>Sure! Here's a simple ASCII art representation...</td>\n",
       "      <td>Sure! Here’s a simple ASCII art representation...</td>\n",
       "      <td>model_a</td>\n",
       "      <td>English</td>\n",
       "      <td>[1.9086914, -1.5205078]</td>\n",
       "      <td>[1.9257812, -1.4804688]</td>\n",
       "      <td>-101658</td>\n",
       "      <td>[1.9257812, -1.4804688]</td>\n",
       "      <td>[1.9086914, -1.5205078]</td>\n",
       "    </tr>\n",
       "    <tr>\n",
       "      <th>1</th>\n",
       "      <td>Сделать декомпозицию процесса \"выполнить ремон...</td>\n",
       "      <td>## Декомпозиция процесса \"Выполнить ремонт\" (D...</td>\n",
       "      <td>## Декомпозиция процесса \"Выполнить ремонт\" (д...</td>\n",
       "      <td>model_b</td>\n",
       "      <td>Russian</td>\n",
       "      <td>[-1.7275391, 2.0708008]</td>\n",
       "      <td>[-1.5664062, 1.953125]</td>\n",
       "      <td>22762</td>\n",
       "      <td>[-1.5664062, 1.953125]</td>\n",
       "      <td>[-1.7275391, 2.0708008]</td>\n",
       "    </tr>\n",
       "    <tr>\n",
       "      <th>2</th>\n",
       "      <td>NOMBRE DE LA ACTIVIDAD: Análisis descriptivo t...</td>\n",
       "      <td>En el proceso de liofilización de alimentos, p...</td>\n",
       "      <td>## Análisis termodinámico de la liofilización:...</td>\n",
       "      <td>model_a</td>\n",
       "      <td>Spanish</td>\n",
       "      <td>[1.8520508, -1.4663086]</td>\n",
       "      <td>[1.7304688, -1.3203125]</td>\n",
       "      <td>-52604</td>\n",
       "      <td>[1.7304688, -1.3203125]</td>\n",
       "      <td>[1.8520508, -1.4663086]</td>\n",
       "    </tr>\n",
       "    <tr>\n",
       "      <th>3</th>\n",
       "      <td>find the logic error in this code and explain ...</td>\n",
       "      <td>The logic error in the provided code is relate...</td>\n",
       "      <td>The code is well-structured and clean. However...</td>\n",
       "      <td>model_a</td>\n",
       "      <td>English</td>\n",
       "      <td>[0.321167, 0.15768433]</td>\n",
       "      <td>[0.36328125, 0.032226562]</td>\n",
       "      <td>8424</td>\n",
       "      <td>[0.36328125, 0.032226562]</td>\n",
       "      <td>[0.321167, 0.15768433]</td>\n",
       "    </tr>\n",
       "    <tr>\n",
       "      <th>4</th>\n",
       "      <td>\\nДобрый день, коллега. От Вас требуется завер...</td>\n",
       "      <td>```python\\n    \\n    \\n    \\n    \\n    \\n    \\...</td>\n",
       "      <td>В вашем коде есть несколько импортов, которые ...</td>\n",
       "      <td>model_b</td>\n",
       "      <td>Russian</td>\n",
       "      <td>[-0.9765625, 1.4189453]</td>\n",
       "      <td>[-0.7675781, 1.1757812]</td>\n",
       "      <td>13697</td>\n",
       "      <td>[-0.7675781, 1.1757812]</td>\n",
       "      <td>[-0.9765625, 1.4189453]</td>\n",
       "    </tr>\n",
       "    <tr>\n",
       "      <th>...</th>\n",
       "      <td>...</td>\n",
       "      <td>...</td>\n",
       "      <td>...</td>\n",
       "      <td>...</td>\n",
       "      <td>...</td>\n",
       "      <td>...</td>\n",
       "      <td>...</td>\n",
       "      <td>...</td>\n",
       "      <td>...</td>\n",
       "      <td>...</td>\n",
       "    </tr>\n",
       "    <tr>\n",
       "      <th>48432</th>\n",
       "      <td>摩挲着手指甲，左右手交替进行。\\n\\n强行保持镇定，素世微笑试图挣扎道：\\n\\n“清，那个是...</td>\n",
       "      <td>她的手指不由自主地在指甲上来回摩挲着，双手交替进行，仿佛这样能缓解心底涌起的紧张。\\n\\n素...</td>\n",
       "      <td>素世轻轻摩挲着修长的手指，左手与右手交替，指尖在微光中闪烁着微弱的光芒。她强作镇定，嘴角勉强...</td>\n",
       "      <td>model_b</td>\n",
       "      <td>Chinese</td>\n",
       "      <td>[0.45690918, 0.085754395]</td>\n",
       "      <td>[0.256073, 0.17407227]</td>\n",
       "      <td>-49</td>\n",
       "      <td>[0.256073, 0.17407227]</td>\n",
       "      <td>[0.45690918, 0.085754395]</td>\n",
       "    </tr>\n",
       "    <tr>\n",
       "      <th>48433</th>\n",
       "      <td>一名银行软件开发中心技术平台部门的高级经理参加党的二十大三中全会研讨会，针对主题“深入学习贯...</td>\n",
       "      <td>尊敬的各位领导、同事：\\n\\n大家好！今天，我很荣幸能够参加党的二十大三中全会研讨会，并就“...</td>\n",
       "      <td>尊敬的各位领导、各位同事：\\n\\n大家好！\\n\\n今天，我们怀着无比激动的心情，在这里召开党...</td>\n",
       "      <td>model_b</td>\n",
       "      <td>Chinese</td>\n",
       "      <td>[-0.30456543, 0.8005371]</td>\n",
       "      <td>[-0.6660156, 1.0820312]</td>\n",
       "      <td>-566</td>\n",
       "      <td>[-0.6660156, 1.0820312]</td>\n",
       "      <td>[-0.30456543, 0.8005371]</td>\n",
       "    </tr>\n",
       "    <tr>\n",
       "      <th>48434</th>\n",
       "      <td>葡萄糖是从葡萄中提取的吗</td>\n",
       "      <td>不是的。葡萄糖的名字可能会让人误以为它是从葡萄中提取的，但实际上，葡萄糖是一种单糖，也被称为...</td>\n",
       "      <td>葡萄糖并不是专门从葡萄中提取的，尽管它的名字听起来像是与葡萄有直接的联系。实际上，葡萄糖是一...</td>\n",
       "      <td>model_b</td>\n",
       "      <td>Chinese</td>\n",
       "      <td>[-0.2420044, 0.7753906]</td>\n",
       "      <td>[-0.140625, 0.5571289]</td>\n",
       "      <td>-36</td>\n",
       "      <td>[-0.140625, 0.5571289]</td>\n",
       "      <td>[-0.2420044, 0.7753906]</td>\n",
       "    </tr>\n",
       "    <tr>\n",
       "      <th>48435</th>\n",
       "      <td>关于道家化童子法事的利益点写一段文案</td>\n",
       "      <td>道家化童子法事，源远流长，承载着深厚的文化与精神性价值。这一神秘而古老的仪式，不仅是身心净化...</td>\n",
       "      <td>道家化童子法事，旨在化解童子命带来的诸多不利影响，助您开启顺遂人生。童子命之人常遇坎坷，诸事...</td>\n",
       "      <td>model_b</td>\n",
       "      <td>Chinese</td>\n",
       "      <td>[-0.7722168, 1.234375]</td>\n",
       "      <td>[-0.45214844, 0.8769531]</td>\n",
       "      <td>94</td>\n",
       "      <td>[-0.45214844, 0.8769531]</td>\n",
       "      <td>[-0.7722168, 1.234375]</td>\n",
       "    </tr>\n",
       "    <tr>\n",
       "      <th>48436</th>\n",
       "      <td>这是轻小说中的一段文本，请翻译为中文：「相手がどう出てこようとも、毅然とした態度で臨むだけで...</td>\n",
       "      <td>这段文本的翻译是：\\n\\n「无论对方怎么出招，只要保持坚定的态度就足够了。\\n……那么我们就...</td>\n",
       "      <td>这是一段轻小说中的文本，翻译成中文如下：\\n\\n“无论对方如何应对，我们都将坚定地应对。\\n...</td>\n",
       "      <td>model_a</td>\n",
       "      <td>Japanese</td>\n",
       "      <td>[0.83325195, -0.2958374]</td>\n",
       "      <td>[0.88964844, -0.4423828]</td>\n",
       "      <td>-8</td>\n",
       "      <td>[0.88964844, -0.4423828]</td>\n",
       "      <td>[0.83325195, -0.2958374]</td>\n",
       "    </tr>\n",
       "  </tbody>\n",
       "</table>\n",
       "<p>48437 rows × 10 columns</p>\n",
       "</div>"
      ],
      "text/plain": [
       "                                                  prompt  \\\n",
       "0                            draw a unicorn using asciii   \n",
       "1      Сделать декомпозицию процесса \"выполнить ремон...   \n",
       "2      NOMBRE DE LA ACTIVIDAD: Análisis descriptivo t...   \n",
       "3      find the logic error in this code and explain ...   \n",
       "4      \\nДобрый день, коллега. От Вас требуется завер...   \n",
       "...                                                  ...   \n",
       "48432  摩挲着手指甲，左右手交替进行。\\n\\n强行保持镇定，素世微笑试图挣扎道：\\n\\n“清，那个是...   \n",
       "48433  一名银行软件开发中心技术平台部门的高级经理参加党的二十大三中全会研讨会，针对主题“深入学习贯...   \n",
       "48434                                       葡萄糖是从葡萄中提取的吗   \n",
       "48435                                 关于道家化童子法事的利益点写一段文案   \n",
       "48436  这是轻小说中的一段文本，请翻译为中文：「相手がどう出てこようとも、毅然とした態度で臨むだけで...   \n",
       "\n",
       "                                              response_a  \\\n",
       "0      Sure! Here's a simple ASCII art representation...   \n",
       "1      ## Декомпозиция процесса \"Выполнить ремонт\" (D...   \n",
       "2      En el proceso de liofilización de alimentos, p...   \n",
       "3      The logic error in the provided code is relate...   \n",
       "4      ```python\\n    \\n    \\n    \\n    \\n    \\n    \\...   \n",
       "...                                                  ...   \n",
       "48432  她的手指不由自主地在指甲上来回摩挲着，双手交替进行，仿佛这样能缓解心底涌起的紧张。\\n\\n素...   \n",
       "48433  尊敬的各位领导、同事：\\n\\n大家好！今天，我很荣幸能够参加党的二十大三中全会研讨会，并就“...   \n",
       "48434  不是的。葡萄糖的名字可能会让人误以为它是从葡萄中提取的，但实际上，葡萄糖是一种单糖，也被称为...   \n",
       "48435  道家化童子法事，源远流长，承载着深厚的文化与精神性价值。这一神秘而古老的仪式，不仅是身心净化...   \n",
       "48436  这段文本的翻译是：\\n\\n「无论对方怎么出招，只要保持坚定的态度就足够了。\\n……那么我们就...   \n",
       "\n",
       "                                              response_b   winner  language  \\\n",
       "0      Sure! Here’s a simple ASCII art representation...  model_a   English   \n",
       "1      ## Декомпозиция процесса \"Выполнить ремонт\" (д...  model_b   Russian   \n",
       "2      ## Análisis termodinámico de la liofilización:...  model_a   Spanish   \n",
       "3      The code is well-structured and clean. However...  model_a   English   \n",
       "4      В вашем коде есть несколько импортов, которые ...  model_b   Russian   \n",
       "...                                                  ...      ...       ...   \n",
       "48432  素世轻轻摩挲着修长的手指，左手与右手交替，指尖在微光中闪烁着微弱的光芒。她强作镇定，嘴角勉强...  model_b   Chinese   \n",
       "48433  尊敬的各位领导、各位同事：\\n\\n大家好！\\n\\n今天，我们怀着无比激动的心情，在这里召开党...  model_b   Chinese   \n",
       "48434  葡萄糖并不是专门从葡萄中提取的，尽管它的名字听起来像是与葡萄有直接的联系。实际上，葡萄糖是一...  model_b   Chinese   \n",
       "48435  道家化童子法事，旨在化解童子命带来的诸多不利影响，助您开启顺遂人生。童子命之人常遇坎坷，诸事...  model_b   Chinese   \n",
       "48436  这是一段轻小说中的文本，翻译成中文如下：\\n\\n“无论对方如何应对，我们都将坚定地应对。\\n...  model_a  Japanese   \n",
       "\n",
       "                   logits_qwen32              logits_qwencd     len  \\\n",
       "0        [1.9086914, -1.5205078]    [1.9257812, -1.4804688] -101658   \n",
       "1        [-1.7275391, 2.0708008]     [-1.5664062, 1.953125]   22762   \n",
       "2        [1.8520508, -1.4663086]    [1.7304688, -1.3203125]  -52604   \n",
       "3         [0.321167, 0.15768433]  [0.36328125, 0.032226562]    8424   \n",
       "4        [-0.9765625, 1.4189453]    [-0.7675781, 1.1757812]   13697   \n",
       "...                          ...                        ...     ...   \n",
       "48432  [0.45690918, 0.085754395]     [0.256073, 0.17407227]     -49   \n",
       "48433   [-0.30456543, 0.8005371]    [-0.6660156, 1.0820312]    -566   \n",
       "48434    [-0.2420044, 0.7753906]     [-0.140625, 0.5571289]     -36   \n",
       "48435     [-0.7722168, 1.234375]   [-0.45214844, 0.8769531]      94   \n",
       "48436   [0.83325195, -0.2958374]   [0.88964844, -0.4423828]      -8   \n",
       "\n",
       "              logits_qwencd_cali         logits_qwen32_cali  \n",
       "0        [1.9257812, -1.4804688]    [1.9086914, -1.5205078]  \n",
       "1         [-1.5664062, 1.953125]    [-1.7275391, 2.0708008]  \n",
       "2        [1.7304688, -1.3203125]    [1.8520508, -1.4663086]  \n",
       "3      [0.36328125, 0.032226562]     [0.321167, 0.15768433]  \n",
       "4        [-0.7675781, 1.1757812]    [-0.9765625, 1.4189453]  \n",
       "...                          ...                        ...  \n",
       "48432     [0.256073, 0.17407227]  [0.45690918, 0.085754395]  \n",
       "48433    [-0.6660156, 1.0820312]   [-0.30456543, 0.8005371]  \n",
       "48434     [-0.140625, 0.5571289]    [-0.2420044, 0.7753906]  \n",
       "48435   [-0.45214844, 0.8769531]     [-0.7722168, 1.234375]  \n",
       "48436   [0.88964844, -0.4423828]   [0.83325195, -0.2958374]  \n",
       "\n",
       "[48437 rows x 10 columns]"
      ]
     },
     "execution_count": 88,
     "metadata": {},
     "output_type": "execute_result"
    }
   ],
   "source": [
    "ft"
   ]
  },
  {
   "cell_type": "code",
   "execution_count": null,
   "metadata": {},
   "outputs": [],
   "source": []
  }
 ],
 "metadata": {
  "kernelspec": {
   "display_name": "Python 3",
   "language": "python",
   "name": "python3"
  },
  "language_info": {
   "codemirror_mode": {
    "name": "ipython",
    "version": 3
   },
   "file_extension": ".py",
   "mimetype": "text/x-python",
   "name": "python",
   "nbconvert_exporter": "python",
   "pygments_lexer": "ipython3",
   "version": "3.11.6"
  }
 },
 "nbformat": 4,
 "nbformat_minor": 2
}
