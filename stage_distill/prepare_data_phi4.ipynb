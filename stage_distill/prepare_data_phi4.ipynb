{
 "cells": [
  {
   "cell_type": "code",
   "execution_count": 1,
   "metadata": {},
   "outputs": [
    {
     "name": "stderr",
     "output_type": "stream",
     "text": [
      "/home/user/.local/lib/python3.11/site-packages/tqdm/auto.py:21: TqdmWarning: IProgress not found. Please update jupyter and ipywidgets. See https://ipywidgets.readthedocs.io/en/stable/user_install.html\n",
      "  from .autonotebook import tqdm as notebook_tqdm\n"
     ]
    }
   ],
   "source": [
    "import os\n",
    "from time import time\n",
    "import numpy as np\n",
    "import pandas as pd\n",
    "from tqdm.auto import tqdm\n",
    "from datasets import Dataset, DatasetDict\n",
    "from transformers import AutoTokenizer\n",
    "from huggingface_hub import login\n",
    "tqdm.pandas()\n",
    "\n",
    "# Change the working directory to the directory containing the script\n",
    "os.chdir(\"/group-volume/binfeng/wsdm/stage_distill\")\n"
   ]
  },
  {
   "cell_type": "code",
   "execution_count": 2,
   "metadata": {},
   "outputs": [],
   "source": [
    "MODEL_PATH = \"microsoft/phi-4\"\n",
    "MAX_LENGTH = 2000\n",
    "MAX_PROMPT_LENGTH = 400"
   ]
  },
  {
   "cell_type": "markdown",
   "metadata": {},
   "source": [
    "## Tokenizer"
   ]
  },
  {
   "cell_type": "code",
   "execution_count": 3,
   "metadata": {},
   "outputs": [
    {
     "data": {
      "text/plain": [
       "('/group-volume/binfeng/wsdm/tokenizer/phi4/tokenizer_config.json',\n",
       " '/group-volume/binfeng/wsdm/tokenizer/phi4/special_tokens_map.json',\n",
       " '/group-volume/binfeng/wsdm/tokenizer/phi4/vocab.json',\n",
       " '/group-volume/binfeng/wsdm/tokenizer/phi4/merges.txt',\n",
       " '/group-volume/binfeng/wsdm/tokenizer/phi4/added_tokens.json',\n",
       " '/group-volume/binfeng/wsdm/tokenizer/phi4/tokenizer.json')"
      ]
     },
     "execution_count": 3,
     "metadata": {},
     "output_type": "execute_result"
    }
   ],
   "source": [
    "tokenizer = AutoTokenizer.from_pretrained(MODEL_PATH)\n",
    "tokenizer.pad_token = tokenizer.eos_token\n",
    "tokenizer.padding_side = 'right'\n",
    "tokenizer.save_pretrained(\"/group-volume/binfeng/wsdm/tokenizer/phi4\")"
   ]
  },
  {
   "cell_type": "markdown",
   "metadata": {},
   "source": [
    "## Prepare Data"
   ]
  },
  {
   "cell_type": "code",
   "execution_count": 4,
   "metadata": {},
   "outputs": [
    {
     "name": "stderr",
     "output_type": "stream",
     "text": [
      "Token indices sequence length is longer than the specified maximum sequence length for this model (18891 > 16384). Running this sequence through the model will result in indexing errors\n"
     ]
    },
    {
     "name": "stdout",
     "output_type": "stream",
     "text": [
      "47952 485\n"
     ]
    },
    {
     "name": "stderr",
     "output_type": "stream",
     "text": [
      "/home/user/.local/lib/python3.11/site-packages/sklearn/model_selection/_split.py:805: UserWarning: The least populated class in y has only 1 members, which is less than n_splits=100.\n",
      "  warnings.warn(\n"
     ]
    }
   ],
   "source": [
    "\n",
    "\n",
    "ft = pd.read_parquet(\"/group-volume/binfeng/wsdm/stage_distill/datap/ft48k.parquet\")\n",
    "ft.dropna(inplace=True)\n",
    "ft[\"text\"] = ft.apply(lambda x: format_text(tokenizer, x.prompt, x.response_a, x.response_b, \n",
    "                                                max_len=MAX_LENGTH, max_prompt_len=MAX_PROMPT_LENGTH), axis=1)\n",
    "ft[\"label\"] = ft.apply(lambda x: format_label(x.winner), axis=1)\n",
    "\n",
    "skf = StratifiedKFold(n_splits=100, shuffle=True, random_state=10)\n",
    "for train_index, val_index in skf.split(ft, ft[\"language\"]):\n",
    "    ft_train, ft_val = ft.iloc[train_index], ft.iloc[val_index]\n",
    "    print(len(ft_train), len(ft_val))\n",
    "    break\n"
   ]
  },
  {
   "cell_type": "code",
   "execution_count": 5,
   "metadata": {},
   "outputs": [
    {
     "name": "stdout",
     "output_type": "stream",
     "text": [
      "135588 136\n"
     ]
    }
   ],
   "source": [
    "ppt = pd.read_parquet(\"/group-volume/binfeng/wsdm/stage_distill/datap/ppt135k.parquet\")\n",
    "ppt.dropna(inplace=True)\n",
    "ppt[\"text\"] = ppt.apply(lambda x: format_text(tokenizer, x.prompt, x.response_a, x.response_b, \n",
    "                                                max_len=MAX_LENGTH, max_prompt_len=MAX_PROMPT_LENGTH), axis=1)\n",
    "ppt[\"label\"] = ppt.apply(lambda x: format_label(x.winner), axis=1)\n",
    "\n",
    "kf = KFold(n_splits=1000, shuffle=True, random_state=10)\n",
    "for train_index, val_index in kf.split(ppt):\n",
    "    ppt_train, ppt_val = ppt.iloc[train_index], ppt.iloc[val_index]\n",
    "    print(len(ppt_train), len(ppt_val))\n",
    "    break\n"
   ]
  },
  {
   "cell_type": "code",
   "execution_count": null,
   "metadata": {},
   "outputs": [],
   "source": []
  },
  {
   "cell_type": "markdown",
   "metadata": {},
   "source": [
    "## Dataloader"
   ]
  },
  {
   "cell_type": "code",
   "execution_count": 9,
   "metadata": {},
   "outputs": [
    {
     "data": {
      "text/plain": [
       "DatasetDict({\n",
       "    ppt135k_train: Dataset({\n",
       "        features: ['labels', 'logits_qwencd', 'logits_qwen32', 'input_ids', 'attention_mask'],\n",
       "        num_rows: 135588\n",
       "    })\n",
       "    ppt135k_val: Dataset({\n",
       "        features: ['labels', 'logits_qwencd', 'logits_qwen32', 'input_ids', 'attention_mask'],\n",
       "        num_rows: 136\n",
       "    })\n",
       "    ft48k_train: Dataset({\n",
       "        features: ['labels', 'logits_qwencd', 'logits_qwen32', 'input_ids', 'attention_mask'],\n",
       "        num_rows: 47952\n",
       "    })\n",
       "    ft48k_val: Dataset({\n",
       "        features: ['labels', 'logits_qwencd', 'logits_qwen32', 'input_ids', 'attention_mask'],\n",
       "        num_rows: 485\n",
       "    })\n",
       "})"
      ]
     },
     "execution_count": 9,
     "metadata": {},
     "output_type": "execute_result"
    }
   ],
   "source": [
    "def tokenizer_func(example):\n",
    "    return tokenizer(\n",
    "        example[\"text\"], \n",
    "        padding='max_length', \n",
    "        max_length=MAX_LENGTH,\n",
    "        truncation=True,\n",
    "        return_tensors='np'\n",
    "    )\n",
    "\n",
    "\n",
    "ppt_train_dataset = Dataset.from_pandas(ppt_train[[\"text\", \"label\", \"logits_qwencd\", \"logits_qwen32\"]])\n",
    "ppt_val_dataset = Dataset.from_pandas(ppt_val[[\"text\", \"label\", \"logits_qwencd\", \"logits_qwen32\"]])\n",
    "ft_train_dataset = Dataset.from_pandas(ft_train[[\"text\", \"label\", \"logits_qwencd\", \"logits_qwen32\"]])\n",
    "ft_val_dataset = Dataset.from_pandas(ft_val[[\"text\", \"label\", \"logits_qwencd\", \"logits_qwen32\"]])\n",
    "raw_dataset = DatasetDict({\n",
    "    'ppt135k_train': ppt_train_dataset,\n",
    "    'ppt135k_val': ppt_val_dataset,\n",
    "    'ft48k_train': ft_train_dataset,\n",
    "    'ft48k_val': ft_val_dataset,\n",
    "})\n",
    "\n",
    "tokenized_dataset = raw_dataset.map(tokenizer_func, batched=True)\n",
    "tokenized_dataset = tokenized_dataset.rename_column(\"label\", \"labels\")\n",
    "tokenized_dataset = tokenized_dataset.remove_columns(['__index_level_0__', 'text'])\n",
    "tokenized_dataset\n"
   ]
  },
  {
   "cell_type": "code",
   "execution_count": 10,
   "metadata": {},
   "outputs": [
    {
     "data": {
      "text/plain": [
       "[1.9086914, -1.5205078]"
      ]
     },
     "execution_count": 10,
     "metadata": {},
     "output_type": "execute_result"
    }
   ],
   "source": [
    "tokenized_dataset[\"ft48k_train\"][\"logits_qwen32\"][0]"
   ]
  },
  {
   "cell_type": "code",
   "execution_count": 11,
   "metadata": {},
   "outputs": [
    {
     "name": "stdout",
     "output_type": "stream",
     "text": [
      "<|User Prompt|>\n",
      "Je fait un projet en Symfony et je développe actuellement une commande qui prend en paramètre un path vers un CSV puis qui lis ce csv puis deserialize en objet que j'incère ensuite en base de donnée.\n",
      "Ajoute le fait que si les 4 champs sont nuls alors nne pas ajouter en base, utilise la commande déjà existante avec les éléments suivants :\n",
      "\n",
      "```php\n",
      "<?php\n",
      "\n",
      "namespace App\\Entity;\n",
      "\n",
      "use App\\Repository\\FolderRepository;\n",
      "use Doctrine\\DBAL\\Types\\Types;\n",
      "use Doctrine\\ORM\\Mapping as ORM;\n",
      "\n",
      "#[ORM\\Entity(repositoryClass: FolderRepository::class)]\n",
      "class Folder\n",
      "{\n",
      "    #[ORM\\Id]\n",
      "    #[ORM\\GeneratedValue]\n",
      "    #[ORM\\Column]\n",
      "    private ?int $id = null;\n",
      "\n",
      "    #[ORM\\Column(length: 255, nullable: true)]\n",
      "    private ?string $urbaPermissionNumber = null;\n",
      "\n",
      "    #[ORM\\Column(length: 255, nullable: true)]\n",
      "    private ?string $petitionerName = null;\n",
      "\n",
      "    #[ORM\\Column(length: 255, nullable: true)]\n",
      "    private ?string $addressOfWorks = null;\n",
      "\n",
      "    #[ORM\\Column(type: Types::TEXT, nullable: true)]\n",
      "    private ?string $detailsOfWorks = null;\n",
      "\n",
      "    public function getId(): ?int\n",
      "    {\n",
      "        return $this->id;\n",
      "    }\n",
      "\n",
      "    public function getUrbaPermissionNumber(): ?string\n",
      "    {\n",
      "        return $this->urbaPermissionNumber;\n",
      "    }\n",
      "\n",
      "    public function setUrbaPermissionNumber(?string $urbaPermissionNumber): static\n",
      "    {\n",
      "        $this->urbaPermissionNumber = $urbaPermissionNumber;\n",
      "\n",
      "        return $this;\n",
      "    }\n",
      "\n",
      "    public function getPetitionerName(): ?string\n",
      "    {\n",
      "        return $this->petitionerName;\n",
      "    }\n",
      "\n",
      "    public function setPetitionerName(?string $petitionerName): static\n",
      "    {\n",
      "        $this->petitionerName = $petitionerName;\n",
      "\n",
      "        return $this;\n",
      "    }\n",
      "\n",
      "    ... (truncated)\n",
      "\n",
      "<|Response A|>\n",
      "Pour ajouter la condition qui empêche l'insertion des lignes où les quatre champs sont nuls, il suffit d'ajouter une simple condition `if` avant la persistance de l'objet `Folder` dans la base de données.  Voici le code modifié de la commande `ImportFoldersCommand`:\n",
      "\n",
      "```php\n",
      "<?php\n",
      "\n",
      "namespace App\\Command;\n",
      "\n",
      "use App\\Entity\\Folder;\n",
      "use Doctrine\\ORM\\EntityManagerInterface;\n",
      "use Symfony\\Component\\Console\\Attribute\\AsCommand;\n",
      "use Symfony\\Component\\Console\\Command\\Command;\n",
      "use Symfony\\Component\\Console\\Input\\InputArgument;\n",
      "use Symfony\\Component\\Console\\Input\\InputInterface;\n",
      "use Symfony\\Component\\Console\\Output\\OutputInterface;\n",
      "use Symfony\\Component\\Console\\Style\\SymfonyStyle;\n",
      "use Symfony\\Component\\Console\\Helper\\ProgressBar;\n",
      "\n",
      "#[AsCommand(\n",
      "    name: 'urbanisme:importFolders',\n",
      "    description: 'Importe les dossiers depuis un fichier CSV',\n",
      ")]\n",
      "class ImportFoldersCommand extends Command\n",
      "{\n",
      "    private $entityManager;\n",
      "\n",
      "    public function __construct(EntityManagerInterface $entityManager)\n",
      "    {\n",
      "        $this->entityManager = $entityManager;\n",
      "        parent::__construct();\n",
      "    }\n",
      "\n",
      "    protected function configure(): void\n",
      "    {\n",
      "        $this\n",
      "            ->addArgument('pathCSV', InputArgument::REQUIRED, 'Chemin vers le fichier CSV')\n",
      "        ;\n",
      "    }\n",
      "\n",
      "    protected function execute(InputInterface $input, OutputInterface $output): int\n",
      "    {\n",
      "        $io = new SymfonyStyle($input, $output);\n",
      "        $pathCSV = $input->getArgument('pathCSV');\n",
      "\n",
      "        if (!file_exists($pathCSV)) {\n",
      "            $io->error(\"Le fichier CSV spécifié n'existe pas.\");\n",
      "            return Command::FAILURE;\n",
      "        }\n",
      "\n",
      "        $file = fopen($pathCSV, 'r');\n",
      "        if ($file === false) {\n",
      "            $io->error(\"Impossible d'ouvrir le fichier CSV.\");\n",
      "            return Command::FAILURE;\n",
      "        }\n",
      "\n",
      "        // Compter le nombre total de lignes dans le fichier CSV\n",
      "        $lineCount = 0;\n",
      "        while (!feof($file)) {\n",
      "            fgets($file);\n",
      "            $lineCount++;\n",
      "        }\n",
      "        rewind($file); // Revenir au début du fichier\n",
      "\n",
      "        // Ignorer la ligne d'en-tête\n",
      "        fgetcsv($file);\n",
      "        $lineCount--; // Ne pas compter la ligne d'en-tête\n",
      "\n",
      "        $progressBar = new ProgressBar($output, $lineCount);\n",
      "        $progressBar->start();\n",
      "\n",
      "        while (($data = fgetcsv($file)) !== FALSE) {\n",
      "            $folder = new Folder();\n",
      "            $folder->setUrbaPermissionNumber($data[0] ?? null);\n",
      "            $folder->setPetitionerName($data[1] ?? null);\n",
      "            $folder->setAddressOfWorks($data[2] ?? null);\n",
      "            $folder->setDetailsOfWorks($data[3] ?? null);\n",
      "\n",
      "            // Vérifier si tous les champs sont nuls avant de persister\n",
      "            if ($folder->getUrbaPermissionNumber() !== null || $folder->getPetitionerName() !== null || $folder->getAddressOfWorks() !== null || $folder->getDetailsOfWorks() !== null) {\n",
      "                $this->entityManager->persist($folder);\n",
      "            }\n",
      "\n",
      "            // Mettre à jour la barre de progression\n",
      "            $progressBar->advance();\n",
      "        }\n",
      "\n",
      "        fclose($file);\n",
      "\n",
      "        // Sauvegarder les changements dans la base de données\n",
      "        $this->entityManager->flush();\n",
      "\n",
      "        $progressBar->finish();\n",
      "        $io->success(sprintf('Les données ont été importées avec succès depuis %s', $pathCSV));\n",
      "\n",
      "        return Command::SUCCESS;\n",
      "    }\n",
      "}\n",
      "```\n",
      "\n",
      "La modification clé se situe dans l'ajout de la condition  `if ($folder->getUr ... (truncated)\n",
      "\n",
      "<|Response B|>\n",
      "Pour répondre à votre besoin, vous devez modifier la commande `ImportFoldersCommand` afin qu'elle vérifie si les quatre champs de chaque ligne du CSV sont nuls ou vides. Si c'est le cas, cette ligne ne sera pas convertie en objet `Folder` et ne sera donc pas insérée dans la base de données.\n",
      "\n",
      "Voici comment vous pouvez procéder :\n",
      "\n",
      "1. **Ajouter une vérification des champs :** Avant de créer et de persister l'objet `Folder`, vérifiez si tous les quatre champs (`urbaPermissionNumber`, `petitionerName`, `addressOfWorks`, `detailsOfWorks`) sont vides ou nuls. Si c'est le cas, passez à la ligne suivante sans persister l'objet.\n",
      "\n",
      "2. **Utiliser `trim` pour enlever les espaces blancs :** Cela garantit que des champs contenant uniquement des espaces ne sont pas considérés comme remplis.\n",
      "\n",
      "3. **Mettre à jour la barre de progression :** Même si une ligne est ignorée, avancez la barre de progression pour refléter le traitement complet du fichier.\n",
      "\n",
      "### Voici la version mise à jour de votre commande :\n",
      "\n",
      "```php\n",
      "<?php\n",
      "\n",
      "namespace App\\Command;\n",
      "\n",
      "use App\\Entity\\Folder;\n",
      "use Doctrine\\ORM\\EntityManagerInterface;\n",
      "use Symfony\\Component\\Console\\Attribute\\AsCommand;\n",
      "use Symfony\\Component\\Console\\Command\\Command;\n",
      "use Symfony\\Component\\Console\\Input\\InputArgument;\n",
      "use Symfony\\Component\\Console\\Input\\InputInterface;\n",
      "use Symfony\\Component\\Console\\Output\\OutputInterface;\n",
      "use Symfony\\Component\\Console\\Style\\SymfonyStyle;\n",
      "use Symfony\\Component\\Console\\Helper\\ProgressBar;\n",
      "\n",
      "#[AsCommand(\n",
      "    name: 'urbanisme:importFolders',\n",
      "    description: 'Importe les dossiers depuis un fichier CSV',\n",
      ")]\n",
      "class ImportFoldersCommand extends Command\n",
      "{\n",
      "    private $entityManager;\n",
      "\n",
      "    public function __construct(EntityManagerInterface $entityManager)\n",
      "    {\n",
      "        parent::__construct();\n",
      "        $this->entityManager = $entityManager;\n",
      "    }\n",
      "\n",
      "    protected function configure(): void\n",
      "    {\n",
      "        $this\n",
      "            ->addArgument('pathCSV', InputArgument::REQUIRED, 'Chemin vers le fichier CSV')\n",
      "        ;\n",
      "    }\n",
      "\n",
      "    protected function execute(InputInterface $input, OutputInterface $output): int\n",
      "    {\n",
      "        $io = new SymfonyStyle($input, $output);\n",
      "        $pathCSV = $input->getArgument('pathCSV');\n",
      "\n",
      "        if (!file_exists($pathCSV)) {\n",
      "            $io->error(\"Le fichier CSV spécifié n'existe pas.\");\n",
      "            return Command::FAILURE;\n",
      "        }\n",
      "\n",
      "        $file = fopen($pathCSV, 'r');\n",
      "        if ($file === false) {\n",
      "            $io->error(\"Impossible d'ouvrir le fichier CSV.\");\n",
      "            return Command::FAILURE;\n",
      "        }\n",
      "\n",
      "        // Compter le nombre total de lignes dans le fichier CSV\n",
      "        $lineCount = 0;\n",
      "        while (!feof($file)) {\n",
      "            fgets($file);\n",
      "            $lineCount++;\n",
      "        }\n",
      "        rewind($file); // Revenir au début du fichier\n",
      "\n",
      "        // Ignorer la ligne d'en-tête\n",
      "        $header = fgetcsv($file);\n",
      "        $lineCount--; // Ne pas compter la ligne d'en-tête\n",
      "\n",
      "        $progressBar = new ProgressBar($output, $lineCount);\n",
      "        $progressBar->start();\n",
      "\n",
      "        while (($data = fgetcsv($file)) !== FALSE) {\n",
      "            // S'assurer que le tableau $data a au moins 4 éléments\n",
      "            $data = array_pad($data, 4, null);\n",
      "\n",
      "            // Utiliser trim pour enlever les espaces blancs\n",
      "            $urbaPermissionNumber = isset($data[0]) ? trim($data[0]) : null;\n",
      "            ... (truncated)\n",
      "\n",
      "<|Which response do you prefer?|>\n",
      "<|endoftext|><|endoftext|><|endoftext|><|endoftext|><|endoftext|><|endoftext|><|endoftext|><|endoftext|><|endoftext|><|endoftext|><|endoftext|><|endoftext|>\n",
      "**label: 1\n"
     ]
    }
   ],
   "source": [
    "i = 6\n",
    "print(tokenizer.decode(tokenized_dataset[\"ft48k_val\"][i][\"input_ids\"], skip_special_tokens=False))\n",
    "print(\"**label:\", tokenized_dataset[\"ft48k_val\"][i][\"labels\"])"
   ]
  },
  {
   "cell_type": "code",
   "execution_count": 13,
   "metadata": {},
   "outputs": [
    {
     "name": "stderr",
     "output_type": "stream",
     "text": [
      "Saving the dataset (3/3 shards): 100%|██████████| 135588/135588 [00:01<00:00, 121773.25 examples/s]\n",
      "Saving the dataset (1/1 shards): 100%|██████████| 136/136 [00:00<00:00, 19709.94 examples/s]\n",
      "Saving the dataset (1/1 shards): 100%|██████████| 47952/47952 [00:00<00:00, 160534.19 examples/s]\n",
      "Saving the dataset (1/1 shards): 100%|██████████| 485/485 [00:00<00:00, 63857.28 examples/s]\n"
     ]
    }
   ],
   "source": [
    "tokenized_dataset.save_to_disk(\"/group-volume/binfeng/wsdm/data/tokenized_phi4_distill\")"
   ]
  },
  {
   "cell_type": "code",
   "execution_count": 14,
   "metadata": {},
   "outputs": [
    {
     "data": {
      "text/plain": [
       "Dataset({\n",
       "    features: ['labels', 'logits_qwencd', 'logits_qwen32', 'input_ids', 'attention_mask'],\n",
       "    num_rows: 136\n",
       "})"
      ]
     },
     "execution_count": 14,
     "metadata": {},
     "output_type": "execute_result"
    }
   ],
   "source": [
    "tokenized_dataset[\"ppt135k_val\"]"
   ]
  },
  {
   "cell_type": "code",
   "execution_count": null,
   "metadata": {},
   "outputs": [],
   "source": []
  }
 ],
 "metadata": {
  "kernelspec": {
   "display_name": "Python 3",
   "language": "python",
   "name": "python3"
  },
  "language_info": {
   "codemirror_mode": {
    "name": "ipython",
    "version": 3
   },
   "file_extension": ".py",
   "mimetype": "text/x-python",
   "name": "python",
   "nbconvert_exporter": "python",
   "pygments_lexer": "ipython3",
   "version": "3.11.6"
  }
 },
 "nbformat": 4,
 "nbformat_minor": 2
}
